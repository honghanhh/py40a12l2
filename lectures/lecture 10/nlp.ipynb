{
 "cells": [
  {
   "cell_type": "markdown",
   "id": "f5869783-46cd-4ef5-8d80-b1c6eaf559bd",
   "metadata": {
    "id": "f5869783-46cd-4ef5-8d80-b1c6eaf559bd"
   },
   "source": [
    "# Xử lý ngôn ngữ tự nhiên và khai phá dữ liệu văn bản\n",
    "\n",
    "![](https://www.thuatngumarketing.com/wp-content/uploads/2017/12/NLP.png.pagespeed.ce_.1YNuw_5dJH.png)"
   ]
  },
  {
   "cell_type": "markdown",
   "id": "372869b4-6785-4aaa-8abc-3e29d875fb0c",
   "metadata": {
    "id": "372869b4-6785-4aaa-8abc-3e29d875fb0c"
   },
   "source": [
    "## Định nghĩa\n",
    "\n",
    "> **Xử lí ngôn ngữ tự nhiên**: Sử dụng các kỹ thuật phân tích và làm sạch dữ liệu kết hợp với mô hình học máy để khai thác thông tin trong dữ liệu ngôn ngữ.\n",
    "\n",
    "> **Dữ liệu ngôn ngữ**: Nói cho nhau nghe (dữ liệu ngôn ngữ âm thanh) và viết cho nhau đọc (dữ liệu ngôn ngữ văn bản)\n",
    "\n",
    "> **Text Mining**: Kỹ thuật xử lý dữ liệu dạng văn bản và khai thác thông tin từ dữ liệu văn bản.\n",
    "\n",
    "![](https://www.oreilly.com/library/view/practical-natural-language/9781492054047/assets/pnlp_0108.png)\n",
    "\n",
    "## Ứng dụng\n",
    "\n",
    "![](https://www.oreilly.com/library/view/practical-natural-language/9781492054047/assets/pnlp_0101.png)\n",
    "\n",
    "> Tham khảo: [Practical Natural Language Processing by Sowmya Vajjala, Bodhisattwa Majumder, Anuj Gupta, Harshit Surana\n",
    "](https://www.oreilly.com/library/view/practical-natural-language/9781492054047/ch01.html)"
   ]
  },
  {
   "cell_type": "markdown",
   "id": "da1ff90f-7126-4e50-8272-e7bb5ebc5092",
   "metadata": {
    "id": "da1ff90f-7126-4e50-8272-e7bb5ebc5092"
   },
   "source": [
    "## Quy trình\n",
    "\n",
    "> 1. **Preprocessing** (Tiền xử lý) (Làm sạch & Chuẩn hoá dữ liệu)\n",
    "> 2. **Tokenizing** (Tách từ)\n",
    "> 3. **Vectorizing** (Vectơ hóa)\n",
    "> 4. **Modeling** (Xây dựng mô hình)\n",
    "> 5. **Intepreting result & Application** (Ứng dụng)"
   ]
  },
  {
   "cell_type": "markdown",
   "id": "4de5b914-9acd-4e9f-9072-a6663fea3313",
   "metadata": {
    "id": "4de5b914-9acd-4e9f-9072-a6663fea3313"
   },
   "source": [
    "## Công cụ và thư viện\n",
    "\n",
    "1. Python Nature Language Toolkit ([Python NLTK](https://www.nltk.org/)), PyVi hỗ trợ xử lý dữ liệu dạng văn bản.\n",
    "2. Gensim/Tensorflow/Scikit-learn hỗ trợ xây dựng mô hình"
   ]
  },
  {
   "cell_type": "code",
   "execution_count": 1,
   "id": "b358d2f3-fa62-4785-9079-7483d7e139fb",
   "metadata": {},
   "outputs": [],
   "source": [
    "import warnings\n",
    "warnings.filterwarnings(\"ignore\")"
   ]
  },
  {
   "cell_type": "markdown",
   "id": "4da8ab72-48f2-4e8d-b889-1f8637c81797",
   "metadata": {
    "id": "4da8ab72-48f2-4e8d-b889-1f8637c81797"
   },
   "source": [
    "#### 1. Tiền xử lý dữ liệu text (Text preprocessing)"
   ]
  },
  {
   "cell_type": "code",
   "execution_count": 1,
   "id": "a6231fa4-3399-444d-821e-c232c546d41a",
   "metadata": {},
   "outputs": [
    {
     "data": {
      "text/plain": [
       "'    Today is our    last    lesson!  '"
      ]
     },
     "execution_count": 1,
     "metadata": {},
     "output_type": "execute_result"
    }
   ],
   "source": [
    "string = '    Today is our    last    lesson!  '\n",
    "string"
   ]
  },
  {
   "cell_type": "code",
   "execution_count": 4,
   "id": "0c0893a1-d3ed-4c70-954b-5e221fe316b9",
   "metadata": {},
   "outputs": [
    {
     "data": {
      "text/plain": [
       "'Today is our    last    lesson!'"
      ]
     },
     "execution_count": 4,
     "metadata": {},
     "output_type": "execute_result"
    }
   ],
   "source": [
    "string.strip()"
   ]
  },
  {
   "cell_type": "code",
   "execution_count": 5,
   "id": "13741132-dcb4-4562-9ece-047093bf8eb9",
   "metadata": {},
   "outputs": [
    {
     "data": {
      "text/plain": [
       "'Today is our    last    lesson!  '"
      ]
     },
     "execution_count": 5,
     "metadata": {},
     "output_type": "execute_result"
    }
   ],
   "source": [
    "string.lstrip()"
   ]
  },
  {
   "cell_type": "code",
   "execution_count": 6,
   "id": "7c24223d-dbf4-4c86-93f1-dfc3bc524f86",
   "metadata": {},
   "outputs": [
    {
     "data": {
      "text/plain": [
       "'    Today is our    last    lesson!'"
      ]
     },
     "execution_count": 6,
     "metadata": {},
     "output_type": "execute_result"
    }
   ],
   "source": [
    "string.rstrip()"
   ]
  },
  {
   "cell_type": "code",
   "execution_count": 3,
   "id": "d77bc606-38b8-444b-a81f-35cf789b902c",
   "metadata": {},
   "outputs": [
    {
     "data": {
      "text/plain": [
       "'Today is our last lesson!'"
      ]
     },
     "execution_count": 3,
     "metadata": {},
     "output_type": "execute_result"
    }
   ],
   "source": [
    "' '.join(string.split())"
   ]
  },
  {
   "cell_type": "code",
   "execution_count": 7,
   "id": "e9b05423-c3e4-41fb-b93f-cd56fb589fd6",
   "metadata": {},
   "outputs": [
    {
     "data": {
      "text/plain": [
       "'    today is our    last    lesson!  '"
      ]
     },
     "execution_count": 7,
     "metadata": {},
     "output_type": "execute_result"
    }
   ],
   "source": [
    "string.lower()"
   ]
  },
  {
   "cell_type": "code",
   "execution_count": 8,
   "id": "11b0cac1-6e28-47b1-aa7f-cb6f3b80b37d",
   "metadata": {},
   "outputs": [
    {
     "data": {
      "text/plain": [
       "'    TODAY IS OUR    LAST    LESSON!  '"
      ]
     },
     "execution_count": 8,
     "metadata": {},
     "output_type": "execute_result"
    }
   ],
   "source": [
    "string.upper()"
   ]
  },
  {
   "cell_type": "code",
   "execution_count": 9,
   "id": "775d1661-742c-4dd9-9fb4-0411b26e3504",
   "metadata": {},
   "outputs": [
    {
     "data": {
      "text/plain": [
       "'Today is fine'"
      ]
     },
     "execution_count": 9,
     "metadata": {},
     "output_type": "execute_result"
    }
   ],
   "source": [
    "'today is fine'.capitalize()"
   ]
  },
  {
   "cell_type": "code",
   "execution_count": 10,
   "id": "de22dbd6-65bd-44c1-b64a-0eeef830c729",
   "metadata": {},
   "outputs": [
    {
     "data": {
      "text/plain": [
       "'    Today Is Our    Last    Lesson!  '"
      ]
     },
     "execution_count": 10,
     "metadata": {},
     "output_type": "execute_result"
    }
   ],
   "source": [
    "# today is fine -> Today Is Fine\n",
    "string.title()"
   ]
  },
  {
   "cell_type": "markdown",
   "id": "eca6e150-9835-4271-b501-28a591c44702",
   "metadata": {
    "id": "651749cb-7a5f-4843-b816-67b5a34effde"
   },
   "source": [
    "#### TODO: Làm sạch dữ liệu chỉ giữ lại dữ liệu bằng chữ\n",
    "1. Nếu là dữ liệu scrapped từ web thì chỉ trích lọc dữ liệu chứ (text only)\n",
    "2. Loại bỏ hyperlink (nếu có) # https://baophapluat.com # lẫn thành từ word \n",
    "3. Nếu là dữ liệu web thì cần loại bỏ emoji # :smile: :angry:\n",
    "4. Loại bỏ tất cả các dấu (.,\\/!@#$%^&*()+_ etc.)\n",
    "```\n",
    "r'[\\,\\.\\/\\\\\\!\\@\\#\\+\\\"\\'\\;\\)\\(\\“\\”\\\\\\-\\:…&><=\\-\\%\\|\\^\\$\\&\\)\\(\\[\\]\\{\\}\\?\\*\\•]'\n",
    "```\n",
    "5. Loại bỏ tất cả các số\n",
    "6. Loại bỏ các khoảng trắng và đổi text thành lowercase # normalize # T == t"
   ]
  },
  {
   "cell_type": "code",
   "execution_count": 11,
   "id": "4b3c6212-7cfb-430c-8a0e-94866e79eb63",
   "metadata": {},
   "outputs": [],
   "source": [
    "text = '''<head></head>\n",
    "<body>\n",
    "    <p>\n",
    "    Here's 1 paragraph of text 🔥. !\n",
    "    <a href=\"https://www.dataquest.io\">Learn Data Science Online 🤡</a>\n",
    "    </p>\n",
    "    <p>\n",
    "    Here's a 2nd paragraph of text! Further informations at http://mci.com.vn\n",
    "    <a href=\"https://www.python.org\">Python 101</a> </p>\n",
    "</body></html>'''"
   ]
  },
  {
   "cell_type": "code",
   "execution_count": 12,
   "id": "9de58a7c-5770-4a7f-9205-55bb47978198",
   "metadata": {},
   "outputs": [
    {
     "name": "stdout",
     "output_type": "stream",
     "text": [
      "Requirement already satisfied: bs4 in /Users/hanh/miniconda3/envs/hanhtth/lib/python3.8/site-packages (0.0.1)\n",
      "Requirement already satisfied: beautifulsoup4 in /Users/hanh/miniconda3/envs/hanhtth/lib/python3.8/site-packages (from bs4) (4.10.0)\n",
      "Requirement already satisfied: soupsieve>1.2 in /Users/hanh/miniconda3/envs/hanhtth/lib/python3.8/site-packages (from beautifulsoup4->bs4) (2.3.1)\n"
     ]
    }
   ],
   "source": [
    "# 1. Trich loc du lieu text khoi the html\n",
    "!pip install bs4"
   ]
  },
  {
   "cell_type": "code",
   "execution_count": 15,
   "id": "56fd41ed-e696-4006-825f-7566d26cf94c",
   "metadata": {},
   "outputs": [],
   "source": [
    "import bs4\n",
    "def del_html(text):\n",
    "    return bs4.BeautifulSoup(text).get_text('')"
   ]
  },
  {
   "cell_type": "code",
   "execution_count": 16,
   "id": "c681c86b-1866-44a3-b7b4-b7a94c02c6c9",
   "metadata": {},
   "outputs": [
    {
     "data": {
      "text/plain": [
       "\"\\n\\n\\n    Here's 1 paragraph of text 🔥. !\\n    Learn Data Science Online 🤡\\n\\n\\n    Here's a 2nd paragraph of text! Further informations at http://mci.com.vn\\n    Python 101 \\n\""
      ]
     },
     "execution_count": 16,
     "metadata": {},
     "output_type": "execute_result"
    }
   ],
   "source": [
    "text = del_html(text)\n",
    "text"
   ]
  },
  {
   "cell_type": "code",
   "execution_count": 19,
   "id": "70937732-47e9-4cfd-92b2-054879bcf452",
   "metadata": {},
   "outputs": [],
   "source": [
    "# 2. Loai bo duong link\n",
    "import re\n",
    "def del_link(text):\n",
    "    link = r'http[\\S]*'\n",
    "    text = re.sub(link, ' ', str(text))\n",
    "    text = re.sub('\\n', ' ', str(text))\n",
    "    return text"
   ]
  },
  {
   "cell_type": "code",
   "execution_count": 21,
   "id": "a64fd979-0f5a-4f6b-af98-f59784885e83",
   "metadata": {},
   "outputs": [],
   "source": [
    "text = del_link(text)"
   ]
  },
  {
   "cell_type": "code",
   "execution_count": 22,
   "id": "15d92571-ce76-4dbe-81b8-cf2c6ca76598",
   "metadata": {},
   "outputs": [
    {
     "name": "stdout",
     "output_type": "stream",
     "text": [
      "Requirement already satisfied: demoji in /Users/hanh/miniconda3/envs/hanhtth/lib/python3.8/site-packages (1.1.0)\n"
     ]
    }
   ],
   "source": [
    "# 3. Loai bo emoji\n",
    "!pip install demoji"
   ]
  },
  {
   "cell_type": "code",
   "execution_count": 23,
   "id": "23180158-4455-435c-9660-5562f994a850",
   "metadata": {},
   "outputs": [],
   "source": [
    "import demoji\n",
    "def del_emoji(text):\n",
    "    return demoji.replace(text, '')"
   ]
  },
  {
   "cell_type": "code",
   "execution_count": 26,
   "id": "f7d4db8a-0f70-4965-9dc8-6d5e5aae3b9c",
   "metadata": {},
   "outputs": [],
   "source": [
    "text = del_emoji(text)"
   ]
  },
  {
   "cell_type": "code",
   "execution_count": 27,
   "id": "6078618d-8f0a-45af-9cb5-6c236a6f98f2",
   "metadata": {},
   "outputs": [],
   "source": [
    "# 4. Loai punctuation\n",
    "def del_punctuation(text):\n",
    "    remPunc = r'[\\,\\.\\/\\\\\\!\\@\\#\\+\\\"\\'\\;\\)\\(\\“\\”\\\\\\-\\:…&><=\\-\\%\\|\\^\\$\\&\\)\\(\\[\\]\\{\\}\\?\\*\\•]'\n",
    "    text = re.sub(remPunc, \" \", str(text))\n",
    "    return text"
   ]
  },
  {
   "cell_type": "code",
   "execution_count": 28,
   "id": "4d54684e-e715-4403-bf5a-da640a9647b1",
   "metadata": {},
   "outputs": [
    {
     "data": {
      "text/plain": [
       "'       Here s 1 paragraph of text         Learn Data Science Online        Here s a 2nd paragraph of text  Further informations at       Python 101  '"
      ]
     },
     "execution_count": 28,
     "metadata": {},
     "output_type": "execute_result"
    }
   ],
   "source": [
    "text = del_punctuation(text)\n",
    "text"
   ]
  },
  {
   "cell_type": "code",
   "execution_count": 29,
   "id": "d3e947bf-6d36-4882-bc50-bb1ff3bba3a9",
   "metadata": {},
   "outputs": [
    {
     "data": {
      "text/plain": [
       "'       Here s   paragraph of text         Learn Data Science Online        Here s a  nd paragraph of text  Further informations at       Python    '"
      ]
     },
     "execution_count": 29,
     "metadata": {},
     "output_type": "execute_result"
    }
   ],
   "source": [
    "def del_numbers(text):\n",
    "    return re.sub('\\d+',' ', text)\n",
    "\n",
    "text = del_numbers(text)\n",
    "text"
   ]
  },
  {
   "cell_type": "code",
   "execution_count": 32,
   "id": "961499c4-a5e4-4767-ae49-89796c189f40",
   "metadata": {},
   "outputs": [
    {
     "data": {
      "text/plain": [
       "'here s paragraph of text learn data science online here s a nd paragraph of text further informations at python'"
      ]
     },
     "execution_count": 32,
     "metadata": {},
     "output_type": "execute_result"
    }
   ],
   "source": [
    "def del_space(text):\n",
    "    return re.sub('\\s+',' ', text).strip().lower()\n",
    "\n",
    "text = del_space(text)\n",
    "text"
   ]
  },
  {
   "cell_type": "markdown",
   "id": "33b68c79-1881-42a6-810c-578ced6c6dd1",
   "metadata": {},
   "source": [
    "#### 2. Tách từ (Tokenization)"
   ]
  },
  {
   "cell_type": "code",
   "execution_count": 33,
   "id": "18e3028c-bcd7-4a31-8c36-2ba240740457",
   "metadata": {},
   "outputs": [
    {
     "data": {
      "text/plain": [
       "['h',\n",
       " 'e',\n",
       " 'r',\n",
       " 'e',\n",
       " ' ',\n",
       " 's',\n",
       " ' ',\n",
       " 'p',\n",
       " 'a',\n",
       " 'r',\n",
       " 'a',\n",
       " 'g',\n",
       " 'r',\n",
       " 'a',\n",
       " 'p',\n",
       " 'h',\n",
       " ' ',\n",
       " 'o',\n",
       " 'f',\n",
       " ' ',\n",
       " 't',\n",
       " 'e',\n",
       " 'x',\n",
       " 't',\n",
       " ' ',\n",
       " 'l',\n",
       " 'e',\n",
       " 'a',\n",
       " 'r',\n",
       " 'n',\n",
       " ' ',\n",
       " 'd',\n",
       " 'a',\n",
       " 't',\n",
       " 'a',\n",
       " ' ',\n",
       " 's',\n",
       " 'c',\n",
       " 'i',\n",
       " 'e',\n",
       " 'n',\n",
       " 'c',\n",
       " 'e',\n",
       " ' ',\n",
       " 'o',\n",
       " 'n',\n",
       " 'l',\n",
       " 'i',\n",
       " 'n',\n",
       " 'e',\n",
       " ' ',\n",
       " 'h',\n",
       " 'e',\n",
       " 'r',\n",
       " 'e',\n",
       " ' ',\n",
       " 's',\n",
       " ' ',\n",
       " 'a',\n",
       " ' ',\n",
       " 'n',\n",
       " 'd',\n",
       " ' ',\n",
       " 'p',\n",
       " 'a',\n",
       " 'r',\n",
       " 'a',\n",
       " 'g',\n",
       " 'r',\n",
       " 'a',\n",
       " 'p',\n",
       " 'h',\n",
       " ' ',\n",
       " 'o',\n",
       " 'f',\n",
       " ' ',\n",
       " 't',\n",
       " 'e',\n",
       " 'x',\n",
       " 't',\n",
       " ' ',\n",
       " 'f',\n",
       " 'u',\n",
       " 'r',\n",
       " 't',\n",
       " 'h',\n",
       " 'e',\n",
       " 'r',\n",
       " ' ',\n",
       " 'i',\n",
       " 'n',\n",
       " 'f',\n",
       " 'o',\n",
       " 'r',\n",
       " 'm',\n",
       " 'a',\n",
       " 't',\n",
       " 'i',\n",
       " 'o',\n",
       " 'n',\n",
       " 's',\n",
       " ' ',\n",
       " 'a',\n",
       " 't',\n",
       " ' ',\n",
       " 'p',\n",
       " 'y',\n",
       " 't',\n",
       " 'h',\n",
       " 'o',\n",
       " 'n']"
      ]
     },
     "execution_count": 33,
     "metadata": {},
     "output_type": "execute_result"
    }
   ],
   "source": [
    "# ['h', 'e','r' ...]\n",
    "def split_char(text): #character tokenize\n",
    "    return [char for char in text]\n",
    "\n",
    "split_char(text)"
   ]
  },
  {
   "cell_type": "code",
   "execution_count": 34,
   "id": "95bacc57-9def-4e51-bdc5-3fb528a287a1",
   "metadata": {},
   "outputs": [
    {
     "data": {
      "text/plain": [
       "['here',\n",
       " 's',\n",
       " 'paragraph',\n",
       " 'of',\n",
       " 'text',\n",
       " 'learn',\n",
       " 'data',\n",
       " 'science',\n",
       " 'online',\n",
       " 'here',\n",
       " 's',\n",
       " 'a',\n",
       " 'nd',\n",
       " 'paragraph',\n",
       " 'of',\n",
       " 'text',\n",
       " 'further',\n",
       " 'informations',\n",
       " 'at',\n",
       " 'python']"
      ]
     },
     "execution_count": 34,
     "metadata": {},
     "output_type": "execute_result"
    }
   ],
   "source": [
    "text.split() # word tokenize"
   ]
  },
  {
   "cell_type": "code",
   "execution_count": 35,
   "id": "994336d3-d069-46b5-b9de-58ddc53876db",
   "metadata": {},
   "outputs": [
    {
     "name": "stdout",
     "output_type": "stream",
     "text": [
      "Requirement already satisfied: nltk in /Users/hanh/miniconda3/envs/hanhtth/lib/python3.8/site-packages (3.6.2)\n",
      "Requirement already satisfied: click in /Users/hanh/miniconda3/envs/hanhtth/lib/python3.8/site-packages (from nltk) (7.1.2)\n",
      "Requirement already satisfied: tqdm in /Users/hanh/miniconda3/envs/hanhtth/lib/python3.8/site-packages (from nltk) (4.62.2)\n",
      "Requirement already satisfied: regex in /Users/hanh/miniconda3/envs/hanhtth/lib/python3.8/site-packages (from nltk) (2021.8.28)\n",
      "Requirement already satisfied: joblib in /Users/hanh/miniconda3/envs/hanhtth/lib/python3.8/site-packages (from nltk) (1.0.1)\n"
     ]
    }
   ],
   "source": [
    "!pip install nltk"
   ]
  },
  {
   "cell_type": "code",
   "execution_count": 38,
   "id": "46aa72de-bbbd-4a46-b254-2019cd3e3f74",
   "metadata": {},
   "outputs": [
    {
     "name": "stderr",
     "output_type": "stream",
     "text": [
      "[nltk_data] Downloading package punkt to /Users/hanh/nltk_data...\n",
      "[nltk_data]   Package punkt is already up-to-date!\n"
     ]
    },
    {
     "data": {
      "text/plain": [
       "True"
      ]
     },
     "execution_count": 38,
     "metadata": {},
     "output_type": "execute_result"
    }
   ],
   "source": [
    "import nltk\n",
    "nltk.download('punkt')"
   ]
  },
  {
   "cell_type": "code",
   "execution_count": 39,
   "id": "3007f577-f59b-4414-98c7-3a9a77226427",
   "metadata": {},
   "outputs": [
    {
     "data": {
      "text/plain": [
       "['Today is our last lesson.', 'Wish you all happy learning!']"
      ]
     },
     "execution_count": 39,
     "metadata": {},
     "output_type": "execute_result"
    }
   ],
   "source": [
    "nltk.word_tokenize(text)\n",
    "nltk.sent_tokenize('Today is our last lesson. Wish you all happy learning!')"
   ]
  },
  {
   "cell_type": "code",
   "execution_count": 41,
   "id": "7a82851b-2e93-4662-b170-c0b26a0b742b",
   "metadata": {},
   "outputs": [
    {
     "data": {
      "text/plain": [
       "['Học', 'sinh', 'phải', 'học', 'sinh', 'học']"
      ]
     },
     "execution_count": 41,
     "metadata": {},
     "output_type": "execute_result"
    }
   ],
   "source": [
    "text1 = 'Học sinh phải học sinh học'\n",
    "nltk.word_tokenize(text1)"
   ]
  },
  {
   "cell_type": "code",
   "execution_count": 42,
   "id": "caf60306-822d-44c9-a157-df4351840f46",
   "metadata": {},
   "outputs": [
    {
     "name": "stdout",
     "output_type": "stream",
     "text": [
      "Requirement already satisfied: pyvi in /Users/hanh/miniconda3/envs/hanhtth/lib/python3.8/site-packages (0.1.1)\n",
      "Requirement already satisfied: sklearn-crfsuite in /Users/hanh/miniconda3/envs/hanhtth/lib/python3.8/site-packages (from pyvi) (0.3.6)\n",
      "Requirement already satisfied: scikit-learn in /Users/hanh/miniconda3/envs/hanhtth/lib/python3.8/site-packages (from pyvi) (1.0.1)\n",
      "Requirement already satisfied: numpy>=1.14.6 in /Users/hanh/miniconda3/envs/hanhtth/lib/python3.8/site-packages (from scikit-learn->pyvi) (1.20.3)\n",
      "Requirement already satisfied: joblib>=0.11 in /Users/hanh/miniconda3/envs/hanhtth/lib/python3.8/site-packages (from scikit-learn->pyvi) (1.0.1)\n",
      "Requirement already satisfied: threadpoolctl>=2.0.0 in /Users/hanh/miniconda3/envs/hanhtth/lib/python3.8/site-packages (from scikit-learn->pyvi) (2.2.0)\n",
      "Requirement already satisfied: scipy>=1.1.0 in /Users/hanh/miniconda3/envs/hanhtth/lib/python3.8/site-packages (from scikit-learn->pyvi) (1.6.2)\n",
      "Requirement already satisfied: tabulate in /Users/hanh/miniconda3/envs/hanhtth/lib/python3.8/site-packages (from sklearn-crfsuite->pyvi) (0.8.9)\n",
      "Requirement already satisfied: tqdm>=2.0 in /Users/hanh/miniconda3/envs/hanhtth/lib/python3.8/site-packages (from sklearn-crfsuite->pyvi) (4.62.2)\n",
      "Requirement already satisfied: six in /Users/hanh/miniconda3/envs/hanhtth/lib/python3.8/site-packages (from sklearn-crfsuite->pyvi) (1.16.0)\n",
      "Requirement already satisfied: python-crfsuite>=0.8.3 in /Users/hanh/miniconda3/envs/hanhtth/lib/python3.8/site-packages (from sklearn-crfsuite->pyvi) (0.9.7)\n"
     ]
    }
   ],
   "source": [
    "# pyvi, underthesea\n",
    "!pip install pyvi"
   ]
  },
  {
   "cell_type": "code",
   "execution_count": 43,
   "id": "48efe623-8928-41b1-9302-6241c5081d8a",
   "metadata": {},
   "outputs": [
    {
     "data": {
      "text/plain": [
       "'Học_sinh phải học_sinh_học'"
      ]
     },
     "execution_count": 43,
     "metadata": {},
     "output_type": "execute_result"
    }
   ],
   "source": [
    "from pyvi.ViTokenizer import tokenize\n",
    "tokenize(text1)"
   ]
  },
  {
   "cell_type": "markdown",
   "id": "c8a08781-af2e-4d77-b24c-6a18078d7743",
   "metadata": {},
   "source": [
    "#### Tổng hợp"
   ]
  },
  {
   "cell_type": "code",
   "execution_count": 45,
   "id": "54974ecd-bd75-4687-8a56-75355af6d9bb",
   "metadata": {},
   "outputs": [],
   "source": [
    "def clean_text(text): # làm sạch dữ liệu từ đầu tới cuối\n",
    "    text = del_html(text)\n",
    "    text = del_link(text)\n",
    "    text = del_numbers(text)\n",
    "    text = del_emoji(text)\n",
    "    text = del_punctuation(text)\n",
    "    text = del_space(text)\n",
    "    return tokenize(text)"
   ]
  },
  {
   "cell_type": "code",
   "execution_count": 46,
   "id": "b093abad-5a08-479b-be6c-114a94e76469",
   "metadata": {},
   "outputs": [
    {
     "data": {
      "text/html": [
       "<div>\n",
       "<style scoped>\n",
       "    .dataframe tbody tr th:only-of-type {\n",
       "        vertical-align: middle;\n",
       "    }\n",
       "\n",
       "    .dataframe tbody tr th {\n",
       "        vertical-align: top;\n",
       "    }\n",
       "\n",
       "    .dataframe thead th {\n",
       "        text-align: right;\n",
       "    }\n",
       "</style>\n",
       "<table border=\"1\" class=\"dataframe\">\n",
       "  <thead>\n",
       "    <tr style=\"text-align: right;\">\n",
       "      <th></th>\n",
       "      <th>title</th>\n",
       "      <th>snippet</th>\n",
       "      <th>content</th>\n",
       "    </tr>\n",
       "  </thead>\n",
       "  <tbody>\n",
       "    <tr>\n",
       "      <th>0</th>\n",
       "      <td>Thủ tướng: Khác với đa số các nước, dư địa chí...</td>\n",
       "      <td>(Tổ Quốc) - Với bối cảnh hiện nay, Hội đồng Tư...</td>\n",
       "      <td>Sáng ngày 9/7, Hội đồng Tư vấn chính sách tài ...</td>\n",
       "    </tr>\n",
       "    <tr>\n",
       "      <th>1</th>\n",
       "      <td>Thống nhất kịch bản tăng trưởng 3-4%, lạm phát...</td>\n",
       "      <td>Tại cuộc họp Hội đồng Tư vấn chính sách tài ch...</td>\n",
       "      <td>Tham dự cuộc họp có Thống đốc NHNN Lê Minh Hưn...</td>\n",
       "    </tr>\n",
       "    <tr>\n",
       "      <th>2</th>\n",
       "      <td>Đề xuất tăng liều lượng gói kích thích kinh tế...</td>\n",
       "      <td>Chuyên gia đề xuất do dịch bệnh Covid-19 còn k...</td>\n",
       "      <td>Sáng 9/7, Thủ tướng Nguyễn Xuân Phúc chủ trì h...</td>\n",
       "    </tr>\n",
       "    <tr>\n",
       "      <th>3</th>\n",
       "      <td>Thủ tướng: Khác với đa số các nước, dư địa chí...</td>\n",
       "      <td>Với bối cảnh hiện nay, Hội đồng Tư vấn chính s...</td>\n",
       "      <td>Với bối cảnh hiện nay, Hội đồng Tư vấn chính s...</td>\n",
       "    </tr>\n",
       "    <tr>\n",
       "      <th>4</th>\n",
       "      <td>Tác động từ chính sách tín dụng: BĐS có thể đó...</td>\n",
       "      <td>Động thái thắt chặt hay nới lỏng của chính sác...</td>\n",
       "      <td>Lời tòa soạn Thị trường bất động sản ngày càng...</td>\n",
       "    </tr>\n",
       "  </tbody>\n",
       "</table>\n",
       "</div>"
      ],
      "text/plain": [
       "                                               title  \\\n",
       "0  Thủ tướng: Khác với đa số các nước, dư địa chí...   \n",
       "1  Thống nhất kịch bản tăng trưởng 3-4%, lạm phát...   \n",
       "2  Đề xuất tăng liều lượng gói kích thích kinh tế...   \n",
       "3  Thủ tướng: Khác với đa số các nước, dư địa chí...   \n",
       "4  Tác động từ chính sách tín dụng: BĐS có thể đó...   \n",
       "\n",
       "                                             snippet  \\\n",
       "0  (Tổ Quốc) - Với bối cảnh hiện nay, Hội đồng Tư...   \n",
       "1  Tại cuộc họp Hội đồng Tư vấn chính sách tài ch...   \n",
       "2  Chuyên gia đề xuất do dịch bệnh Covid-19 còn k...   \n",
       "3  Với bối cảnh hiện nay, Hội đồng Tư vấn chính s...   \n",
       "4  Động thái thắt chặt hay nới lỏng của chính sác...   \n",
       "\n",
       "                                             content  \n",
       "0  Sáng ngày 9/7, Hội đồng Tư vấn chính sách tài ...  \n",
       "1  Tham dự cuộc họp có Thống đốc NHNN Lê Minh Hưn...  \n",
       "2  Sáng 9/7, Thủ tướng Nguyễn Xuân Phúc chủ trì h...  \n",
       "3  Với bối cảnh hiện nay, Hội đồng Tư vấn chính s...  \n",
       "4  Lời tòa soạn Thị trường bất động sản ngày càng...  "
      ]
     },
     "execution_count": 46,
     "metadata": {},
     "output_type": "execute_result"
    }
   ],
   "source": [
    "import numpy as np\n",
    "import pandas as pd\n",
    "\n",
    "data = pd.read_json('https://github.com/honghanhh/mci_python_36a1_l2/raw/main/Lectures/lecture_09/data.json')\n",
    "data.head(5)"
   ]
  },
  {
   "cell_type": "code",
   "execution_count": 47,
   "id": "bd9af0b6-7c27-4c71-b4b6-f8f3b0f87696",
   "metadata": {},
   "outputs": [
    {
     "data": {
      "text/html": [
       "<div>\n",
       "<style scoped>\n",
       "    .dataframe tbody tr th:only-of-type {\n",
       "        vertical-align: middle;\n",
       "    }\n",
       "\n",
       "    .dataframe tbody tr th {\n",
       "        vertical-align: top;\n",
       "    }\n",
       "\n",
       "    .dataframe thead th {\n",
       "        text-align: right;\n",
       "    }\n",
       "</style>\n",
       "<table border=\"1\" class=\"dataframe\">\n",
       "  <thead>\n",
       "    <tr style=\"text-align: right;\">\n",
       "      <th></th>\n",
       "      <th>title</th>\n",
       "      <th>snippet</th>\n",
       "      <th>content</th>\n",
       "      <th>corpus</th>\n",
       "    </tr>\n",
       "  </thead>\n",
       "  <tbody>\n",
       "    <tr>\n",
       "      <th>0</th>\n",
       "      <td>Thủ tướng: Khác với đa số các nước, dư địa chí...</td>\n",
       "      <td>(Tổ Quốc) - Với bối cảnh hiện nay, Hội đồng Tư...</td>\n",
       "      <td>Sáng ngày 9/7, Hội đồng Tư vấn chính sách tài ...</td>\n",
       "      <td>Thủ tướng: Khác với đa số các nước, dư địa chí...</td>\n",
       "    </tr>\n",
       "    <tr>\n",
       "      <th>1</th>\n",
       "      <td>Thống nhất kịch bản tăng trưởng 3-4%, lạm phát...</td>\n",
       "      <td>Tại cuộc họp Hội đồng Tư vấn chính sách tài ch...</td>\n",
       "      <td>Tham dự cuộc họp có Thống đốc NHNN Lê Minh Hưn...</td>\n",
       "      <td>Thống nhất kịch bản tăng trưởng 3-4%, lạm phát...</td>\n",
       "    </tr>\n",
       "    <tr>\n",
       "      <th>2</th>\n",
       "      <td>Đề xuất tăng liều lượng gói kích thích kinh tế...</td>\n",
       "      <td>Chuyên gia đề xuất do dịch bệnh Covid-19 còn k...</td>\n",
       "      <td>Sáng 9/7, Thủ tướng Nguyễn Xuân Phúc chủ trì h...</td>\n",
       "      <td>Đề xuất tăng liều lượng gói kích thích kinh tế...</td>\n",
       "    </tr>\n",
       "    <tr>\n",
       "      <th>3</th>\n",
       "      <td>Thủ tướng: Khác với đa số các nước, dư địa chí...</td>\n",
       "      <td>Với bối cảnh hiện nay, Hội đồng Tư vấn chính s...</td>\n",
       "      <td>Với bối cảnh hiện nay, Hội đồng Tư vấn chính s...</td>\n",
       "      <td>Thủ tướng: Khác với đa số các nước, dư địa chí...</td>\n",
       "    </tr>\n",
       "    <tr>\n",
       "      <th>4</th>\n",
       "      <td>Tác động từ chính sách tín dụng: BĐS có thể đó...</td>\n",
       "      <td>Động thái thắt chặt hay nới lỏng của chính sác...</td>\n",
       "      <td>Lời tòa soạn Thị trường bất động sản ngày càng...</td>\n",
       "      <td>Tác động từ chính sách tín dụng: BĐS có thể đó...</td>\n",
       "    </tr>\n",
       "  </tbody>\n",
       "</table>\n",
       "</div>"
      ],
      "text/plain": [
       "                                               title  \\\n",
       "0  Thủ tướng: Khác với đa số các nước, dư địa chí...   \n",
       "1  Thống nhất kịch bản tăng trưởng 3-4%, lạm phát...   \n",
       "2  Đề xuất tăng liều lượng gói kích thích kinh tế...   \n",
       "3  Thủ tướng: Khác với đa số các nước, dư địa chí...   \n",
       "4  Tác động từ chính sách tín dụng: BĐS có thể đó...   \n",
       "\n",
       "                                             snippet  \\\n",
       "0  (Tổ Quốc) - Với bối cảnh hiện nay, Hội đồng Tư...   \n",
       "1  Tại cuộc họp Hội đồng Tư vấn chính sách tài ch...   \n",
       "2  Chuyên gia đề xuất do dịch bệnh Covid-19 còn k...   \n",
       "3  Với bối cảnh hiện nay, Hội đồng Tư vấn chính s...   \n",
       "4  Động thái thắt chặt hay nới lỏng của chính sác...   \n",
       "\n",
       "                                             content  \\\n",
       "0  Sáng ngày 9/7, Hội đồng Tư vấn chính sách tài ...   \n",
       "1  Tham dự cuộc họp có Thống đốc NHNN Lê Minh Hưn...   \n",
       "2  Sáng 9/7, Thủ tướng Nguyễn Xuân Phúc chủ trì h...   \n",
       "3  Với bối cảnh hiện nay, Hội đồng Tư vấn chính s...   \n",
       "4  Lời tòa soạn Thị trường bất động sản ngày càng...   \n",
       "\n",
       "                                              corpus  \n",
       "0  Thủ tướng: Khác với đa số các nước, dư địa chí...  \n",
       "1  Thống nhất kịch bản tăng trưởng 3-4%, lạm phát...  \n",
       "2  Đề xuất tăng liều lượng gói kích thích kinh tế...  \n",
       "3  Thủ tướng: Khác với đa số các nước, dư địa chí...  \n",
       "4  Tác động từ chính sách tín dụng: BĐS có thể đó...  "
      ]
     },
     "execution_count": 47,
     "metadata": {},
     "output_type": "execute_result"
    }
   ],
   "source": [
    "data['corpus'] = data.apply(lambda x: ' '.join(x), axis=1)\n",
    "data.head(5)"
   ]
  },
  {
   "cell_type": "code",
   "execution_count": 48,
   "id": "74275c6e-9f95-46cb-a42b-6c14276b834a",
   "metadata": {},
   "outputs": [
    {
     "data": {
      "text/plain": [
       "'thủ_tướng khác với đa_số các nước dư địa_chính_sách tài khóa tiền_tệ của việt nam còn khá lớn tổ_quốc với bối_cảnh hiện_nay hội_đồng tư_vấn chính_sách tài_chính tiền_tệ quốc_gia thống_nhất kịch_bản tăng_trưởng từ kiểm_soát lạm_phát dưới năm và đầu tăng_trưởng tín_dụng trên chủ_trương tăng thêm bội_chi ngân_sách nợ công khoảng gdp sáng ngày hội_đồng tư_vấn chính_sách tài_chính tiền_tệ quốc_gia đã họp dưới sự chủ_trì của thủ_tướng nguyễn xuân phúc chủ_tịch hội_đồng dư địa_chính_sách tài khóa tiền_tệ còn lớn thủ_tướng nguyễn xuân phúc cho rằng dịch_bệnh covid bùng_phát diện rộng trên toàn_cầu diễn_biến phức_tạp chưa dừng lại nhất_là tại các đối_tác lớn của nước ta kinh_tế toàn_cầu sụt_giảm mạnh nhiều tổ_chức quốc_tế dự_báo kinh_tế thế_giới tăng_trưởng âm trong năm nay trong bối_cảnh đó hầu_hết các nước đều nới lỏng chính_sách tài_chính tiền_tệ với mức_độ chưa từng có theo thống_kê mới nhất nếu tháng tổng_các gói kích_thích tài khóa mới là tỷ usd thì đến nay đã tăng lên tỷ usd chưa có dấu_hiệu dừng lại về tình_hình trong nước theo thủ_tướng chúng_ta là một trong những nước kiểm_soát dịch_bệnh sớm nhất gần tháng qua không có ca lây_nhiễm mới trong cộng_đồng và đang tích_cực thực_hiện mục_tiêu kép hiện_nay các cân_đối lớn của nền kinh_tế đều giữ vững các lĩnh_vực trọng_yếu có xu_hướng đi lên mạnh_mẽ tuy_nhiên thủ_tướng lưu_ý cần nhận_diện rõ rủi_ro đưa ra các biện_pháp điều_hành đồng_bộ hiệu_quả hơn để giữ ổn_định vĩ_mô kiểm_soát lạm_phát dưới khác với đa_số các nước dư địa_chính_sách tài khóa tiền_tệ của chúng_ta còn khá lớn cho kích_thích tổng_cầu thúc_đẩy tăng_trưởng cần chính_sách phục_hồi phát_triển kinh_tế dài_hạn cho cả năm tại cuộc họp các thành_viên hội_đồng nhận_định tình_hình_thế_giới khu_vực tiếp_tục diễn_biến phức_tạp khó lường dịch_bệnh chưa kết_thúc trong năm nay mà có_thể kéo_dài trong thời_gian tới do vậy có ý_kiến cho rằng gói chính_sách phục_hồi phát_triển kinh_tế phải mang tính dài_hạn cho cả năm chứ không chỉ trong năm nay với tinh_thần tiến_công kinh_tế trong khi phòng_thủ dịch_bệnh chuyên_gia bùi đức thụ cho rằng cứu_trợ doanh_nghiệp là việc cần làm nhưng gia_tăng sức_sống cho doanh_nghiệp không_thể chỉ làm trong năm ngoài cơ_chế hỗ_trợ khắc_phục ảnh_hưởng của covid cần có các chính_sách hỗ_trợ đặc_biệt phục_vụ tái_cơ_cấu doanh_nghiệp mạnh hơn không chỉ tái_cơ_cấu thị_trường đầu_vào đầu_tư mà cả lao_động tăng sức chống chịu của nền kinh_tế thực_lực doanh_nghiệp của chúng_ta còn yếu đặc_biệt đa_số là doanh_nghiệp vừa và nhỏ ts trần đình thiên nhận_định do đó không chỉ cứu cái cũ mà còn cần tạo cả cái mới tức_là bên cạnh hỗ_trợ doanh_nghiệp cần thúc_đẩy khởi_nghiệp sáng_tạo trong tình_thế khó_khăn này cần tính tới các biện_pháp xử_lý nợ xấu ts trần đình thiên đề_nghị chính_phủ nhà_nước phải là người mua hàng lớn nhất đối_với các sản_phẩm made in việt nam một_số thành_viên kiến_nghị so với các nước thì gói hỗ_trợ tài khóa của chúng_ta là ít_nhất do đó cần tập_trung vào gói này nhiều hơn cũng như tăng quy_mô các gói hỗ_trợ nhất là cho ngành_hàng không_kích_cầu nội_địa cũng_nên hướng vào kích_cầu du_lịch bán_lẻ tín_dụng tiêu_dùng ngành ngân_hàng cần tiếp_tục hạ_lãi_suất cho vay hội_đồng tư_vấn chính_sách tài_chính tiền_tệ quốc_gia đã thống_nhất kịch_bản tăng_trưởng từ kiểm_soát lạm_phát dưới năm và đầu tăng_trưởng tín_dụng trên chủ_trương tăng thêm bội_chi ngân_sách nợ công khoảng gdp để có thêm nguồn_lực chúng_ta chuẩn_bị sẵn_sàng để có_thể hỗ_trợ doanh_nghiệp kiên_quyết bảo_vệ hệ_thống doanh_nghiệp không để đứt_gãy mất năng_lực sản_xuất trong những ngành lĩnh_vực trọng_yếu ngành ngân_hàng tiếp_tục xem_xét giảm lãi_suất chia_sẻ khó_khăn với doanh_nghiệp và người dân tiếp_tục tiết_kiệm chi thường_xuyên cắt_giảm các khoản chi_hội_nghị hội_thảo dành nguồn_lực cho những nhiệm_vụ cấp_bách chống dịch hỗ_trợ kịp_thời cho người dân doanh_nghiệp'"
      ]
     },
     "execution_count": 48,
     "metadata": {},
     "output_type": "execute_result"
    }
   ],
   "source": [
    "data['corpus'] = data['corpus'].apply(clean_text) #corpora #subword dying dy_ #ing\n",
    "data['corpus'].iloc[0]"
   ]
  },
  {
   "cell_type": "markdown",
   "id": "aa513f1e-0125-4cdc-a268-883af940025b",
   "metadata": {
    "id": "aa513f1e-0125-4cdc-a268-883af940025b"
   },
   "source": [
    "#### 3. Mã hóa dữ liệu text (Word embedding)"
   ]
  },
  {
   "cell_type": "code",
   "execution_count": 49,
   "id": "ec8aaf76-389f-482d-a898-0987c1056da9",
   "metadata": {},
   "outputs": [],
   "source": [
    "from sklearn.feature_extraction.text import CountVectorizer #stopwords - Anh\n",
    "count_vect = CountVectorizer()\n",
    "X_train_counts = count_vect.fit_transform(data['corpus'])\n"
   ]
  },
  {
   "cell_type": "code",
   "execution_count": 50,
   "id": "bc7d3e92-ff31-4000-8d92-bcf86b1da4ce",
   "metadata": {},
   "outputs": [
    {
     "data": {
      "text/plain": [
       "(876, 5742)"
      ]
     },
     "execution_count": 50,
     "metadata": {},
     "output_type": "execute_result"
    }
   ],
   "source": [
    "X_train_counts.shape # (so dong, so token co trong bo du lieu)"
   ]
  },
  {
   "cell_type": "code",
   "execution_count": 52,
   "id": "5885764a-fbc7-400a-a1c2-60a53d925a18",
   "metadata": {},
   "outputs": [],
   "source": [
    "# TFIDF = Term Frequency - Inverse Document Frequency\n",
    "from sklearn.feature_extraction.text import TfidfTransformer\n",
    "tf_transformer = TfidfTransformer()#.fit(X_train_counts)\n",
    "X_train_tf = tf_transformer.fit(X_train_counts).transform(X_train_counts)"
   ]
  },
  {
   "cell_type": "code",
   "execution_count": 53,
   "id": "aae5a14e-b2ef-4dd0-974b-f6d34a5f29fc",
   "metadata": {},
   "outputs": [
    {
     "data": {
      "text/plain": [
       "(876, 5742)"
      ]
     },
     "execution_count": 53,
     "metadata": {},
     "output_type": "execute_result"
    }
   ],
   "source": [
    "# model = MODEL()\n",
    "# model.fit(X_train_tf, y_train)"
   ]
  },
  {
   "cell_type": "markdown",
   "id": "3b347065-59af-414d-8fee-f37389be5b5d",
   "metadata": {
    "id": "3b347065-59af-414d-8fee-f37389be5b5d"
   },
   "source": [
    "### Khai phá dữ liệu text (Text Mining)"
   ]
  },
  {
   "cell_type": "code",
   "execution_count": 5,
   "id": "c21cbd5e-23d3-44bf-93f0-f64def20cc4e",
   "metadata": {},
   "outputs": [
    {
     "data": {
      "text/plain": [
       "['It was the best of times',\n",
       " 'It was the worst of times',\n",
       " 'It was the age of wisdom',\n",
       " 'It was the age of foolishness']"
      ]
     },
     "execution_count": 5,
     "metadata": {},
     "output_type": "execute_result"
    }
   ],
   "source": [
    "sentences = [\n",
    "    'It was the best of times', # best times\n",
    "    'It was the worst of times', # worst times\n",
    "    'It was the age of wisdom', # age wisdom\n",
    "    'It was the age of foolishness' # age foolishness\n",
    "]\n",
    "sentences"
   ]
  },
  {
   "cell_type": "markdown",
   "id": "0b82a86e-d2e8-4c4c-a418-124c90218d1f",
   "metadata": {
    "id": "0b82a86e-d2e8-4c4c-a418-124c90218d1f"
   },
   "source": [
    "#### Khái niệm Bag-of-Words\n",
    "\n",
    "Là kỹ thuật chia văn bản thành các tổ hợp từ khác nhau (bằng phương pháp tokenize). Cách chia phổ biến là mỗi câu thành 1 văn bản (bag) và mỗi văn bản được chia thành từ (word). Dựa vào đó có thể đo lường mức độ xuất hiện của các từ trong văn bản và xây dựng mối liên hệ giữa ngữ cảnh và các từ. \n",
    "\n",
    "Hai yếu tố:\n",
    "1. Từ điển của các từ được sử dụng\n",
    "2. Mức độ xuất hiện của các từ trong từ điển\n",
    "*Mỗi từ hay token được gọi là một `gram`*\n"
   ]
  },
  {
   "cell_type": "code",
   "execution_count": 11,
   "id": "vKTTqu9ccnHq",
   "metadata": {
    "colab": {
     "base_uri": "https://localhost:8080/"
    },
    "executionInfo": {
     "elapsed": 464,
     "status": "ok",
     "timestamp": 1637329798399,
     "user": {
      "displayName": "Samuel Doan",
      "photoUrl": "https://lh3.googleusercontent.com/a-/AOh14GjbcdQ40FcyCSIyitBN2ptY3zHWA_09harKPYF2=s64",
      "userId": "04384888964432338542"
     },
     "user_tz": -420
    },
    "id": "vKTTqu9ccnHq",
    "outputId": "b3daeb63-d877-4c17-b270-e435c4c76917"
   },
   "outputs": [
    {
     "name": "stdout",
     "output_type": "stream",
     "text": [
      "It was the best of times :\t [1, 1, 1, 1, 1, 1, 0, 0, 0, 0]\n",
      "It was the worst of times :\t [1, 1, 1, 0, 1, 1, 1, 0, 0, 0]\n",
      "It was the age of wisdom :\t [1, 1, 1, 0, 1, 0, 0, 1, 1, 0]\n",
      "It was the age of foolishness :\t [1, 1, 1, 0, 1, 0, 0, 1, 0, 1]\n"
     ]
    }
   ],
   "source": [
    "# dict_vector = set()\n",
    "# tokenized = [nltk.word_tokenize(i.lower()) for i in sentences]\n",
    "# for i in tokenized:\n",
    "#     for j in i:\n",
    "#         dict_vector.add(j)\n",
    "        \n",
    "dictionary = [] # thêm dần vào từ điển\n",
    "for sent in sentences:\n",
    "    words = nltk.word_tokenize(sent) # tokenize\n",
    "    for w in words:\n",
    "        if w not in dictionary:\n",
    "            dictionary.append(w)\n",
    "            \n",
    "for sent in sentences:\n",
    "    vec = [1 if w in sent else 0 for w in dictionary]\n",
    "    print(sent, ':\\t', vec)"
   ]
  },
  {
   "cell_type": "markdown",
   "id": "3645f46c-63e0-4a38-a1f5-ad8ab78b8aa3",
   "metadata": {
    "id": "3645f46c-63e0-4a38-a1f5-ad8ab78b8aa3"
   },
   "source": [
    "#### TF-IDF (Term frequency-Inverse Document frequency)\n",
    "\n",
    "Ngữ cảnh: \"I am very angry\" ==> \"very angry\" # tập trung vào các từ mang nhiều thông tin\n",
    "\n",
    "Đơn vị để đo thông tin trong khoa học machine-learning: entropy\n",
    "\n",
    "Đo lường tần suất ***hợp lý*** một từ (hay token) xuất hiện trong văn bản. Tần suất này được tính bằng: Mức độ xuất hiện của từ trong văn bản chia cho tỉ lệ văn bản mà từ đó xuất hiện trên tổng tất cả số lượng văn bản.\n",
    "\n",
    "Ví dụ: đối với như `what` hay `the`, các từ này xuất hiện rất nhiều tuy nhiên ko mang nhiều ý nghĩa nên cần có phương pháp loại trừ các từ này ra khỏi mô hình. Vì vậy ngoài tính toán mức độ xuất hiện của các từ trong văn bản, tuy nhiên nếu văn bản nào cũng xuất hiện từ này (hoặc đơn giản là rất nhiều > 90%) thì các từ này sẽ bị loại ra.\n",
    "\n",
    "$$ tf-idf(t, d, D)  = tf(t, d) \\dot idf(t, D)$$\n",
    "\n",
    "> `t`: từ (word hay token)\n",
    " \n",
    "> `d`: văn bản (document)\n",
    " \n",
    "> `D`: tệp các văn bản (documents)\n",
    "\n",
    "trong đó:\n",
    "\n",
    "$$ tf(t, d) = \\log(1 + freq(t, d)) $$\n",
    "$$ idf(t, D) = \\log \\left( \\dfrac{N}{count(d \\in D: t \\in d)} \\right)$$"
   ]
  },
  {
   "cell_type": "markdown",
   "id": "30bc2036-7dc6-4b33-baac-7c1ab14fe285",
   "metadata": {
    "id": "30bc2036-7dc6-4b33-baac-7c1ab14fe285"
   },
   "source": [
    "#### Mô hình Word2vec\n"
   ]
  },
  {
   "cell_type": "markdown",
   "id": "966f5ac5-3024-4991-8a7b-27ec8002ac29",
   "metadata": {
    "id": "966f5ac5-3024-4991-8a7b-27ec8002ac29"
   },
   "source": [
    "*\"Word2Vec was developed at Google by Tomas Mikolov, et al. and uses Neural Networks to learn word embeddings. The beauty with word2vec is that the vectors are learned by understanding the context in which words appear. The result is vectors in which words with similar meanings end up with a similar numerical representation.\"*"
   ]
  },
  {
   "cell_type": "markdown",
   "id": "dbe00fd3-483f-4343-b331-8bdbde4d8d03",
   "metadata": {
    "id": "dbe00fd3-483f-4343-b331-8bdbde4d8d03"
   },
   "source": [
    "**One-hot-encoding**\n",
    "\n",
    "All word are treated equal\n",
    "\n",
    "![](https://i2.wp.com/insightbot.blob.core.windows.net/blogimagecontainer/b3c56245-db43-48ab-b652-9ba03f4d9900.jpg?ssl=1)\n",
    "\n",
    "**Word2Vec**\n",
    "\n",
    "Word with similar numeric value are similar in meaning\n",
    "\n",
    "![](https://i1.wp.com/insightbot.blob.core.windows.net/blogimagecontainer/8cbfc874-3ba3-46c8-ab68-2711812ecbf1.jpg?ssl=1)"
   ]
  },
  {
   "cell_type": "markdown",
   "id": "124e7484-2125-4bfa-8033-9f11341f6c93",
   "metadata": {
    "id": "124e7484-2125-4bfa-8033-9f11341f6c93"
   },
   "source": [
    "Hai loại mô hình Word2Vec: **CBOW** (Continuous Bag-of-Word) và **Skip-Gram**\n",
    "\n",
    "Continuous Bag of Words (CBOW): *nhìn hình (ngữ cảnh) đoán chữ*\n",
    "\n",
    "Ngược lại, Skip-Gram: *nhìn chữ đoán hình (ngữ cảnh)*\n",
    "\n",
    "![](https://i0.wp.com/insightbot.blob.core.windows.net/blogimagecontainer/7938152f-71c8-4f28-9c25-06735e6e2b67.jpg?ssl=1)"
   ]
  },
  {
   "cell_type": "markdown",
   "id": "03aea233-3d03-4566-8876-153325d71cd9",
   "metadata": {
    "id": "03aea233-3d03-4566-8876-153325d71cd9"
   },
   "source": [
    "**Skip-gram**\n",
    "\n",
    "Window Size defines how many words before and after the target word will be used as context, typically a Window Size is 5. \n",
    "![](https://i2.wp.com/insightbot.blob.core.windows.net/blogimagecontainer/a8066c1d-c532-4549-bb24-19dfea5eb178_med.jpg?ssl=1)"
   ]
  },
  {
   "cell_type": "markdown",
   "id": "860004a0-d665-4d69-a4b6-41f7ef94ccea",
   "metadata": {
    "id": "860004a0-d665-4d69-a4b6-41f7ef94ccea"
   },
   "source": [
    "Using a window size of 2 the input pairs for training on w(4) royal would be:\n",
    "![](https://israelg99.github.io/images/2017-03-23-Word2Vec-Explained/training_data.png)"
   ]
  }
 ],
 "metadata": {
  "colab": {
   "collapsed_sections": [
    "d16c807e-c950-44b4-923a-3da9c08f74e8",
    "eec9ba76-913e-4803-a39b-d6b537ed57bb",
    "a0d782c1-6302-4a8e-b8de-e936565beb95",
    "0b82a86e-d2e8-4c4c-a418-124c90218d1f",
    "3645f46c-63e0-4a38-a1f5-ad8ab78b8aa3",
    "30bc2036-7dc6-4b33-baac-7c1ab14fe285"
   ],
   "name": "nlp.ipynb",
   "provenance": []
  },
  "kernelspec": {
   "display_name": "Python 3",
   "language": "python",
   "name": "python3"
  },
  "language_info": {
   "codemirror_mode": {
    "name": "ipython",
    "version": 3
   },
   "file_extension": ".py",
   "mimetype": "text/x-python",
   "name": "python",
   "nbconvert_exporter": "python",
   "pygments_lexer": "ipython3",
   "version": "3.8.11"
  }
 },
 "nbformat": 4,
 "nbformat_minor": 5
}
