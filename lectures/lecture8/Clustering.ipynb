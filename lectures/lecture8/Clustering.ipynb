{
 "cells": [
  {
   "cell_type": "markdown",
   "id": "33ae200e-700b-4d18-80e9-e4e553f5f6ce",
   "metadata": {},
   "source": [
    "# <center> Unsupervised learning: Clusterings </center>"
   ]
  },
  {
   "cell_type": "markdown",
   "id": "b050df81-6fed-4630-a8ff-2f325b4c61ee",
   "metadata": {},
   "source": [
    "## 1. Partitioning clustering: `k-means`\n",
    "\n",
    "![](https://miro.medium.com/max/1280/1*5UHmgCaTD8EegsPuKcxC1Q.png)"
   ]
  },
  {
   "cell_type": "code",
   "execution_count": null,
   "id": "56bf3243-4619-45a2-8902-40bfde50f96b",
   "metadata": {},
   "outputs": [],
   "source": []
  },
  {
   "cell_type": "markdown",
   "id": "6bc9fccb-689f-4403-ad5d-f49719eb389c",
   "metadata": {},
   "source": [
    "## 2. Hierachical clustering: `agglomerative clustering` \n",
    "![](https://46gyn61z4i0t1u1pnq2bbk2e-wpengine.netdna-ssl.com/wp-content/uploads/2018/03/Screen-Shot-2018-03-28-at-11.48.48-am.png)\n",
    "![](https://miro.medium.com/max/1039/0*afzanWwrDq9vd2g-)"
   ]
  },
  {
   "cell_type": "code",
   "execution_count": null,
   "id": "c52147a2-ebb1-4aeb-8c65-fbb4b8aff596",
   "metadata": {},
   "outputs": [],
   "source": []
  },
  {
   "cell_type": "markdown",
   "id": "2b647db2-20e1-4060-ad25-5590690ede3f",
   "metadata": {},
   "source": [
    "## 3. Grid-based clustering"
   ]
  },
  {
   "cell_type": "code",
   "execution_count": null,
   "id": "e5f7568b-a6a1-4b25-9828-6b535f88bdcc",
   "metadata": {},
   "outputs": [],
   "source": []
  },
  {
   "cell_type": "markdown",
   "id": "cd240c6b-2ec7-467a-84cc-b7ce30671aa1",
   "metadata": {},
   "source": [
    "## 4. Density-based clustering: `DBSCAN`\n",
    "![](https://user-images.githubusercontent.com/7659/74451662-d2325000-4e34-11ea-9770-a57e81259eb9.png)\n",
    "![](https://miro.medium.com/proxy/1*tc8UF-h0nQqUfLC8-0uInQ.gif)"
   ]
  },
  {
   "cell_type": "code",
   "execution_count": null,
   "id": "ca855001-b011-4afe-8ca5-b5cd9e0367a5",
   "metadata": {},
   "outputs": [],
   "source": []
  }
 ],
 "metadata": {
  "kernelspec": {
   "display_name": "Python 3",
   "language": "python",
   "name": "python3"
  },
  "language_info": {
   "codemirror_mode": {
    "name": "ipython",
    "version": 3
   },
   "file_extension": ".py",
   "mimetype": "text/x-python",
   "name": "python",
   "nbconvert_exporter": "python",
   "pygments_lexer": "ipython3",
   "version": "3.8.11"
  }
 },
 "nbformat": 4,
 "nbformat_minor": 5
}
