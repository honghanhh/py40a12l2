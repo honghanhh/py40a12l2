{
 "cells": [
  {
   "cell_type": "markdown",
   "id": "038f3160-387c-4d8c-b7a5-f2b6c1a18602",
   "metadata": {},
   "source": [
    "# <center> Supervised learning: Classification with Titanic dataset </center>"
   ]
  },
  {
   "cell_type": "markdown",
   "id": "b9082bca-caad-4547-868b-1112c21dda30",
   "metadata": {},
   "source": [
    "## 1. Data types\n",
    "\n",
    "![](https://miro.medium.com/max/1200/0*tZj7CTvSzNcjnISR)\n",
    "\n",
    "## 2. Classification vs Regression\n",
    "||Regression|Clasification|\n",
    "|-|-|-|\n",
    "|Data|Attribute-value description|Attribute-value description|\n",
    "|Target|Continuous|Nominal|\n",
    "|Evaluation methods|Cross-validation, train test split ...|Cross-validation, train test split ...|\n",
    "|Errors|MSE, MAE, RMSE|1-accuracy|\n",
    "|Algorithms|Linear regression|Decision Tree, Naive Bayes ...|\n",
    "|Baseline|Mean of target|Majority class|\n",
    "\n",
    "## 3. Titanic dataset\n",
    "\n",
    "|Variable| Definition| Key|\n",
    "|-|-|-|\n",
    "|survived| Survival| 0 = No, 1 = Yes|\n",
    "|pclass| Ticket class| 1 = 1st, 2 = 2nd, 3 = 3rd|\n",
    "|sex| Male or Female||\n",
    "|age| Age in years||\n",
    "|sibsp| # of siblings / spouses aboard the Titanic||\n",
    "|parch| # of parents / children aboard the Titanic||\n",
    "|fare| Passenger fare||\n",
    "|embarked| Port of Embarkation|  C=Cherbourg, Q=Queenstown, S=Southampton|\n",
    "|deck|||"
   ]
  },
  {
   "cell_type": "code",
   "execution_count": 1,
   "id": "5e40c773-4cc2-431e-bc05-df1050efafbb",
   "metadata": {},
   "outputs": [],
   "source": [
    "import pandas as pd\n",
    "import numpy as np\n",
    "import matplotlib.pyplot as plt\n",
    "import seaborn as sns"
   ]
  },
  {
   "cell_type": "code",
   "execution_count": 2,
   "id": "47a589e9-881f-49b2-83ed-8047d3718d41",
   "metadata": {},
   "outputs": [
    {
     "data": {
      "text/html": [
       "<div>\n",
       "<style scoped>\n",
       "    .dataframe tbody tr th:only-of-type {\n",
       "        vertical-align: middle;\n",
       "    }\n",
       "\n",
       "    .dataframe tbody tr th {\n",
       "        vertical-align: top;\n",
       "    }\n",
       "\n",
       "    .dataframe thead th {\n",
       "        text-align: right;\n",
       "    }\n",
       "</style>\n",
       "<table border=\"1\" class=\"dataframe\">\n",
       "  <thead>\n",
       "    <tr style=\"text-align: right;\">\n",
       "      <th></th>\n",
       "      <th>survived</th>\n",
       "      <th>pclass</th>\n",
       "      <th>sex</th>\n",
       "      <th>age</th>\n",
       "      <th>sibsp</th>\n",
       "      <th>parch</th>\n",
       "      <th>fare</th>\n",
       "      <th>embarked</th>\n",
       "      <th>class</th>\n",
       "      <th>who</th>\n",
       "      <th>adult_male</th>\n",
       "      <th>deck</th>\n",
       "      <th>embark_town</th>\n",
       "      <th>alive</th>\n",
       "      <th>alone</th>\n",
       "    </tr>\n",
       "  </thead>\n",
       "  <tbody>\n",
       "    <tr>\n",
       "      <th>0</th>\n",
       "      <td>0</td>\n",
       "      <td>3</td>\n",
       "      <td>male</td>\n",
       "      <td>22.0</td>\n",
       "      <td>1</td>\n",
       "      <td>0</td>\n",
       "      <td>7.2500</td>\n",
       "      <td>S</td>\n",
       "      <td>Third</td>\n",
       "      <td>man</td>\n",
       "      <td>True</td>\n",
       "      <td>NaN</td>\n",
       "      <td>Southampton</td>\n",
       "      <td>no</td>\n",
       "      <td>False</td>\n",
       "    </tr>\n",
       "    <tr>\n",
       "      <th>1</th>\n",
       "      <td>1</td>\n",
       "      <td>1</td>\n",
       "      <td>female</td>\n",
       "      <td>38.0</td>\n",
       "      <td>1</td>\n",
       "      <td>0</td>\n",
       "      <td>71.2833</td>\n",
       "      <td>C</td>\n",
       "      <td>First</td>\n",
       "      <td>woman</td>\n",
       "      <td>False</td>\n",
       "      <td>C</td>\n",
       "      <td>Cherbourg</td>\n",
       "      <td>yes</td>\n",
       "      <td>False</td>\n",
       "    </tr>\n",
       "    <tr>\n",
       "      <th>2</th>\n",
       "      <td>1</td>\n",
       "      <td>3</td>\n",
       "      <td>female</td>\n",
       "      <td>26.0</td>\n",
       "      <td>0</td>\n",
       "      <td>0</td>\n",
       "      <td>7.9250</td>\n",
       "      <td>S</td>\n",
       "      <td>Third</td>\n",
       "      <td>woman</td>\n",
       "      <td>False</td>\n",
       "      <td>NaN</td>\n",
       "      <td>Southampton</td>\n",
       "      <td>yes</td>\n",
       "      <td>True</td>\n",
       "    </tr>\n",
       "    <tr>\n",
       "      <th>3</th>\n",
       "      <td>1</td>\n",
       "      <td>1</td>\n",
       "      <td>female</td>\n",
       "      <td>35.0</td>\n",
       "      <td>1</td>\n",
       "      <td>0</td>\n",
       "      <td>53.1000</td>\n",
       "      <td>S</td>\n",
       "      <td>First</td>\n",
       "      <td>woman</td>\n",
       "      <td>False</td>\n",
       "      <td>C</td>\n",
       "      <td>Southampton</td>\n",
       "      <td>yes</td>\n",
       "      <td>False</td>\n",
       "    </tr>\n",
       "    <tr>\n",
       "      <th>4</th>\n",
       "      <td>0</td>\n",
       "      <td>3</td>\n",
       "      <td>male</td>\n",
       "      <td>35.0</td>\n",
       "      <td>0</td>\n",
       "      <td>0</td>\n",
       "      <td>8.0500</td>\n",
       "      <td>S</td>\n",
       "      <td>Third</td>\n",
       "      <td>man</td>\n",
       "      <td>True</td>\n",
       "      <td>NaN</td>\n",
       "      <td>Southampton</td>\n",
       "      <td>no</td>\n",
       "      <td>True</td>\n",
       "    </tr>\n",
       "  </tbody>\n",
       "</table>\n",
       "</div>"
      ],
      "text/plain": [
       "   survived  pclass     sex   age  sibsp  parch     fare embarked  class  \\\n",
       "0         0       3    male  22.0      1      0   7.2500        S  Third   \n",
       "1         1       1  female  38.0      1      0  71.2833        C  First   \n",
       "2         1       3  female  26.0      0      0   7.9250        S  Third   \n",
       "3         1       1  female  35.0      1      0  53.1000        S  First   \n",
       "4         0       3    male  35.0      0      0   8.0500        S  Third   \n",
       "\n",
       "     who  adult_male deck  embark_town alive  alone  \n",
       "0    man        True  NaN  Southampton    no  False  \n",
       "1  woman       False    C    Cherbourg   yes  False  \n",
       "2  woman       False  NaN  Southampton   yes   True  \n",
       "3  woman       False    C  Southampton   yes  False  \n",
       "4    man        True  NaN  Southampton    no   True  "
      ]
     },
     "execution_count": 2,
     "metadata": {},
     "output_type": "execute_result"
    }
   ],
   "source": [
    "titanic = sns.load_dataset('titanic')\n",
    "titanic.head(5)"
   ]
  },
  {
   "cell_type": "code",
   "execution_count": 3,
   "id": "a93bc5e0-09fc-43be-a466-99f2b282ca5f",
   "metadata": {},
   "outputs": [
    {
     "name": "stdout",
     "output_type": "stream",
     "text": [
      "<class 'pandas.core.frame.DataFrame'>\n",
      "RangeIndex: 891 entries, 0 to 890\n",
      "Data columns (total 15 columns):\n",
      " #   Column       Non-Null Count  Dtype   \n",
      "---  ------       --------------  -----   \n",
      " 0   survived     891 non-null    int64   \n",
      " 1   pclass       891 non-null    int64   \n",
      " 2   sex          891 non-null    object  \n",
      " 3   age          714 non-null    float64 \n",
      " 4   sibsp        891 non-null    int64   \n",
      " 5   parch        891 non-null    int64   \n",
      " 6   fare         891 non-null    float64 \n",
      " 7   embarked     889 non-null    object  \n",
      " 8   class        891 non-null    category\n",
      " 9   who          891 non-null    object  \n",
      " 10  adult_male   891 non-null    bool    \n",
      " 11  deck         203 non-null    category\n",
      " 12  embark_town  889 non-null    object  \n",
      " 13  alive        891 non-null    object  \n",
      " 14  alone        891 non-null    bool    \n",
      "dtypes: bool(2), category(2), float64(2), int64(4), object(5)\n",
      "memory usage: 80.7+ KB\n"
     ]
    }
   ],
   "source": [
    "titanic.info()"
   ]
  },
  {
   "cell_type": "code",
   "execution_count": 4,
   "id": "83964175-21ff-4420-bb21-0fdd2cc06372",
   "metadata": {},
   "outputs": [
    {
     "data": {
      "text/plain": [
       "survived         0\n",
       "pclass           0\n",
       "sex              0\n",
       "age            177\n",
       "sibsp            0\n",
       "parch            0\n",
       "fare             0\n",
       "embarked         2\n",
       "class            0\n",
       "who              0\n",
       "adult_male       0\n",
       "deck           688\n",
       "embark_town      2\n",
       "alive            0\n",
       "alone            0\n",
       "dtype: int64"
      ]
     },
     "execution_count": 4,
     "metadata": {},
     "output_type": "execute_result"
    }
   ],
   "source": [
    "titanic.isna().sum() #tính %: titanic.isna().sum()*100 /len(titanic)"
   ]
  },
  {
   "cell_type": "markdown",
   "id": "18c33645-e9fb-402c-9fa4-447c2646f4cb",
   "metadata": {
    "tags": []
   },
   "source": [
    "##### => ***Chứa NA***"
   ]
  },
  {
   "cell_type": "markdown",
   "id": "0a9dd5dd-8ee1-4dc2-b387-0faee17d79c5",
   "metadata": {},
   "source": [
    "# I. XỬ LÝ NA"
   ]
  },
  {
   "cell_type": "markdown",
   "id": "c655d7d0-4acd-4e5e-a2a3-6bd8f50377d3",
   "metadata": {},
   "source": [
    "## *a) AGE*"
   ]
  },
  {
   "cell_type": "code",
   "execution_count": 5,
   "id": "16470314-ff1f-42f8-9986-05fe44d41f40",
   "metadata": {},
   "outputs": [
    {
     "data": {
      "image/png": "[encoded data removed]",
      "text/plain": [
       "<Figure size 432x288 with 1 Axes>"
      ]
     },
     "metadata": {
      "needs_background": "light"
     },
     "output_type": "display_data"
    }
   ],
   "source": [
    "sns.histplot(titanic,x='age',hue='survived',kde=True) #kde:hiện đường phân phối của survived)\n",
    "plt.show()"
   ]
  },
  {
   "cell_type": "markdown",
   "id": "c7e52512-ffff-4978-b402-0bf18321c0ca",
   "metadata": {},
   "source": [
    "### Xử lý NA"
   ]
  },
  {
   "cell_type": "markdown",
   "id": "69ccad46-da0b-443e-bb16-7e463ca35b95",
   "metadata": {},
   "source": [
    "### Đặt ra các giả thuyết để xử lý Missing values"
   ]
  },
  {
   "cell_type": "markdown",
   "id": "f382c216-0009-4e62-b8d5-66c9338850e8",
   "metadata": {},
   "source": [
    "### GT1: Higher fare, better life chance (tiền nhiều, cơ hội sống cao hơn, có tiền là ít bị chết hơn)"
   ]
  },
  {
   "cell_type": "code",
   "execution_count": 6,
   "id": "85b02ba6-ada2-4ba9-b534-def506d81850",
   "metadata": {},
   "outputs": [
    {
     "data": {
      "text/plain": [
       "<function matplotlib.pyplot.show(close=None, block=None)>"
      ]
     },
     "execution_count": 6,
     "metadata": {},
     "output_type": "execute_result"
    },
    {
     "data": {
      "image/png": "[encoded data removed]",
      "text/plain": [
       "<Figure size 432x288 with 1 Axes>"
      ]
     },
     "metadata": {
      "needs_background": "light"
     },
     "output_type": "display_data"
    }
   ],
   "source": [
    "sns.scatterplot(data=titanic,x='age',y='fare',hue='survived')\n",
    "plt.show"
   ]
  },
  {
   "cell_type": "markdown",
   "id": "161edb57-0c24-4492-9e68-5576e60e2120",
   "metadata": {},
   "source": [
    "### GT2: Đánh giá qua sibsp (of siblings / spouses aboard the Titanic (số ae đi kèm)), và parch (of parents / children aboard the Titanic(số phụ huynh đi kèm))"
   ]
  },
  {
   "cell_type": "code",
   "execution_count": 7,
   "id": "d796e77e-19c0-4830-b2ec-59cbc8f9ecd3",
   "metadata": {},
   "outputs": [
    {
     "data": {
      "text/plain": [
       "<function matplotlib.pyplot.show(close=None, block=None)>"
      ]
     },
     "execution_count": 7,
     "metadata": {},
     "output_type": "execute_result"
    },
    {
     "data": {
      "image/png": "[encoded data removed]",
      "text/plain": [
       "<Figure size 432x288 with 1 Axes>"
      ]
     },
     "metadata": {
      "needs_background": "light"
     },
     "output_type": "display_data"
    }
   ],
   "source": [
    "sns.scatterplot(data=titanic,x='age',y='parch',hue='survived')\n",
    "plt.show"
   ]
  },
  {
   "cell_type": "code",
   "execution_count": 8,
   "id": "b4584c29-4f37-4de9-95e3-7567305ca24e",
   "metadata": {},
   "outputs": [
    {
     "data": {
      "text/plain": [
       "0    608\n",
       "1    209\n",
       "2     28\n",
       "4     18\n",
       "3     16\n",
       "8      7\n",
       "5      5\n",
       "Name: sibsp, dtype: int64"
      ]
     },
     "execution_count": 8,
     "metadata": {},
     "output_type": "execute_result"
    }
   ],
   "source": [
    "titanic['sibsp'].value_counts()#check số lượng ae đi cùng"
   ]
  },
  {
   "cell_type": "code",
   "execution_count": 9,
   "id": "826bba0a-8ed8-4ea6-a902-4dc29b1f6c11",
   "metadata": {},
   "outputs": [
    {
     "data": {
      "text/plain": [
       "0    678\n",
       "1    118\n",
       "2     80\n",
       "3      5\n",
       "5      5\n",
       "4      4\n",
       "6      1\n",
       "Name: parch, dtype: int64"
      ]
     },
     "execution_count": 9,
     "metadata": {},
     "output_type": "execute_result"
    }
   ],
   "source": [
    "titanic['parch'].value_counts()#check số lượng PH đi cùng"
   ]
  },
  {
   "cell_type": "markdown",
   "id": "4a66b2af-bf6e-4313-abac-fbb5c4028e83",
   "metadata": {},
   "source": [
    "###### Có những người mà có 6 người trong gđ đi cùng"
   ]
  },
  {
   "cell_type": "code",
   "execution_count": 10,
   "id": "adb11bf3-d0aa-4dd4-944b-8fae08f86cad",
   "metadata": {},
   "outputs": [
    {
     "data": {
      "text/plain": [
       "<function matplotlib.pyplot.show(close=None, block=None)>"
      ]
     },
     "execution_count": 10,
     "metadata": {},
     "output_type": "execute_result"
    },
    {
     "data": {
      "image/png": "[encoded data removed]",
      "text/plain": [
       "<Figure size 432x288 with 1 Axes>"
      ]
     },
     "metadata": {
      "needs_background": "light"
     },
     "output_type": "display_data"
    }
   ],
   "source": [
    "sns.boxplot(data=titanic,x='parch',y='age')\n",
    "plt.show"
   ]
  },
  {
   "cell_type": "markdown",
   "id": "73d81449-fff9-467f-b30b-a1a6c32c1825",
   "metadata": {},
   "source": [
    "#### *Nhận xét*: Chứa giá trị ngoại lai, bị lệch phải"
   ]
  },
  {
   "cell_type": "code",
   "execution_count": 11,
   "id": "7901b807-2036-4fdc-a90d-b56311738baf",
   "metadata": {},
   "outputs": [
    {
     "data": {
      "text/plain": [
       "<function matplotlib.pyplot.show(close=None, block=None)>"
      ]
     },
     "execution_count": 11,
     "metadata": {},
     "output_type": "execute_result"
    },
    {
     "data": {
      "image/png": "[encoded data removed]",
      "text/plain": [
       "<Figure size 432x288 with 1 Axes>"
      ]
     },
     "metadata": {
      "needs_background": "light"
     },
     "output_type": "display_data"
    }
   ],
   "source": [
    "sns.boxplot(data=titanic,x='sibsp',y='age')\n",
    "plt.show"
   ]
  },
  {
   "cell_type": "code",
   "execution_count": 12,
   "id": "85800def-f3b7-43b2-8366-1ff17e0be143",
   "metadata": {},
   "outputs": [
    {
     "data": {
      "text/plain": [
       "array(['male', 'female'], dtype=object)"
      ]
     },
     "execution_count": 12,
     "metadata": {},
     "output_type": "execute_result"
    }
   ],
   "source": [
    "titanic.sex.unique()#check xem trong biến sexcos những giá trị nào"
   ]
  },
  {
   "cell_type": "code",
   "execution_count": 13,
   "id": "9b520a0b-038b-447f-80c7-d4bbaf34bd62",
   "metadata": {},
   "outputs": [
    {
     "data": {
      "text/plain": [
       "array(['man', 'woman', 'child'], dtype=object)"
      ]
     },
     "execution_count": 13,
     "metadata": {},
     "output_type": "execute_result"
    }
   ],
   "source": [
    "titanic.who.unique()"
   ]
  },
  {
   "cell_type": "markdown",
   "id": "18dc54a6-476c-48ae-8cb1-99588e129c7e",
   "metadata": {},
   "source": [
    "### Xem độ tuổi trung bình trong các cụm who và sibpr, parch"
   ]
  },
  {
   "cell_type": "code",
   "execution_count": 14,
   "id": "ffd4a740-2786-4d50-83f8-fa1789c3b905",
   "metadata": {},
   "outputs": [
    {
     "data": {
      "text/plain": [
       "who    sibsp  parch\n",
       "child  0      0        12.166667\n",
       "              1         6.052500\n",
       "              2         4.981111\n",
       "       1      0        13.900000\n",
       "              1         4.566667\n",
       "              2         5.274286\n",
       "       2      1         2.300000\n",
       "              2         9.000000\n",
       "       3      1         4.333333\n",
       "              2         6.250000\n",
       "       4      1         5.625000\n",
       "              2         6.125000\n",
       "       5      2         8.750000\n",
       "man    0      0        32.973597\n",
       "              1        38.583333\n",
       "              2        35.800000\n",
       "       1      0        32.701923\n",
       "              1        36.000000\n",
       "              2        30.750000\n",
       "              3        16.000000\n",
       "              4        52.000000\n",
       "              5        39.000000\n",
       "       2      0        31.181818\n",
       "              1        23.000000\n",
       "       3      1              NaN\n",
       "              2        19.000000\n",
       "       4      1        16.000000\n",
       "       8      2              NaN\n",
       "woman  0      0        31.084211\n",
       "              1        34.176471\n",
       "              2        26.833333\n",
       "              3        24.000000\n",
       "              4        29.000000\n",
       "              5        40.000000\n",
       "       1      0        33.355556\n",
       "              1        35.450000\n",
       "              2        31.333333\n",
       "              3        51.000000\n",
       "              4        45.000000\n",
       "              5        38.500000\n",
       "              6        43.000000\n",
       "       2      0        35.500000\n",
       "              1        24.000000\n",
       "              2        20.000000\n",
       "              3        24.000000\n",
       "       3      0        31.500000\n",
       "              1              NaN\n",
       "              2        23.500000\n",
       "       4      2        17.000000\n",
       "       5      2        16.000000\n",
       "       8      2              NaN\n",
       "Name: age, dtype: float64"
      ]
     },
     "execution_count": 14,
     "metadata": {},
     "output_type": "execute_result"
    }
   ],
   "source": [
    "titanic.groupby(['who','sibsp','parch']).age.mean()"
   ]
  },
  {
   "cell_type": "code",
   "execution_count": 15,
   "id": "552edc49-afc9-4959-86b4-6a8b89694a5a",
   "metadata": {},
   "outputs": [
    {
     "data": {
      "text/html": [
       "<div>\n",
       "<style scoped>\n",
       "    .dataframe tbody tr th:only-of-type {\n",
       "        vertical-align: middle;\n",
       "    }\n",
       "\n",
       "    .dataframe tbody tr th {\n",
       "        vertical-align: top;\n",
       "    }\n",
       "\n",
       "    .dataframe thead th {\n",
       "        text-align: right;\n",
       "    }\n",
       "</style>\n",
       "<table border=\"1\" class=\"dataframe\">\n",
       "  <thead>\n",
       "    <tr style=\"text-align: right;\">\n",
       "      <th></th>\n",
       "      <th></th>\n",
       "      <th></th>\n",
       "      <th>len</th>\n",
       "      <th>mean</th>\n",
       "      <th>&lt;lambda_0&gt;</th>\n",
       "    </tr>\n",
       "    <tr>\n",
       "      <th>who</th>\n",
       "      <th>sibsp</th>\n",
       "      <th>parch</th>\n",
       "      <th></th>\n",
       "      <th></th>\n",
       "      <th></th>\n",
       "    </tr>\n",
       "  </thead>\n",
       "  <tbody>\n",
       "    <tr>\n",
       "      <th rowspan=\"13\" valign=\"top\">child</th>\n",
       "      <th rowspan=\"3\" valign=\"top\">0</th>\n",
       "      <th>0</th>\n",
       "      <td>6.0</td>\n",
       "      <td>12.166667</td>\n",
       "      <td>0.000000</td>\n",
       "    </tr>\n",
       "    <tr>\n",
       "      <th>1</th>\n",
       "      <td>8.0</td>\n",
       "      <td>6.052500</td>\n",
       "      <td>0.000000</td>\n",
       "    </tr>\n",
       "    <tr>\n",
       "      <th>2</th>\n",
       "      <td>9.0</td>\n",
       "      <td>4.981111</td>\n",
       "      <td>0.000000</td>\n",
       "    </tr>\n",
       "    <tr>\n",
       "      <th rowspan=\"3\" valign=\"top\">1</th>\n",
       "      <th>0</th>\n",
       "      <td>5.0</td>\n",
       "      <td>13.900000</td>\n",
       "      <td>0.000000</td>\n",
       "    </tr>\n",
       "    <tr>\n",
       "      <th>1</th>\n",
       "      <td>15.0</td>\n",
       "      <td>4.566667</td>\n",
       "      <td>0.000000</td>\n",
       "    </tr>\n",
       "    <tr>\n",
       "      <th>2</th>\n",
       "      <td>7.0</td>\n",
       "      <td>5.274286</td>\n",
       "      <td>0.000000</td>\n",
       "    </tr>\n",
       "    <tr>\n",
       "      <th rowspan=\"2\" valign=\"top\">2</th>\n",
       "      <th>1</th>\n",
       "      <td>5.0</td>\n",
       "      <td>2.300000</td>\n",
       "      <td>0.000000</td>\n",
       "    </tr>\n",
       "    <tr>\n",
       "      <th>2</th>\n",
       "      <td>1.0</td>\n",
       "      <td>9.000000</td>\n",
       "      <td>0.000000</td>\n",
       "    </tr>\n",
       "    <tr>\n",
       "      <th rowspan=\"2\" valign=\"top\">3</th>\n",
       "      <th>1</th>\n",
       "      <td>3.0</td>\n",
       "      <td>4.333333</td>\n",
       "      <td>0.000000</td>\n",
       "    </tr>\n",
       "    <tr>\n",
       "      <th>2</th>\n",
       "      <td>4.0</td>\n",
       "      <td>6.250000</td>\n",
       "      <td>0.000000</td>\n",
       "    </tr>\n",
       "    <tr>\n",
       "      <th rowspan=\"2\" valign=\"top\">4</th>\n",
       "      <th>1</th>\n",
       "      <td>8.0</td>\n",
       "      <td>5.625000</td>\n",
       "      <td>0.000000</td>\n",
       "    </tr>\n",
       "    <tr>\n",
       "      <th>2</th>\n",
       "      <td>8.0</td>\n",
       "      <td>6.125000</td>\n",
       "      <td>0.000000</td>\n",
       "    </tr>\n",
       "    <tr>\n",
       "      <th>5</th>\n",
       "      <th>2</th>\n",
       "      <td>4.0</td>\n",
       "      <td>8.750000</td>\n",
       "      <td>0.000000</td>\n",
       "    </tr>\n",
       "    <tr>\n",
       "      <th rowspan=\"15\" valign=\"top\">man</th>\n",
       "      <th rowspan=\"3\" valign=\"top\">0</th>\n",
       "      <th>0</th>\n",
       "      <td>410.0</td>\n",
       "      <td>32.973597</td>\n",
       "      <td>0.260976</td>\n",
       "    </tr>\n",
       "    <tr>\n",
       "      <th>1</th>\n",
       "      <td>12.0</td>\n",
       "      <td>38.583333</td>\n",
       "      <td>0.000000</td>\n",
       "    </tr>\n",
       "    <tr>\n",
       "      <th>2</th>\n",
       "      <td>5.0</td>\n",
       "      <td>35.800000</td>\n",
       "      <td>0.000000</td>\n",
       "    </tr>\n",
       "    <tr>\n",
       "      <th rowspan=\"6\" valign=\"top\">1</th>\n",
       "      <th>0</th>\n",
       "      <td>59.0</td>\n",
       "      <td>32.701923</td>\n",
       "      <td>0.118644</td>\n",
       "    </tr>\n",
       "    <tr>\n",
       "      <th>1</th>\n",
       "      <td>21.0</td>\n",
       "      <td>36.000000</td>\n",
       "      <td>0.095238</td>\n",
       "    </tr>\n",
       "    <tr>\n",
       "      <th>2</th>\n",
       "      <td>5.0</td>\n",
       "      <td>30.750000</td>\n",
       "      <td>0.200000</td>\n",
       "    </tr>\n",
       "    <tr>\n",
       "      <th>3</th>\n",
       "      <td>1.0</td>\n",
       "      <td>16.000000</td>\n",
       "      <td>0.000000</td>\n",
       "    </tr>\n",
       "    <tr>\n",
       "      <th>4</th>\n",
       "      <td>2.0</td>\n",
       "      <td>52.000000</td>\n",
       "      <td>0.000000</td>\n",
       "    </tr>\n",
       "    <tr>\n",
       "      <th>5</th>\n",
       "      <td>1.0</td>\n",
       "      <td>39.000000</td>\n",
       "      <td>0.000000</td>\n",
       "    </tr>\n",
       "    <tr>\n",
       "      <th rowspan=\"2\" valign=\"top\">2</th>\n",
       "      <th>0</th>\n",
       "      <td>13.0</td>\n",
       "      <td>31.181818</td>\n",
       "      <td>0.153846</td>\n",
       "    </tr>\n",
       "    <tr>\n",
       "      <th>1</th>\n",
       "      <td>1.0</td>\n",
       "      <td>23.000000</td>\n",
       "      <td>0.000000</td>\n",
       "    </tr>\n",
       "    <tr>\n",
       "      <th rowspan=\"2\" valign=\"top\">3</th>\n",
       "      <th>1</th>\n",
       "      <td>1.0</td>\n",
       "      <td>NaN</td>\n",
       "      <td>1.000000</td>\n",
       "    </tr>\n",
       "    <tr>\n",
       "      <th>2</th>\n",
       "      <td>1.0</td>\n",
       "      <td>19.000000</td>\n",
       "      <td>0.000000</td>\n",
       "    </tr>\n",
       "    <tr>\n",
       "      <th>4</th>\n",
       "      <th>1</th>\n",
       "      <td>1.0</td>\n",
       "      <td>16.000000</td>\n",
       "      <td>0.000000</td>\n",
       "    </tr>\n",
       "    <tr>\n",
       "      <th>8</th>\n",
       "      <th>2</th>\n",
       "      <td>4.0</td>\n",
       "      <td>NaN</td>\n",
       "      <td>1.000000</td>\n",
       "    </tr>\n",
       "    <tr>\n",
       "      <th rowspan=\"23\" valign=\"top\">woman</th>\n",
       "      <th rowspan=\"6\" valign=\"top\">0</th>\n",
       "      <th>0</th>\n",
       "      <td>121.0</td>\n",
       "      <td>31.084211</td>\n",
       "      <td>0.214876</td>\n",
       "    </tr>\n",
       "    <tr>\n",
       "      <th>1</th>\n",
       "      <td>18.0</td>\n",
       "      <td>34.176471</td>\n",
       "      <td>0.055556</td>\n",
       "    </tr>\n",
       "    <tr>\n",
       "      <th>2</th>\n",
       "      <td>15.0</td>\n",
       "      <td>26.833333</td>\n",
       "      <td>0.200000</td>\n",
       "    </tr>\n",
       "    <tr>\n",
       "      <th>3</th>\n",
       "      <td>1.0</td>\n",
       "      <td>24.000000</td>\n",
       "      <td>0.000000</td>\n",
       "    </tr>\n",
       "    <tr>\n",
       "      <th>4</th>\n",
       "      <td>1.0</td>\n",
       "      <td>29.000000</td>\n",
       "      <td>0.000000</td>\n",
       "    </tr>\n",
       "    <tr>\n",
       "      <th>5</th>\n",
       "      <td>2.0</td>\n",
       "      <td>40.000000</td>\n",
       "      <td>0.000000</td>\n",
       "    </tr>\n",
       "    <tr>\n",
       "      <th rowspan=\"7\" valign=\"top\">1</th>\n",
       "      <th>0</th>\n",
       "      <td>59.0</td>\n",
       "      <td>33.355556</td>\n",
       "      <td>0.237288</td>\n",
       "    </tr>\n",
       "    <tr>\n",
       "      <th>1</th>\n",
       "      <td>21.0</td>\n",
       "      <td>35.450000</td>\n",
       "      <td>0.047619</td>\n",
       "    </tr>\n",
       "    <tr>\n",
       "      <th>2</th>\n",
       "      <td>7.0</td>\n",
       "      <td>31.333333</td>\n",
       "      <td>0.142857</td>\n",
       "    </tr>\n",
       "    <tr>\n",
       "      <th>3</th>\n",
       "      <td>2.0</td>\n",
       "      <td>51.000000</td>\n",
       "      <td>0.000000</td>\n",
       "    </tr>\n",
       "    <tr>\n",
       "      <th>4</th>\n",
       "      <td>1.0</td>\n",
       "      <td>45.000000</td>\n",
       "      <td>0.000000</td>\n",
       "    </tr>\n",
       "    <tr>\n",
       "      <th>5</th>\n",
       "      <td>2.0</td>\n",
       "      <td>38.500000</td>\n",
       "      <td>0.000000</td>\n",
       "    </tr>\n",
       "    <tr>\n",
       "      <th>6</th>\n",
       "      <td>1.0</td>\n",
       "      <td>43.000000</td>\n",
       "      <td>0.000000</td>\n",
       "    </tr>\n",
       "    <tr>\n",
       "      <th rowspan=\"4\" valign=\"top\">2</th>\n",
       "      <th>0</th>\n",
       "      <td>3.0</td>\n",
       "      <td>35.500000</td>\n",
       "      <td>0.333333</td>\n",
       "    </tr>\n",
       "    <tr>\n",
       "      <th>1</th>\n",
       "      <td>1.0</td>\n",
       "      <td>24.000000</td>\n",
       "      <td>0.000000</td>\n",
       "    </tr>\n",
       "    <tr>\n",
       "      <th>2</th>\n",
       "      <td>3.0</td>\n",
       "      <td>20.000000</td>\n",
       "      <td>0.000000</td>\n",
       "    </tr>\n",
       "    <tr>\n",
       "      <th>3</th>\n",
       "      <td>1.0</td>\n",
       "      <td>24.000000</td>\n",
       "      <td>0.000000</td>\n",
       "    </tr>\n",
       "    <tr>\n",
       "      <th rowspan=\"3\" valign=\"top\">3</th>\n",
       "      <th>0</th>\n",
       "      <td>2.0</td>\n",
       "      <td>31.500000</td>\n",
       "      <td>0.000000</td>\n",
       "    </tr>\n",
       "    <tr>\n",
       "      <th>1</th>\n",
       "      <td>3.0</td>\n",
       "      <td>NaN</td>\n",
       "      <td>1.000000</td>\n",
       "    </tr>\n",
       "    <tr>\n",
       "      <th>2</th>\n",
       "      <td>2.0</td>\n",
       "      <td>23.500000</td>\n",
       "      <td>0.000000</td>\n",
       "    </tr>\n",
       "    <tr>\n",
       "      <th>4</th>\n",
       "      <th>2</th>\n",
       "      <td>1.0</td>\n",
       "      <td>17.000000</td>\n",
       "      <td>0.000000</td>\n",
       "    </tr>\n",
       "    <tr>\n",
       "      <th>5</th>\n",
       "      <th>2</th>\n",
       "      <td>1.0</td>\n",
       "      <td>16.000000</td>\n",
       "      <td>0.000000</td>\n",
       "    </tr>\n",
       "    <tr>\n",
       "      <th>8</th>\n",
       "      <th>2</th>\n",
       "      <td>3.0</td>\n",
       "      <td>NaN</td>\n",
       "      <td>1.000000</td>\n",
       "    </tr>\n",
       "  </tbody>\n",
       "</table>\n",
       "</div>"
      ],
      "text/plain": [
       "                     len       mean  <lambda_0>\n",
       "who   sibsp parch                              \n",
       "child 0     0        6.0  12.166667    0.000000\n",
       "            1        8.0   6.052500    0.000000\n",
       "            2        9.0   4.981111    0.000000\n",
       "      1     0        5.0  13.900000    0.000000\n",
       "            1       15.0   4.566667    0.000000\n",
       "            2        7.0   5.274286    0.000000\n",
       "      2     1        5.0   2.300000    0.000000\n",
       "            2        1.0   9.000000    0.000000\n",
       "      3     1        3.0   4.333333    0.000000\n",
       "            2        4.0   6.250000    0.000000\n",
       "      4     1        8.0   5.625000    0.000000\n",
       "            2        8.0   6.125000    0.000000\n",
       "      5     2        4.0   8.750000    0.000000\n",
       "man   0     0      410.0  32.973597    0.260976\n",
       "            1       12.0  38.583333    0.000000\n",
       "            2        5.0  35.800000    0.000000\n",
       "      1     0       59.0  32.701923    0.118644\n",
       "            1       21.0  36.000000    0.095238\n",
       "            2        5.0  30.750000    0.200000\n",
       "            3        1.0  16.000000    0.000000\n",
       "            4        2.0  52.000000    0.000000\n",
       "            5        1.0  39.000000    0.000000\n",
       "      2     0       13.0  31.181818    0.153846\n",
       "            1        1.0  23.000000    0.000000\n",
       "      3     1        1.0        NaN    1.000000\n",
       "            2        1.0  19.000000    0.000000\n",
       "      4     1        1.0  16.000000    0.000000\n",
       "      8     2        4.0        NaN    1.000000\n",
       "woman 0     0      121.0  31.084211    0.214876\n",
       "            1       18.0  34.176471    0.055556\n",
       "            2       15.0  26.833333    0.200000\n",
       "            3        1.0  24.000000    0.000000\n",
       "            4        1.0  29.000000    0.000000\n",
       "            5        2.0  40.000000    0.000000\n",
       "      1     0       59.0  33.355556    0.237288\n",
       "            1       21.0  35.450000    0.047619\n",
       "            2        7.0  31.333333    0.142857\n",
       "            3        2.0  51.000000    0.000000\n",
       "            4        1.0  45.000000    0.000000\n",
       "            5        2.0  38.500000    0.000000\n",
       "            6        1.0  43.000000    0.000000\n",
       "      2     0        3.0  35.500000    0.333333\n",
       "            1        1.0  24.000000    0.000000\n",
       "            2        3.0  20.000000    0.000000\n",
       "            3        1.0  24.000000    0.000000\n",
       "      3     0        2.0  31.500000    0.000000\n",
       "            1        3.0        NaN    1.000000\n",
       "            2        2.0  23.500000    0.000000\n",
       "      4     2        1.0  17.000000    0.000000\n",
       "      5     2        1.0  16.000000    0.000000\n",
       "      8     2        3.0        NaN    1.000000"
      ]
     },
     "execution_count": 15,
     "metadata": {},
     "output_type": "execute_result"
    }
   ],
   "source": [
    "#với mỗi cặp who, sinsp, parch thì số lượng bản ghi là bn, độ tuổi trung bình tương ứng vs mean vừa tính, tỉ lệ % missing đối vs nhóm này\n",
    "titanic.groupby(['who','sibsp','parch']).age.agg([len,'mean',lambda x: (x.isnull().sum()/len(x))])"
   ]
  },
  {
   "cell_type": "markdown",
   "id": "2cc89791-4205-4ba6-b2e7-8c334f3e2c07",
   "metadata": {},
   "source": [
    "##### - who, sib, parent:đếm có bn bản ghi\n",
    "##### - tính trung bình\n",
    "##### - tính tỉ lệ missing value"
   ]
  },
  {
   "cell_type": "markdown",
   "id": "05444493-32cf-4a42-8bce-c88893bf612d",
   "metadata": {},
   "source": [
    "##### giá trị missing có thể thấy đc\n",
    "##### child\t0\t0\t6.0\t12.166667\t0.000000\n",
    "##### => trẻ em, không có ace, k có gđ đi cùng, có 6 bản ghi, tuổi trung bình là 12.16, 0% missing value"
   ]
  },
  {
   "cell_type": "code",
   "execution_count": 16,
   "id": "5cd4e355-b59d-4632-a339-d12a9c33826e",
   "metadata": {},
   "outputs": [
    {
     "data": {
      "text/plain": [
       "0      22.000000\n",
       "1      38.000000\n",
       "2      26.000000\n",
       "3      35.000000\n",
       "4      35.000000\n",
       "         ...    \n",
       "886    27.000000\n",
       "887    19.000000\n",
       "888    31.333333\n",
       "889    26.000000\n",
       "890    32.000000\n",
       "Name: age, Length: 891, dtype: float64"
      ]
     },
     "execution_count": 16,
     "metadata": {},
     "output_type": "execute_result"
    }
   ],
   "source": [
    "ser = titanic.groupby(['who','sibsp','parch']).age.apply(lambda x: x.fillna(x.mean()))\n",
    "ser"
   ]
  },
  {
   "cell_type": "markdown",
   "id": "0ca0304d-bef1-4268-9ecb-7ae66bc46964",
   "metadata": {},
   "source": [
    "### gán ser vào cột age"
   ]
  },
  {
   "cell_type": "code",
   "execution_count": 17,
   "id": "f1c1cbe6-c17d-47c1-9f5f-b6318ab75b74",
   "metadata": {},
   "outputs": [
    {
     "data": {
      "text/plain": [
       "177"
      ]
     },
     "execution_count": 17,
     "metadata": {},
     "output_type": "execute_result"
    }
   ],
   "source": [
    "titanic.age.isnull().sum()"
   ]
  },
  {
   "cell_type": "code",
   "execution_count": 18,
   "id": "cfc7d1b9-b60b-4419-b8c7-9f2d8425a840",
   "metadata": {},
   "outputs": [
    {
     "data": {
      "text/plain": [
       "11"
      ]
     },
     "execution_count": 18,
     "metadata": {},
     "output_type": "execute_result"
    }
   ],
   "source": [
    "titanic['age']=ser\n",
    "titanic.age.isnull().sum()"
   ]
  },
  {
   "cell_type": "markdown",
   "id": "b494363c-a1e3-4262-abb2-427af2fec3a5",
   "metadata": {},
   "source": [
    "#### Như vậy từ 177 NA xuống còn 11 giá trị NA. Nhưng vẫn còn 11 giá trị, giá trị đó là do cột Mean vẫn còn NA, vậy nên tiếp tục xử lý Missing values"
   ]
  },
  {
   "cell_type": "code",
   "execution_count": 19,
   "id": "13b25c66-8a90-45db-b821-d1762a98732e",
   "metadata": {},
   "outputs": [
    {
     "data": {
      "text/plain": [
       "7"
      ]
     },
     "execution_count": 19,
     "metadata": {},
     "output_type": "execute_result"
    }
   ],
   "source": [
    "ser = titanic.groupby(['sibsp','parch']).age.apply(lambda x: x.fillna(x.mean()))\n",
    "titanic['age'] = ser\n",
    "titanic.age.isnull().sum()"
   ]
  },
  {
   "cell_type": "code",
   "execution_count": 20,
   "id": "afe3b4f2-746c-47ae-9baf-2346cf648d14",
   "metadata": {},
   "outputs": [
    {
     "data": {
      "text/html": [
       "<div>\n",
       "<style scoped>\n",
       "    .dataframe tbody tr th:only-of-type {\n",
       "        vertical-align: middle;\n",
       "    }\n",
       "\n",
       "    .dataframe tbody tr th {\n",
       "        vertical-align: top;\n",
       "    }\n",
       "\n",
       "    .dataframe thead th {\n",
       "        text-align: right;\n",
       "    }\n",
       "</style>\n",
       "<table border=\"1\" class=\"dataframe\">\n",
       "  <thead>\n",
       "    <tr style=\"text-align: right;\">\n",
       "      <th></th>\n",
       "      <th></th>\n",
       "      <th>len</th>\n",
       "      <th>mean</th>\n",
       "      <th>&lt;lambda_0&gt;</th>\n",
       "    </tr>\n",
       "    <tr>\n",
       "      <th>sibsp</th>\n",
       "      <th>parch</th>\n",
       "      <th></th>\n",
       "      <th></th>\n",
       "      <th></th>\n",
       "    </tr>\n",
       "  </thead>\n",
       "  <tbody>\n",
       "    <tr>\n",
       "      <th rowspan=\"6\" valign=\"top\">0</th>\n",
       "      <th>0</th>\n",
       "      <td>537.0</td>\n",
       "      <td>32.315390</td>\n",
       "      <td>0.0</td>\n",
       "    </tr>\n",
       "    <tr>\n",
       "      <th>1</th>\n",
       "      <td>38.0</td>\n",
       "      <td>29.647276</td>\n",
       "      <td>0.0</td>\n",
       "    </tr>\n",
       "    <tr>\n",
       "      <th>2</th>\n",
       "      <td>29.0</td>\n",
       "      <td>21.597586</td>\n",
       "      <td>0.0</td>\n",
       "    </tr>\n",
       "    <tr>\n",
       "      <th>3</th>\n",
       "      <td>1.0</td>\n",
       "      <td>24.000000</td>\n",
       "      <td>0.0</td>\n",
       "    </tr>\n",
       "    <tr>\n",
       "      <th>4</th>\n",
       "      <td>1.0</td>\n",
       "      <td>29.000000</td>\n",
       "      <td>0.0</td>\n",
       "    </tr>\n",
       "    <tr>\n",
       "      <th>5</th>\n",
       "      <td>2.0</td>\n",
       "      <td>40.000000</td>\n",
       "      <td>0.0</td>\n",
       "    </tr>\n",
       "    <tr>\n",
       "      <th rowspan=\"7\" valign=\"top\">1</th>\n",
       "      <th>0</th>\n",
       "      <td>123.0</td>\n",
       "      <td>32.251148</td>\n",
       "      <td>0.0</td>\n",
       "    </tr>\n",
       "    <tr>\n",
       "      <th>1</th>\n",
       "      <td>57.0</td>\n",
       "      <td>27.525439</td>\n",
       "      <td>0.0</td>\n",
       "    </tr>\n",
       "    <tr>\n",
       "      <th>2</th>\n",
       "      <td>19.0</td>\n",
       "      <td>21.579123</td>\n",
       "      <td>0.0</td>\n",
       "    </tr>\n",
       "    <tr>\n",
       "      <th>3</th>\n",
       "      <td>3.0</td>\n",
       "      <td>39.333333</td>\n",
       "      <td>0.0</td>\n",
       "    </tr>\n",
       "    <tr>\n",
       "      <th>4</th>\n",
       "      <td>3.0</td>\n",
       "      <td>49.666667</td>\n",
       "      <td>0.0</td>\n",
       "    </tr>\n",
       "    <tr>\n",
       "      <th>5</th>\n",
       "      <td>3.0</td>\n",
       "      <td>38.666667</td>\n",
       "      <td>0.0</td>\n",
       "    </tr>\n",
       "    <tr>\n",
       "      <th>6</th>\n",
       "      <td>1.0</td>\n",
       "      <td>43.000000</td>\n",
       "      <td>0.0</td>\n",
       "    </tr>\n",
       "    <tr>\n",
       "      <th rowspan=\"4\" valign=\"top\">2</th>\n",
       "      <th>0</th>\n",
       "      <td>16.0</td>\n",
       "      <td>31.991477</td>\n",
       "      <td>0.0</td>\n",
       "    </tr>\n",
       "    <tr>\n",
       "      <th>1</th>\n",
       "      <td>7.0</td>\n",
       "      <td>8.357143</td>\n",
       "      <td>0.0</td>\n",
       "    </tr>\n",
       "    <tr>\n",
       "      <th>2</th>\n",
       "      <td>4.0</td>\n",
       "      <td>17.250000</td>\n",
       "      <td>0.0</td>\n",
       "    </tr>\n",
       "    <tr>\n",
       "      <th>3</th>\n",
       "      <td>1.0</td>\n",
       "      <td>24.000000</td>\n",
       "      <td>0.0</td>\n",
       "    </tr>\n",
       "    <tr>\n",
       "      <th rowspan=\"3\" valign=\"top\">3</th>\n",
       "      <th>0</th>\n",
       "      <td>2.0</td>\n",
       "      <td>31.500000</td>\n",
       "      <td>0.0</td>\n",
       "    </tr>\n",
       "    <tr>\n",
       "      <th>1</th>\n",
       "      <td>7.0</td>\n",
       "      <td>4.333333</td>\n",
       "      <td>0.0</td>\n",
       "    </tr>\n",
       "    <tr>\n",
       "      <th>2</th>\n",
       "      <td>7.0</td>\n",
       "      <td>13.000000</td>\n",
       "      <td>0.0</td>\n",
       "    </tr>\n",
       "    <tr>\n",
       "      <th rowspan=\"2\" valign=\"top\">4</th>\n",
       "      <th>1</th>\n",
       "      <td>9.0</td>\n",
       "      <td>6.777778</td>\n",
       "      <td>0.0</td>\n",
       "    </tr>\n",
       "    <tr>\n",
       "      <th>2</th>\n",
       "      <td>9.0</td>\n",
       "      <td>7.333333</td>\n",
       "      <td>0.0</td>\n",
       "    </tr>\n",
       "    <tr>\n",
       "      <th>5</th>\n",
       "      <th>2</th>\n",
       "      <td>5.0</td>\n",
       "      <td>10.200000</td>\n",
       "      <td>0.0</td>\n",
       "    </tr>\n",
       "    <tr>\n",
       "      <th>8</th>\n",
       "      <th>2</th>\n",
       "      <td>7.0</td>\n",
       "      <td>NaN</td>\n",
       "      <td>1.0</td>\n",
       "    </tr>\n",
       "  </tbody>\n",
       "</table>\n",
       "</div>"
      ],
      "text/plain": [
       "               len       mean  <lambda_0>\n",
       "sibsp parch                              \n",
       "0     0      537.0  32.315390         0.0\n",
       "      1       38.0  29.647276         0.0\n",
       "      2       29.0  21.597586         0.0\n",
       "      3        1.0  24.000000         0.0\n",
       "      4        1.0  29.000000         0.0\n",
       "      5        2.0  40.000000         0.0\n",
       "1     0      123.0  32.251148         0.0\n",
       "      1       57.0  27.525439         0.0\n",
       "      2       19.0  21.579123         0.0\n",
       "      3        3.0  39.333333         0.0\n",
       "      4        3.0  49.666667         0.0\n",
       "      5        3.0  38.666667         0.0\n",
       "      6        1.0  43.000000         0.0\n",
       "2     0       16.0  31.991477         0.0\n",
       "      1        7.0   8.357143         0.0\n",
       "      2        4.0  17.250000         0.0\n",
       "      3        1.0  24.000000         0.0\n",
       "3     0        2.0  31.500000         0.0\n",
       "      1        7.0   4.333333         0.0\n",
       "      2        7.0  13.000000         0.0\n",
       "4     1        9.0   6.777778         0.0\n",
       "      2        9.0   7.333333         0.0\n",
       "5     2        5.0  10.200000         0.0\n",
       "8     2        7.0        NaN         1.0"
      ]
     },
     "execution_count": 20,
     "metadata": {},
     "output_type": "execute_result"
    }
   ],
   "source": [
    "titanic.groupby(['sibsp','parch']).age.agg([len,'mean',lambda x: (x.isnull().sum()/len(x))])"
   ]
  },
  {
   "cell_type": "markdown",
   "id": "abdc56c8-f700-41b0-b919-6ee4d733d6c4",
   "metadata": {},
   "source": [
    "#### Còn 1 giá trị NA. Cuối cùng sẽ xử lý bằng cách thay bằng giá trị trung bình"
   ]
  },
  {
   "cell_type": "code",
   "execution_count": 21,
   "id": "cf05266d-c8ac-47de-9a20-09ae7b932d5e",
   "metadata": {},
   "outputs": [],
   "source": [
    "kid_avg_age = titanic[titanic['who']=='child'].age.mean()"
   ]
  },
  {
   "cell_type": "code",
   "execution_count": 22,
   "id": "9a47b19a-3be7-4f09-a579-e5b3c5fb7053",
   "metadata": {},
   "outputs": [
    {
     "data": {
      "text/plain": [
       "0"
      ]
     },
     "execution_count": 22,
     "metadata": {},
     "output_type": "execute_result"
    }
   ],
   "source": [
    "titanic['age'] = titanic['age'].fillna(kid_avg_age)\n",
    "titanic.age.isnull().sum()"
   ]
  },
  {
   "cell_type": "markdown",
   "id": "fe4e0c67-fc7b-496f-aef2-17ea08b31407",
   "metadata": {},
   "source": [
    "### HẾT NULL Ở AGE"
   ]
  },
  {
   "cell_type": "raw",
   "id": "3a1e9189-bb46-4272-be0b-4956be09576f",
   "metadata": {},
   "source": []
  },
  {
   "cell_type": "code",
   "execution_count": null,
   "id": "00f38bb8-eba7-44fa-a1bd-371562a2b7ec",
   "metadata": {},
   "outputs": [],
   "source": []
  },
  {
   "cell_type": "code",
   "execution_count": null,
   "id": "b0b11d5a-78ce-406b-9e72-6cdd7d4482f2",
   "metadata": {},
   "outputs": [],
   "source": []
  },
  {
   "cell_type": "markdown",
   "id": "d027d331-2e05-4a2f-9ef7-db06ab2ae6a3",
   "metadata": {},
   "source": [
    "## *b) Embarked*"
   ]
  },
  {
   "cell_type": "code",
   "execution_count": 23,
   "id": "7ee80d25-0c8b-493c-8684-e3e5679d3b9e",
   "metadata": {},
   "outputs": [
    {
     "data": {
      "text/plain": [
       "S      644\n",
       "C      168\n",
       "Q       77\n",
       "NaN      2\n",
       "Name: embarked, dtype: int64"
      ]
     },
     "execution_count": 23,
     "metadata": {},
     "output_type": "execute_result"
    }
   ],
   "source": [
    "titanic['embarked'].value_counts(dropna=False)"
   ]
  },
  {
   "cell_type": "markdown",
   "id": "3baa4339-dac9-4c84-b72d-99cef57117d4",
   "metadata": {},
   "source": [
    "#### có 644 bản ghi đi từ cảng S,\n",
    "#### 168 người đi từ cảng C..."
   ]
  },
  {
   "cell_type": "code",
   "execution_count": 24,
   "id": "b7ae8d40-0c4e-4683-a9a2-f23cf575e442",
   "metadata": {},
   "outputs": [
    {
     "data": {
      "text/html": [
       "<div>\n",
       "<style scoped>\n",
       "    .dataframe tbody tr th:only-of-type {\n",
       "        vertical-align: middle;\n",
       "    }\n",
       "\n",
       "    .dataframe tbody tr th {\n",
       "        vertical-align: top;\n",
       "    }\n",
       "\n",
       "    .dataframe thead th {\n",
       "        text-align: right;\n",
       "    }\n",
       "</style>\n",
       "<table border=\"1\" class=\"dataframe\">\n",
       "  <thead>\n",
       "    <tr style=\"text-align: right;\">\n",
       "      <th></th>\n",
       "      <th>survived</th>\n",
       "      <th>pclass</th>\n",
       "      <th>sex</th>\n",
       "      <th>age</th>\n",
       "      <th>sibsp</th>\n",
       "      <th>parch</th>\n",
       "      <th>fare</th>\n",
       "      <th>embarked</th>\n",
       "      <th>class</th>\n",
       "      <th>who</th>\n",
       "      <th>adult_male</th>\n",
       "      <th>deck</th>\n",
       "      <th>embark_town</th>\n",
       "      <th>alive</th>\n",
       "      <th>alone</th>\n",
       "    </tr>\n",
       "  </thead>\n",
       "  <tbody>\n",
       "    <tr>\n",
       "      <th>61</th>\n",
       "      <td>1</td>\n",
       "      <td>1</td>\n",
       "      <td>female</td>\n",
       "      <td>38.0</td>\n",
       "      <td>0</td>\n",
       "      <td>0</td>\n",
       "      <td>80.0</td>\n",
       "      <td>NaN</td>\n",
       "      <td>First</td>\n",
       "      <td>woman</td>\n",
       "      <td>False</td>\n",
       "      <td>B</td>\n",
       "      <td>NaN</td>\n",
       "      <td>yes</td>\n",
       "      <td>True</td>\n",
       "    </tr>\n",
       "    <tr>\n",
       "      <th>829</th>\n",
       "      <td>1</td>\n",
       "      <td>1</td>\n",
       "      <td>female</td>\n",
       "      <td>62.0</td>\n",
       "      <td>0</td>\n",
       "      <td>0</td>\n",
       "      <td>80.0</td>\n",
       "      <td>NaN</td>\n",
       "      <td>First</td>\n",
       "      <td>woman</td>\n",
       "      <td>False</td>\n",
       "      <td>B</td>\n",
       "      <td>NaN</td>\n",
       "      <td>yes</td>\n",
       "      <td>True</td>\n",
       "    </tr>\n",
       "  </tbody>\n",
       "</table>\n",
       "</div>"
      ],
      "text/plain": [
       "     survived  pclass     sex   age  sibsp  parch  fare embarked  class  \\\n",
       "61          1       1  female  38.0      0      0  80.0      NaN  First   \n",
       "829         1       1  female  62.0      0      0  80.0      NaN  First   \n",
       "\n",
       "       who  adult_male deck embark_town alive  alone  \n",
       "61   woman       False    B         NaN   yes   True  \n",
       "829  woman       False    B         NaN   yes   True  "
      ]
     },
     "execution_count": 24,
     "metadata": {},
     "output_type": "execute_result"
    }
   ],
   "source": [
    "titanic[titanic['embarked'].isnull()] #check giá trị null"
   ]
  },
  {
   "cell_type": "markdown",
   "id": "715fc8c8-2e04-458f-9347-41423273fbae",
   "metadata": {},
   "source": [
    "#### class=First => giàu\n",
    "#### sibsp=1 => ko đi cùng ai"
   ]
  },
  {
   "cell_type": "markdown",
   "id": "eed170de-96a8-4209-ad95-85b1ea4d3897",
   "metadata": {},
   "source": [
    "### Lọc bản ghi có giới tính nữ, sống sót, đi 1 mình, sd hạng vé 1"
   ]
  },
  {
   "cell_type": "code",
   "execution_count": null,
   "id": "662f5985-ea73-427b-abbc-b0bf74f94d56",
   "metadata": {},
   "outputs": [],
   "source": [
    "f1 = (titanic['survived']==1)\n",
    "f2 = (titanic['pclass']==1)\n",
    "f3 = (titanic['pclass']==0)\n",
    "f4 = (titanic['sex']=='female')\n",
    "f5 = (titanic['parch']==0)\n",
    "titanic[f1 & f2 & f3 & f4 & f5]"
   ]
  },
  {
   "cell_type": "markdown",
   "id": "328eea2b-dee0-405f-bed6-4e45f51a3955",
   "metadata": {},
   "source": [
    "### **Hoặc**"
   ]
  },
  {
   "cell_type": "code",
   "execution_count": 25,
   "id": "fa44cd5d-e55c-48f3-bfdd-e73fae8fb73b",
   "metadata": {},
   "outputs": [
    {
     "data": {
      "text/html": [
       "<div>\n",
       "<style scoped>\n",
       "    .dataframe tbody tr th:only-of-type {\n",
       "        vertical-align: middle;\n",
       "    }\n",
       "\n",
       "    .dataframe tbody tr th {\n",
       "        vertical-align: top;\n",
       "    }\n",
       "\n",
       "    .dataframe thead th {\n",
       "        text-align: right;\n",
       "    }\n",
       "</style>\n",
       "<table border=\"1\" class=\"dataframe\">\n",
       "  <thead>\n",
       "    <tr style=\"text-align: right;\">\n",
       "      <th></th>\n",
       "      <th>survived</th>\n",
       "      <th>pclass</th>\n",
       "      <th>sex</th>\n",
       "      <th>age</th>\n",
       "      <th>sibsp</th>\n",
       "      <th>parch</th>\n",
       "      <th>fare</th>\n",
       "      <th>embarked</th>\n",
       "      <th>class</th>\n",
       "      <th>who</th>\n",
       "      <th>adult_male</th>\n",
       "      <th>deck</th>\n",
       "      <th>embark_town</th>\n",
       "      <th>alive</th>\n",
       "      <th>alone</th>\n",
       "    </tr>\n",
       "  </thead>\n",
       "  <tbody>\n",
       "    <tr>\n",
       "      <th>11</th>\n",
       "      <td>1</td>\n",
       "      <td>1</td>\n",
       "      <td>female</td>\n",
       "      <td>58.000000</td>\n",
       "      <td>0</td>\n",
       "      <td>0</td>\n",
       "      <td>26.5500</td>\n",
       "      <td>S</td>\n",
       "      <td>First</td>\n",
       "      <td>woman</td>\n",
       "      <td>False</td>\n",
       "      <td>C</td>\n",
       "      <td>Southampton</td>\n",
       "      <td>yes</td>\n",
       "      <td>True</td>\n",
       "    </tr>\n",
       "    <tr>\n",
       "      <th>61</th>\n",
       "      <td>1</td>\n",
       "      <td>1</td>\n",
       "      <td>female</td>\n",
       "      <td>38.000000</td>\n",
       "      <td>0</td>\n",
       "      <td>0</td>\n",
       "      <td>80.0000</td>\n",
       "      <td>NaN</td>\n",
       "      <td>First</td>\n",
       "      <td>woman</td>\n",
       "      <td>False</td>\n",
       "      <td>B</td>\n",
       "      <td>NaN</td>\n",
       "      <td>yes</td>\n",
       "      <td>True</td>\n",
       "    </tr>\n",
       "    <tr>\n",
       "      <th>194</th>\n",
       "      <td>1</td>\n",
       "      <td>1</td>\n",
       "      <td>female</td>\n",
       "      <td>44.000000</td>\n",
       "      <td>0</td>\n",
       "      <td>0</td>\n",
       "      <td>27.7208</td>\n",
       "      <td>C</td>\n",
       "      <td>First</td>\n",
       "      <td>woman</td>\n",
       "      <td>False</td>\n",
       "      <td>B</td>\n",
       "      <td>Cherbourg</td>\n",
       "      <td>yes</td>\n",
       "      <td>True</td>\n",
       "    </tr>\n",
       "    <tr>\n",
       "      <th>195</th>\n",
       "      <td>1</td>\n",
       "      <td>1</td>\n",
       "      <td>female</td>\n",
       "      <td>58.000000</td>\n",
       "      <td>0</td>\n",
       "      <td>0</td>\n",
       "      <td>146.5208</td>\n",
       "      <td>C</td>\n",
       "      <td>First</td>\n",
       "      <td>woman</td>\n",
       "      <td>False</td>\n",
       "      <td>B</td>\n",
       "      <td>Cherbourg</td>\n",
       "      <td>yes</td>\n",
       "      <td>True</td>\n",
       "    </tr>\n",
       "    <tr>\n",
       "      <th>218</th>\n",
       "      <td>1</td>\n",
       "      <td>1</td>\n",
       "      <td>female</td>\n",
       "      <td>32.000000</td>\n",
       "      <td>0</td>\n",
       "      <td>0</td>\n",
       "      <td>76.2917</td>\n",
       "      <td>C</td>\n",
       "      <td>First</td>\n",
       "      <td>woman</td>\n",
       "      <td>False</td>\n",
       "      <td>D</td>\n",
       "      <td>Cherbourg</td>\n",
       "      <td>yes</td>\n",
       "      <td>True</td>\n",
       "    </tr>\n",
       "    <tr>\n",
       "      <th>256</th>\n",
       "      <td>1</td>\n",
       "      <td>1</td>\n",
       "      <td>female</td>\n",
       "      <td>31.084211</td>\n",
       "      <td>0</td>\n",
       "      <td>0</td>\n",
       "      <td>79.2000</td>\n",
       "      <td>C</td>\n",
       "      <td>First</td>\n",
       "      <td>woman</td>\n",
       "      <td>False</td>\n",
       "      <td>NaN</td>\n",
       "      <td>Cherbourg</td>\n",
       "      <td>yes</td>\n",
       "      <td>True</td>\n",
       "    </tr>\n",
       "    <tr>\n",
       "      <th>257</th>\n",
       "      <td>1</td>\n",
       "      <td>1</td>\n",
       "      <td>female</td>\n",
       "      <td>30.000000</td>\n",
       "      <td>0</td>\n",
       "      <td>0</td>\n",
       "      <td>86.5000</td>\n",
       "      <td>S</td>\n",
       "      <td>First</td>\n",
       "      <td>woman</td>\n",
       "      <td>False</td>\n",
       "      <td>B</td>\n",
       "      <td>Southampton</td>\n",
       "      <td>yes</td>\n",
       "      <td>True</td>\n",
       "    </tr>\n",
       "    <tr>\n",
       "      <th>258</th>\n",
       "      <td>1</td>\n",
       "      <td>1</td>\n",
       "      <td>female</td>\n",
       "      <td>35.000000</td>\n",
       "      <td>0</td>\n",
       "      <td>0</td>\n",
       "      <td>512.3292</td>\n",
       "      <td>C</td>\n",
       "      <td>First</td>\n",
       "      <td>woman</td>\n",
       "      <td>False</td>\n",
       "      <td>NaN</td>\n",
       "      <td>Cherbourg</td>\n",
       "      <td>yes</td>\n",
       "      <td>True</td>\n",
       "    </tr>\n",
       "    <tr>\n",
       "      <th>269</th>\n",
       "      <td>1</td>\n",
       "      <td>1</td>\n",
       "      <td>female</td>\n",
       "      <td>35.000000</td>\n",
       "      <td>0</td>\n",
       "      <td>0</td>\n",
       "      <td>135.6333</td>\n",
       "      <td>S</td>\n",
       "      <td>First</td>\n",
       "      <td>woman</td>\n",
       "      <td>False</td>\n",
       "      <td>C</td>\n",
       "      <td>Southampton</td>\n",
       "      <td>yes</td>\n",
       "      <td>True</td>\n",
       "    </tr>\n",
       "    <tr>\n",
       "      <th>290</th>\n",
       "      <td>1</td>\n",
       "      <td>1</td>\n",
       "      <td>female</td>\n",
       "      <td>26.000000</td>\n",
       "      <td>0</td>\n",
       "      <td>0</td>\n",
       "      <td>78.8500</td>\n",
       "      <td>S</td>\n",
       "      <td>First</td>\n",
       "      <td>woman</td>\n",
       "      <td>False</td>\n",
       "      <td>NaN</td>\n",
       "      <td>Southampton</td>\n",
       "      <td>yes</td>\n",
       "      <td>True</td>\n",
       "    </tr>\n",
       "    <tr>\n",
       "      <th>306</th>\n",
       "      <td>1</td>\n",
       "      <td>1</td>\n",
       "      <td>female</td>\n",
       "      <td>31.084211</td>\n",
       "      <td>0</td>\n",
       "      <td>0</td>\n",
       "      <td>110.8833</td>\n",
       "      <td>C</td>\n",
       "      <td>First</td>\n",
       "      <td>woman</td>\n",
       "      <td>False</td>\n",
       "      <td>NaN</td>\n",
       "      <td>Cherbourg</td>\n",
       "      <td>yes</td>\n",
       "      <td>True</td>\n",
       "    </tr>\n",
       "    <tr>\n",
       "      <th>309</th>\n",
       "      <td>1</td>\n",
       "      <td>1</td>\n",
       "      <td>female</td>\n",
       "      <td>30.000000</td>\n",
       "      <td>0</td>\n",
       "      <td>0</td>\n",
       "      <td>56.9292</td>\n",
       "      <td>C</td>\n",
       "      <td>First</td>\n",
       "      <td>woman</td>\n",
       "      <td>False</td>\n",
       "      <td>E</td>\n",
       "      <td>Cherbourg</td>\n",
       "      <td>yes</td>\n",
       "      <td>True</td>\n",
       "    </tr>\n",
       "    <tr>\n",
       "      <th>310</th>\n",
       "      <td>1</td>\n",
       "      <td>1</td>\n",
       "      <td>female</td>\n",
       "      <td>24.000000</td>\n",
       "      <td>0</td>\n",
       "      <td>0</td>\n",
       "      <td>83.1583</td>\n",
       "      <td>C</td>\n",
       "      <td>First</td>\n",
       "      <td>woman</td>\n",
       "      <td>False</td>\n",
       "      <td>C</td>\n",
       "      <td>Cherbourg</td>\n",
       "      <td>yes</td>\n",
       "      <td>True</td>\n",
       "    </tr>\n",
       "    <tr>\n",
       "      <th>325</th>\n",
       "      <td>1</td>\n",
       "      <td>1</td>\n",
       "      <td>female</td>\n",
       "      <td>36.000000</td>\n",
       "      <td>0</td>\n",
       "      <td>0</td>\n",
       "      <td>135.6333</td>\n",
       "      <td>C</td>\n",
       "      <td>First</td>\n",
       "      <td>woman</td>\n",
       "      <td>False</td>\n",
       "      <td>C</td>\n",
       "      <td>Cherbourg</td>\n",
       "      <td>yes</td>\n",
       "      <td>True</td>\n",
       "    </tr>\n",
       "    <tr>\n",
       "      <th>337</th>\n",
       "      <td>1</td>\n",
       "      <td>1</td>\n",
       "      <td>female</td>\n",
       "      <td>41.000000</td>\n",
       "      <td>0</td>\n",
       "      <td>0</td>\n",
       "      <td>134.5000</td>\n",
       "      <td>C</td>\n",
       "      <td>First</td>\n",
       "      <td>woman</td>\n",
       "      <td>False</td>\n",
       "      <td>E</td>\n",
       "      <td>Cherbourg</td>\n",
       "      <td>yes</td>\n",
       "      <td>True</td>\n",
       "    </tr>\n",
       "    <tr>\n",
       "      <th>369</th>\n",
       "      <td>1</td>\n",
       "      <td>1</td>\n",
       "      <td>female</td>\n",
       "      <td>24.000000</td>\n",
       "      <td>0</td>\n",
       "      <td>0</td>\n",
       "      <td>69.3000</td>\n",
       "      <td>C</td>\n",
       "      <td>First</td>\n",
       "      <td>woman</td>\n",
       "      <td>False</td>\n",
       "      <td>B</td>\n",
       "      <td>Cherbourg</td>\n",
       "      <td>yes</td>\n",
       "      <td>True</td>\n",
       "    </tr>\n",
       "    <tr>\n",
       "      <th>380</th>\n",
       "      <td>1</td>\n",
       "      <td>1</td>\n",
       "      <td>female</td>\n",
       "      <td>42.000000</td>\n",
       "      <td>0</td>\n",
       "      <td>0</td>\n",
       "      <td>227.5250</td>\n",
       "      <td>C</td>\n",
       "      <td>First</td>\n",
       "      <td>woman</td>\n",
       "      <td>False</td>\n",
       "      <td>NaN</td>\n",
       "      <td>Cherbourg</td>\n",
       "      <td>yes</td>\n",
       "      <td>True</td>\n",
       "    </tr>\n",
       "    <tr>\n",
       "      <th>504</th>\n",
       "      <td>1</td>\n",
       "      <td>1</td>\n",
       "      <td>female</td>\n",
       "      <td>16.000000</td>\n",
       "      <td>0</td>\n",
       "      <td>0</td>\n",
       "      <td>86.5000</td>\n",
       "      <td>S</td>\n",
       "      <td>First</td>\n",
       "      <td>woman</td>\n",
       "      <td>False</td>\n",
       "      <td>B</td>\n",
       "      <td>Southampton</td>\n",
       "      <td>yes</td>\n",
       "      <td>True</td>\n",
       "    </tr>\n",
       "    <tr>\n",
       "      <th>520</th>\n",
       "      <td>1</td>\n",
       "      <td>1</td>\n",
       "      <td>female</td>\n",
       "      <td>30.000000</td>\n",
       "      <td>0</td>\n",
       "      <td>0</td>\n",
       "      <td>93.5000</td>\n",
       "      <td>S</td>\n",
       "      <td>First</td>\n",
       "      <td>woman</td>\n",
       "      <td>False</td>\n",
       "      <td>B</td>\n",
       "      <td>Southampton</td>\n",
       "      <td>yes</td>\n",
       "      <td>True</td>\n",
       "    </tr>\n",
       "    <tr>\n",
       "      <th>537</th>\n",
       "      <td>1</td>\n",
       "      <td>1</td>\n",
       "      <td>female</td>\n",
       "      <td>30.000000</td>\n",
       "      <td>0</td>\n",
       "      <td>0</td>\n",
       "      <td>106.4250</td>\n",
       "      <td>C</td>\n",
       "      <td>First</td>\n",
       "      <td>woman</td>\n",
       "      <td>False</td>\n",
       "      <td>NaN</td>\n",
       "      <td>Cherbourg</td>\n",
       "      <td>yes</td>\n",
       "      <td>True</td>\n",
       "    </tr>\n",
       "    <tr>\n",
       "      <th>609</th>\n",
       "      <td>1</td>\n",
       "      <td>1</td>\n",
       "      <td>female</td>\n",
       "      <td>40.000000</td>\n",
       "      <td>0</td>\n",
       "      <td>0</td>\n",
       "      <td>153.4625</td>\n",
       "      <td>S</td>\n",
       "      <td>First</td>\n",
       "      <td>woman</td>\n",
       "      <td>False</td>\n",
       "      <td>C</td>\n",
       "      <td>Southampton</td>\n",
       "      <td>yes</td>\n",
       "      <td>True</td>\n",
       "    </tr>\n",
       "    <tr>\n",
       "      <th>627</th>\n",
       "      <td>1</td>\n",
       "      <td>1</td>\n",
       "      <td>female</td>\n",
       "      <td>21.000000</td>\n",
       "      <td>0</td>\n",
       "      <td>0</td>\n",
       "      <td>77.9583</td>\n",
       "      <td>S</td>\n",
       "      <td>First</td>\n",
       "      <td>woman</td>\n",
       "      <td>False</td>\n",
       "      <td>D</td>\n",
       "      <td>Southampton</td>\n",
       "      <td>yes</td>\n",
       "      <td>True</td>\n",
       "    </tr>\n",
       "    <tr>\n",
       "      <th>641</th>\n",
       "      <td>1</td>\n",
       "      <td>1</td>\n",
       "      <td>female</td>\n",
       "      <td>24.000000</td>\n",
       "      <td>0</td>\n",
       "      <td>0</td>\n",
       "      <td>69.3000</td>\n",
       "      <td>C</td>\n",
       "      <td>First</td>\n",
       "      <td>woman</td>\n",
       "      <td>False</td>\n",
       "      <td>B</td>\n",
       "      <td>Cherbourg</td>\n",
       "      <td>yes</td>\n",
       "      <td>True</td>\n",
       "    </tr>\n",
       "    <tr>\n",
       "      <th>708</th>\n",
       "      <td>1</td>\n",
       "      <td>1</td>\n",
       "      <td>female</td>\n",
       "      <td>22.000000</td>\n",
       "      <td>0</td>\n",
       "      <td>0</td>\n",
       "      <td>151.5500</td>\n",
       "      <td>S</td>\n",
       "      <td>First</td>\n",
       "      <td>woman</td>\n",
       "      <td>False</td>\n",
       "      <td>NaN</td>\n",
       "      <td>Southampton</td>\n",
       "      <td>yes</td>\n",
       "      <td>True</td>\n",
       "    </tr>\n",
       "    <tr>\n",
       "      <th>710</th>\n",
       "      <td>1</td>\n",
       "      <td>1</td>\n",
       "      <td>female</td>\n",
       "      <td>24.000000</td>\n",
       "      <td>0</td>\n",
       "      <td>0</td>\n",
       "      <td>49.5042</td>\n",
       "      <td>C</td>\n",
       "      <td>First</td>\n",
       "      <td>woman</td>\n",
       "      <td>False</td>\n",
       "      <td>C</td>\n",
       "      <td>Cherbourg</td>\n",
       "      <td>yes</td>\n",
       "      <td>True</td>\n",
       "    </tr>\n",
       "    <tr>\n",
       "      <th>716</th>\n",
       "      <td>1</td>\n",
       "      <td>1</td>\n",
       "      <td>female</td>\n",
       "      <td>38.000000</td>\n",
       "      <td>0</td>\n",
       "      <td>0</td>\n",
       "      <td>227.5250</td>\n",
       "      <td>C</td>\n",
       "      <td>First</td>\n",
       "      <td>woman</td>\n",
       "      <td>False</td>\n",
       "      <td>C</td>\n",
       "      <td>Cherbourg</td>\n",
       "      <td>yes</td>\n",
       "      <td>True</td>\n",
       "    </tr>\n",
       "    <tr>\n",
       "      <th>730</th>\n",
       "      <td>1</td>\n",
       "      <td>1</td>\n",
       "      <td>female</td>\n",
       "      <td>29.000000</td>\n",
       "      <td>0</td>\n",
       "      <td>0</td>\n",
       "      <td>211.3375</td>\n",
       "      <td>S</td>\n",
       "      <td>First</td>\n",
       "      <td>woman</td>\n",
       "      <td>False</td>\n",
       "      <td>B</td>\n",
       "      <td>Southampton</td>\n",
       "      <td>yes</td>\n",
       "      <td>True</td>\n",
       "    </tr>\n",
       "    <tr>\n",
       "      <th>759</th>\n",
       "      <td>1</td>\n",
       "      <td>1</td>\n",
       "      <td>female</td>\n",
       "      <td>33.000000</td>\n",
       "      <td>0</td>\n",
       "      <td>0</td>\n",
       "      <td>86.5000</td>\n",
       "      <td>S</td>\n",
       "      <td>First</td>\n",
       "      <td>woman</td>\n",
       "      <td>False</td>\n",
       "      <td>B</td>\n",
       "      <td>Southampton</td>\n",
       "      <td>yes</td>\n",
       "      <td>True</td>\n",
       "    </tr>\n",
       "    <tr>\n",
       "      <th>796</th>\n",
       "      <td>1</td>\n",
       "      <td>1</td>\n",
       "      <td>female</td>\n",
       "      <td>49.000000</td>\n",
       "      <td>0</td>\n",
       "      <td>0</td>\n",
       "      <td>25.9292</td>\n",
       "      <td>S</td>\n",
       "      <td>First</td>\n",
       "      <td>woman</td>\n",
       "      <td>False</td>\n",
       "      <td>D</td>\n",
       "      <td>Southampton</td>\n",
       "      <td>yes</td>\n",
       "      <td>True</td>\n",
       "    </tr>\n",
       "    <tr>\n",
       "      <th>829</th>\n",
       "      <td>1</td>\n",
       "      <td>1</td>\n",
       "      <td>female</td>\n",
       "      <td>62.000000</td>\n",
       "      <td>0</td>\n",
       "      <td>0</td>\n",
       "      <td>80.0000</td>\n",
       "      <td>NaN</td>\n",
       "      <td>First</td>\n",
       "      <td>woman</td>\n",
       "      <td>False</td>\n",
       "      <td>B</td>\n",
       "      <td>NaN</td>\n",
       "      <td>yes</td>\n",
       "      <td>True</td>\n",
       "    </tr>\n",
       "    <tr>\n",
       "      <th>842</th>\n",
       "      <td>1</td>\n",
       "      <td>1</td>\n",
       "      <td>female</td>\n",
       "      <td>30.000000</td>\n",
       "      <td>0</td>\n",
       "      <td>0</td>\n",
       "      <td>31.0000</td>\n",
       "      <td>C</td>\n",
       "      <td>First</td>\n",
       "      <td>woman</td>\n",
       "      <td>False</td>\n",
       "      <td>NaN</td>\n",
       "      <td>Cherbourg</td>\n",
       "      <td>yes</td>\n",
       "      <td>True</td>\n",
       "    </tr>\n",
       "    <tr>\n",
       "      <th>862</th>\n",
       "      <td>1</td>\n",
       "      <td>1</td>\n",
       "      <td>female</td>\n",
       "      <td>48.000000</td>\n",
       "      <td>0</td>\n",
       "      <td>0</td>\n",
       "      <td>25.9292</td>\n",
       "      <td>S</td>\n",
       "      <td>First</td>\n",
       "      <td>woman</td>\n",
       "      <td>False</td>\n",
       "      <td>D</td>\n",
       "      <td>Southampton</td>\n",
       "      <td>yes</td>\n",
       "      <td>True</td>\n",
       "    </tr>\n",
       "    <tr>\n",
       "      <th>887</th>\n",
       "      <td>1</td>\n",
       "      <td>1</td>\n",
       "      <td>female</td>\n",
       "      <td>19.000000</td>\n",
       "      <td>0</td>\n",
       "      <td>0</td>\n",
       "      <td>30.0000</td>\n",
       "      <td>S</td>\n",
       "      <td>First</td>\n",
       "      <td>woman</td>\n",
       "      <td>False</td>\n",
       "      <td>B</td>\n",
       "      <td>Southampton</td>\n",
       "      <td>yes</td>\n",
       "      <td>True</td>\n",
       "    </tr>\n",
       "  </tbody>\n",
       "</table>\n",
       "</div>"
      ],
      "text/plain": [
       "     survived  pclass     sex        age  sibsp  parch      fare embarked  \\\n",
       "11          1       1  female  58.000000      0      0   26.5500        S   \n",
       "61          1       1  female  38.000000      0      0   80.0000      NaN   \n",
       "194         1       1  female  44.000000      0      0   27.7208        C   \n",
       "195         1       1  female  58.000000      0      0  146.5208        C   \n",
       "218         1       1  female  32.000000      0      0   76.2917        C   \n",
       "256         1       1  female  31.084211      0      0   79.2000        C   \n",
       "257         1       1  female  30.000000      0      0   86.5000        S   \n",
       "258         1       1  female  35.000000      0      0  512.3292        C   \n",
       "269         1       1  female  35.000000      0      0  135.6333        S   \n",
       "290         1       1  female  26.000000      0      0   78.8500        S   \n",
       "306         1       1  female  31.084211      0      0  110.8833        C   \n",
       "309         1       1  female  30.000000      0      0   56.9292        C   \n",
       "310         1       1  female  24.000000      0      0   83.1583        C   \n",
       "325         1       1  female  36.000000      0      0  135.6333        C   \n",
       "337         1       1  female  41.000000      0      0  134.5000        C   \n",
       "369         1       1  female  24.000000      0      0   69.3000        C   \n",
       "380         1       1  female  42.000000      0      0  227.5250        C   \n",
       "504         1       1  female  16.000000      0      0   86.5000        S   \n",
       "520         1       1  female  30.000000      0      0   93.5000        S   \n",
       "537         1       1  female  30.000000      0      0  106.4250        C   \n",
       "609         1       1  female  40.000000      0      0  153.4625        S   \n",
       "627         1       1  female  21.000000      0      0   77.9583        S   \n",
       "641         1       1  female  24.000000      0      0   69.3000        C   \n",
       "708         1       1  female  22.000000      0      0  151.5500        S   \n",
       "710         1       1  female  24.000000      0      0   49.5042        C   \n",
       "716         1       1  female  38.000000      0      0  227.5250        C   \n",
       "730         1       1  female  29.000000      0      0  211.3375        S   \n",
       "759         1       1  female  33.000000      0      0   86.5000        S   \n",
       "796         1       1  female  49.000000      0      0   25.9292        S   \n",
       "829         1       1  female  62.000000      0      0   80.0000      NaN   \n",
       "842         1       1  female  30.000000      0      0   31.0000        C   \n",
       "862         1       1  female  48.000000      0      0   25.9292        S   \n",
       "887         1       1  female  19.000000      0      0   30.0000        S   \n",
       "\n",
       "     class    who  adult_male deck  embark_town alive  alone  \n",
       "11   First  woman       False    C  Southampton   yes   True  \n",
       "61   First  woman       False    B          NaN   yes   True  \n",
       "194  First  woman       False    B    Cherbourg   yes   True  \n",
       "195  First  woman       False    B    Cherbourg   yes   True  \n",
       "218  First  woman       False    D    Cherbourg   yes   True  \n",
       "256  First  woman       False  NaN    Cherbourg   yes   True  \n",
       "257  First  woman       False    B  Southampton   yes   True  \n",
       "258  First  woman       False  NaN    Cherbourg   yes   True  \n",
       "269  First  woman       False    C  Southampton   yes   True  \n",
       "290  First  woman       False  NaN  Southampton   yes   True  \n",
       "306  First  woman       False  NaN    Cherbourg   yes   True  \n",
       "309  First  woman       False    E    Cherbourg   yes   True  \n",
       "310  First  woman       False    C    Cherbourg   yes   True  \n",
       "325  First  woman       False    C    Cherbourg   yes   True  \n",
       "337  First  woman       False    E    Cherbourg   yes   True  \n",
       "369  First  woman       False    B    Cherbourg   yes   True  \n",
       "380  First  woman       False  NaN    Cherbourg   yes   True  \n",
       "504  First  woman       False    B  Southampton   yes   True  \n",
       "520  First  woman       False    B  Southampton   yes   True  \n",
       "537  First  woman       False  NaN    Cherbourg   yes   True  \n",
       "609  First  woman       False    C  Southampton   yes   True  \n",
       "627  First  woman       False    D  Southampton   yes   True  \n",
       "641  First  woman       False    B    Cherbourg   yes   True  \n",
       "708  First  woman       False  NaN  Southampton   yes   True  \n",
       "710  First  woman       False    C    Cherbourg   yes   True  \n",
       "716  First  woman       False    C    Cherbourg   yes   True  \n",
       "730  First  woman       False    B  Southampton   yes   True  \n",
       "759  First  woman       False    B  Southampton   yes   True  \n",
       "796  First  woman       False    D  Southampton   yes   True  \n",
       "829  First  woman       False    B          NaN   yes   True  \n",
       "842  First  woman       False  NaN    Cherbourg   yes   True  \n",
       "862  First  woman       False    D  Southampton   yes   True  \n",
       "887  First  woman       False    B  Southampton   yes   True  "
      ]
     },
     "execution_count": 25,
     "metadata": {},
     "output_type": "execute_result"
    }
   ],
   "source": [
    "ser=titanic.query(\"survived==1 and pclass==1 and sibsp==0 and sex=='female' and parch==0\")\n",
    "ser"
   ]
  },
  {
   "cell_type": "code",
   "execution_count": 26,
   "id": "9f6fd4ea-0053-4437-b76b-63a5cedd72fd",
   "metadata": {},
   "outputs": [
    {
     "data": {
      "text/plain": [
       "'C'"
      ]
     },
     "execution_count": 26,
     "metadata": {},
     "output_type": "execute_result"
    }
   ],
   "source": [
    "#Tìm giá trị xuất hiện nhiều nhất trong cột embarked\n",
    "ser['embarked'].mode()[0] #(truyền 0 vào là vì chỉ lấy mỗi chữ thôi)"
   ]
  },
  {
   "cell_type": "markdown",
   "id": "d821fc43-81de-4104-bf80-759f3ad20166",
   "metadata": {},
   "source": [
    "#### Ngoài cách dùng mode như trên, có thể dùng value_counts để đếm số lượng bản ghi xuất hiện trong đấy, và lấy bản ghi có số lượng lớn nhất"
   ]
  },
  {
   "cell_type": "code",
   "execution_count": 27,
   "id": "84790fa2-c2a7-445a-96bb-176b19321c6b",
   "metadata": {},
   "outputs": [
    {
     "data": {
      "text/plain": [
       "C    17\n",
       "S    14\n",
       "Name: embarked, dtype: int64"
      ]
     },
     "execution_count": 27,
     "metadata": {},
     "output_type": "execute_result"
    }
   ],
   "source": [
    "ser['embarked'].value_counts() # số lượng xuất hiện của giá trị "
   ]
  },
  {
   "cell_type": "markdown",
   "id": "7e2f3bac-78bd-45b3-847f-371e5d71ffca",
   "metadata": {},
   "source": [
    "##### 17 là giá trị tần suất xuất hiện C"
   ]
  },
  {
   "cell_type": "markdown",
   "id": "309f4ef1-83e7-4c37-9583-7ea944753dba",
   "metadata": {},
   "source": [
    "#### Nếu muốn lấy mỗi giá trị bản ghi thôi thì nhập thêm .idxmax()"
   ]
  },
  {
   "cell_type": "code",
   "execution_count": 28,
   "id": "d6bd7687-fd7e-4ab9-b0d6-4bc2af386a0f",
   "metadata": {},
   "outputs": [
    {
     "data": {
      "text/plain": [
       "'C'"
      ]
     },
     "execution_count": 28,
     "metadata": {},
     "output_type": "execute_result"
    }
   ],
   "source": [
    "ser['embarked'].value_counts().idxmax()"
   ]
  },
  {
   "cell_type": "markdown",
   "id": "6813d413-d287-4558-898f-fce85fefcc9e",
   "metadata": {},
   "source": [
    "#### Xử lý NA bằng cách thêm vào giá trị tìm đc ở lệnh ser['embarked'].mode()[0] (là giá trị xuất hiện nhiều nhất trong cái cụm các bản ghi có cùng hành vi)"
   ]
  },
  {
   "cell_type": "code",
   "execution_count": 29,
   "id": "721bca8d-0cf8-4deb-bc09-aae5ce26fdaa",
   "metadata": {},
   "outputs": [],
   "source": [
    "titanic['embarked']=titanic['embarked'].fillna(ser['embarked'].mode()[0]) #bước fill NA"
   ]
  },
  {
   "cell_type": "code",
   "execution_count": 30,
   "id": "5c5f695d-60e9-415b-ba3d-a810ee466b5b",
   "metadata": {},
   "outputs": [
    {
     "data": {
      "text/plain": [
       "0"
      ]
     },
     "execution_count": 30,
     "metadata": {},
     "output_type": "execute_result"
    }
   ],
   "source": [
    "titanic['embarked'].isnull().sum() #bước check NA"
   ]
  },
  {
   "cell_type": "markdown",
   "id": "5c3f25bc-6d43-4d5d-aff0-6b9b4c0640ad",
   "metadata": {},
   "source": [
    "##### Vậy là đã hết NA ở biến Embarked"
   ]
  },
  {
   "cell_type": "code",
   "execution_count": null,
   "id": "df2e37ea-07cf-4a23-8cc7-4370429aa80f",
   "metadata": {},
   "outputs": [],
   "source": []
  },
  {
   "cell_type": "code",
   "execution_count": null,
   "id": "7551bbcb-7217-429f-bae6-feae7f41fb78",
   "metadata": {},
   "outputs": [],
   "source": []
  },
  {
   "cell_type": "markdown",
   "id": "af6d31db-eea8-4571-b0a6-6fdbe5019453",
   "metadata": {},
   "source": [
    "## *c) Deck (boong tàu)*"
   ]
  },
  {
   "cell_type": "markdown",
   "id": "f9feaff8-9e33-4a11-996f-d12f6fe32683",
   "metadata": {},
   "source": [
    "![](data:image/png;base64,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)"
   ]
  },
  {
   "cell_type": "code",
   "execution_count": 31,
   "id": "6599deb1-b5ed-4a58-b1a3-c417aa5e7ad8",
   "metadata": {},
   "outputs": [
    {
     "data": {
      "text/plain": [
       "survived         0\n",
       "pclass           0\n",
       "sex              0\n",
       "age              0\n",
       "sibsp            0\n",
       "parch            0\n",
       "fare             0\n",
       "embarked         0\n",
       "class            0\n",
       "who              0\n",
       "adult_male       0\n",
       "deck           688\n",
       "embark_town      2\n",
       "alive            0\n",
       "alone            0\n",
       "dtype: int64"
      ]
     },
     "execution_count": 31,
     "metadata": {},
     "output_type": "execute_result"
    }
   ],
   "source": [
    "titanic.isnull().sum()"
   ]
  },
  {
   "cell_type": "code",
   "execution_count": 32,
   "id": "02a4f68b-fb7a-44f5-ac0c-bcc729f54c04",
   "metadata": {},
   "outputs": [
    {
     "data": {
      "text/plain": [
       "survived       0.000000\n",
       "pclass         0.000000\n",
       "sex            0.000000\n",
       "age            0.000000\n",
       "sibsp          0.000000\n",
       "parch          0.000000\n",
       "fare           0.000000\n",
       "embarked       0.000000\n",
       "class          0.000000\n",
       "who            0.000000\n",
       "adult_male     0.000000\n",
       "deck           0.772166\n",
       "embark_town    0.002245\n",
       "alive          0.000000\n",
       "alone          0.000000\n",
       "dtype: float64"
      ]
     },
     "execution_count": 32,
     "metadata": {},
     "output_type": "execute_result"
    }
   ],
   "source": [
    "titanic.isnull().sum()/len(titanic)#check tỉ lệ null"
   ]
  },
  {
   "cell_type": "code",
   "execution_count": null,
   "id": "8aab441b-1c5d-45db-9857-4a10dea7f4ab",
   "metadata": {},
   "outputs": [],
   "source": [
    "có bn người sd hạng A, bn deck B, C,...\n",
    "từ đó suy ra tập trung vào hạng vé nào"
   ]
  },
  {
   "cell_type": "code",
   "execution_count": 37,
   "id": "00728934-31b8-4c6b-ad5e-7d01821eddfd",
   "metadata": {},
   "outputs": [
    {
     "data": {
      "text/html": [
       "<div>\n",
       "<style scoped>\n",
       "    .dataframe tbody tr th:only-of-type {\n",
       "        vertical-align: middle;\n",
       "    }\n",
       "\n",
       "    .dataframe tbody tr th {\n",
       "        vertical-align: top;\n",
       "    }\n",
       "\n",
       "    .dataframe thead th {\n",
       "        text-align: right;\n",
       "    }\n",
       "</style>\n",
       "<table border=\"1\" class=\"dataframe\">\n",
       "  <thead>\n",
       "    <tr style=\"text-align: right;\">\n",
       "      <th>pclass</th>\n",
       "      <th>1</th>\n",
       "      <th>2</th>\n",
       "      <th>3</th>\n",
       "    </tr>\n",
       "    <tr>\n",
       "      <th>deck</th>\n",
       "      <th></th>\n",
       "      <th></th>\n",
       "      <th></th>\n",
       "    </tr>\n",
       "  </thead>\n",
       "  <tbody>\n",
       "    <tr>\n",
       "      <th>A</th>\n",
       "      <td>15</td>\n",
       "      <td>0</td>\n",
       "      <td>0</td>\n",
       "    </tr>\n",
       "    <tr>\n",
       "      <th>B</th>\n",
       "      <td>47</td>\n",
       "      <td>0</td>\n",
       "      <td>0</td>\n",
       "    </tr>\n",
       "    <tr>\n",
       "      <th>C</th>\n",
       "      <td>59</td>\n",
       "      <td>0</td>\n",
       "      <td>0</td>\n",
       "    </tr>\n",
       "    <tr>\n",
       "      <th>D</th>\n",
       "      <td>29</td>\n",
       "      <td>4</td>\n",
       "      <td>0</td>\n",
       "    </tr>\n",
       "    <tr>\n",
       "      <th>E</th>\n",
       "      <td>25</td>\n",
       "      <td>4</td>\n",
       "      <td>3</td>\n",
       "    </tr>\n",
       "    <tr>\n",
       "      <th>F</th>\n",
       "      <td>0</td>\n",
       "      <td>8</td>\n",
       "      <td>5</td>\n",
       "    </tr>\n",
       "    <tr>\n",
       "      <th>G</th>\n",
       "      <td>0</td>\n",
       "      <td>0</td>\n",
       "      <td>4</td>\n",
       "    </tr>\n",
       "  </tbody>\n",
       "</table>\n",
       "</div>"
      ],
      "text/plain": [
       "pclass   1  2  3\n",
       "deck            \n",
       "A       15  0  0\n",
       "B       47  0  0\n",
       "C       59  0  0\n",
       "D       29  4  0\n",
       "E       25  4  3\n",
       "F        0  8  5\n",
       "G        0  0  4"
      ]
     },
     "execution_count": 37,
     "metadata": {},
     "output_type": "execute_result"
    }
   ],
   "source": [
    "#groupby ~ pivot table\n",
    "titanic.pivot_table(index='deck',\n",
    "                    columns='pclass',\n",
    "                   values='survived',#chỉ quan tâm những khách đang sống\n",
    "                   aggfunc='count')#tuy nhiên chỉ xuất hiện %, nên muốn tính số lượng thì thêm aggfunc"
   ]
  },
  {
   "cell_type": "code",
   "execution_count": null,
   "id": "1fc4260e-af62-4c0d-aaa5-42d98ca6babc",
   "metadata": {},
   "outputs": [],
   "source": [
    "### hạng 1 tập trung ở khoang A-E, hạng 2, 3 tập trng nhiều ở khoang F-G"
   ]
  },
  {
   "cell_type": "code",
   "execution_count": 41,
   "id": "9f510bf1-039b-40e3-b64d-b6af75e26c91",
   "metadata": {},
   "outputs": [
    {
     "data": {
      "image/png": "[encoded data removed]",
      "text/plain": [
       "<Figure size 432x288 with 1 Axes>"
      ]
     },
     "metadata": {
      "needs_background": "light"
     },
     "output_type": "display_data"
    }
   ],
   "source": [
    "#visualization\n",
    "sns.countplot(data=titanic, x='deck',hue='pclass')#nếu nhập y thì bị báo lỗi, sd tham số hue thay cho y\n",
    "plt.legend(loc='upper right')\n",
    "plt.show()"
   ]
  },
  {
   "cell_type": "code",
   "execution_count": null,
   "id": "3d7ab751-be8b-4164-9300-ea9ff63e461d",
   "metadata": {},
   "outputs": [],
   "source": [
    "##### vậy từ biểu đồ, những ai có pclass = 1 -> deck = C\n",
    "##### pclass = 2,3 -> deck = F"
   ]
  },
  {
   "cell_type": "code",
   "execution_count": 45,
   "id": "dab403ab-88e1-4257-9c8e-fc52f16949f0",
   "metadata": {},
   "outputs": [
    {
     "data": {
      "text/plain": [
       "0      F\n",
       "1      C\n",
       "2      F\n",
       "3      C\n",
       "4      F\n",
       "      ..\n",
       "886    F\n",
       "887    C\n",
       "888    F\n",
       "889    C\n",
       "890    F\n",
       "Name: pclass, Length: 891, dtype: object"
      ]
     },
     "execution_count": 45,
     "metadata": {},
     "output_type": "execute_result"
    }
   ],
   "source": [
    "deck_dict = {1: 'C',\n",
    "            2:'F',\n",
    "            3:'F'}\n",
    "ser = titanic['pclass'].map(deck_dict)\n",
    "ser"
   ]
  },
  {
   "cell_type": "code",
   "execution_count": 46,
   "id": "94196c01-6302-4d9f-8a40-30866f6df383",
   "metadata": {},
   "outputs": [
    {
     "data": {
      "text/plain": [
       "0      F\n",
       "1      C\n",
       "2      F\n",
       "3      C\n",
       "4      F\n",
       "      ..\n",
       "886    F\n",
       "887    B\n",
       "888    F\n",
       "889    C\n",
       "890    F\n",
       "Name: deck, Length: 891, dtype: category\n",
       "Categories (7, object): ['A', 'B', 'C', 'D', 'E', 'F', 'G']"
      ]
     },
     "execution_count": 46,
     "metadata": {},
     "output_type": "execute_result"
    }
   ],
   "source": [
    "# fill NA\n",
    "new_deck = titanic['deck'].combine_first(ser)\n",
    "new_deck"
   ]
  },
  {
   "cell_type": "code",
   "execution_count": 49,
   "id": "46af5847-eab6-45ff-89a9-ece246fc9478",
   "metadata": {},
   "outputs": [
    {
     "data": {
      "text/plain": [
       "NaN    688\n",
       "C       59\n",
       "B       47\n",
       "D       33\n",
       "E       32\n",
       "A       15\n",
       "F       13\n",
       "G        4\n",
       "Name: deck, dtype: int64"
      ]
     },
     "execution_count": 49,
     "metadata": {},
     "output_type": "execute_result"
    }
   ],
   "source": [
    "titanic['deck'].value_counts(dropna=False) # thêm FALSE để check NA lúc chưa fill"
   ]
  },
  {
   "cell_type": "code",
   "execution_count": 53,
   "id": "5ff33d38-3230-4289-ab22-3d81ff90788e",
   "metadata": {},
   "outputs": [
    {
     "data": {
      "text/plain": [
       "F    660\n",
       "C    100\n",
       "B     47\n",
       "D     33\n",
       "E     32\n",
       "A     15\n",
       "G      4\n",
       "Name: deck, dtype: int64"
      ]
     },
     "execution_count": 53,
     "metadata": {},
     "output_type": "execute_result"
    }
   ],
   "source": [
    "titanic['deck'] = new_deck\n",
    "titanic['deck'].value_counts(dropna=False)"
   ]
  },
  {
   "cell_type": "markdown",
   "id": "cb29be55-1d66-4931-b25a-66fd52cf89db",
   "metadata": {},
   "source": [
    "##### Vậy những giá trị NA đã đc thay bằng F và C"
   ]
  },
  {
   "cell_type": "code",
   "execution_count": 54,
   "id": "2c6f1fa9-6edf-4b0e-85a4-87ec25268b3f",
   "metadata": {},
   "outputs": [
    {
     "data": {
      "text/plain": [
       "survived       0\n",
       "pclass         0\n",
       "sex            0\n",
       "age            0\n",
       "sibsp          0\n",
       "parch          0\n",
       "fare           0\n",
       "embarked       0\n",
       "class          0\n",
       "who            0\n",
       "adult_male     0\n",
       "deck           0\n",
       "embark_town    2\n",
       "alive          0\n",
       "alone          0\n",
       "dtype: int64"
      ]
     },
     "execution_count": 54,
     "metadata": {},
     "output_type": "execute_result"
    }
   ],
   "source": [
    "titanic.isnull().sum()"
   ]
  },
  {
   "cell_type": "markdown",
   "id": "1ee7d901-7875-4314-a7b5-13cc1d66e165",
   "metadata": {},
   "source": [
    "##### Đã hết Null ở Deck"
   ]
  },
  {
   "cell_type": "code",
   "execution_count": null,
   "id": "31613c8c-8b80-4ab0-9d8b-dfecc2db7a5a",
   "metadata": {},
   "outputs": [],
   "source": []
  },
  {
   "cell_type": "code",
   "execution_count": null,
   "id": "435a62f9-6345-49ab-9fa1-4e8b0d9ac1b4",
   "metadata": {},
   "outputs": [],
   "source": []
  },
  {
   "cell_type": "markdown",
   "id": "8c3ef564-01ff-41b2-8924-4b6b58885143",
   "metadata": {},
   "source": [
    "# II. Feature Engineering\n",
    "\n",
    "**Discretization**\n",
    "- Supervised:\n",
    "    + Equal-width discretization (dùng pd.cut())\n",
    "    + Equal-frequnet discretization (dùng pd.qcut())\n",
    "- Unsupervised:\n",
    "    + Entropy-based discretization\n",
    "    \n",
    "cách để nhóm các giá trị dữ liệu"
   ]
  },
  {
   "cell_type": "code",
   "execution_count": null,
   "id": "d3de71ff-0869-42e9-8320-6f5f04c8dd28",
   "metadata": {},
   "outputs": [],
   "source": [
    "Tạo ra các feature riêng (đc đánh giá cho là meaningful)"
   ]
  },
  {
   "cell_type": "code",
   "execution_count": 56,
   "id": "6117e349-5799-4bb1-aa4b-d6fde7bb1ce1",
   "metadata": {},
   "outputs": [
    {
     "data": {
      "text/plain": [
       "count    891.000000\n",
       "mean      29.945476\n",
       "std       13.342194\n",
       "min        0.420000\n",
       "25%       22.000000\n",
       "50%       31.084211\n",
       "75%       35.000000\n",
       "max       80.000000\n",
       "Name: age, dtype: float64"
      ]
     },
     "execution_count": 56,
     "metadata": {},
     "output_type": "execute_result"
    }
   ],
   "source": [
    "titanic.age.describe()"
   ]
  },
  {
   "cell_type": "markdown",
   "id": "917aba5d-5916-4dd2-8b51-690f1bb2ff76",
   "metadata": {},
   "source": [
    "##### tuổi từ 1-80"
   ]
  },
  {
   "cell_type": "markdown",
   "id": "6236ee0d-8bc8-4172-abb0-260cb30e019b",
   "metadata": {},
   "source": [
    "##### a) "
   ]
  },
  {
   "cell_type": "code",
   "execution_count": 57,
   "id": "cbc7ef6b-ddc9-4a10-9048-bdd73de21965",
   "metadata": {},
   "outputs": [
    {
     "data": {
      "text/plain": [
       "0      (15, 25]\n",
       "1      (35, 45]\n",
       "2      (25, 35]\n",
       "3      (25, 35]\n",
       "4      (25, 35]\n",
       "         ...   \n",
       "886    (25, 35]\n",
       "887    (15, 25]\n",
       "888    (25, 35]\n",
       "889    (25, 35]\n",
       "890    (25, 35]\n",
       "Name: age, Length: 891, dtype: category\n",
       "Categories (7, interval[int64]): [(0, 15] < (15, 25] < (25, 35] < (35, 45] < (45, 60] < (60, 80] < (80, 100]]"
      ]
     },
     "execution_count": 57,
     "metadata": {},
     "output_type": "execute_result"
    }
   ],
   "source": [
    "# vì trải dài từ 1-80t, nên sẽ chia các giá trị cho đều nhau, chia theo nhóm tuổi\n",
    "age_groups = [0, 15, 25, 35, 45, 60, 80, 100]\n",
    "pd.cut(titanic.age, bins=age_groups)"
   ]
  },
  {
   "cell_type": "code",
   "execution_count": 59,
   "id": "afb14d43-1040-4178-99d4-e0923aab743c",
   "metadata": {},
   "outputs": [
    {
     "data": {
      "text/html": [
       "<div>\n",
       "<style scoped>\n",
       "    .dataframe tbody tr th:only-of-type {\n",
       "        vertical-align: middle;\n",
       "    }\n",
       "\n",
       "    .dataframe tbody tr th {\n",
       "        vertical-align: top;\n",
       "    }\n",
       "\n",
       "    .dataframe thead th {\n",
       "        text-align: right;\n",
       "    }\n",
       "</style>\n",
       "<table border=\"1\" class=\"dataframe\">\n",
       "  <thead>\n",
       "    <tr style=\"text-align: right;\">\n",
       "      <th></th>\n",
       "      <th>survived</th>\n",
       "      <th>pclass</th>\n",
       "      <th>sex</th>\n",
       "      <th>age</th>\n",
       "      <th>sibsp</th>\n",
       "      <th>parch</th>\n",
       "      <th>fare</th>\n",
       "      <th>embarked</th>\n",
       "      <th>class</th>\n",
       "      <th>who</th>\n",
       "      <th>adult_male</th>\n",
       "      <th>deck</th>\n",
       "      <th>embark_town</th>\n",
       "      <th>alive</th>\n",
       "      <th>alone</th>\n",
       "      <th>age_group</th>\n",
       "    </tr>\n",
       "  </thead>\n",
       "  <tbody>\n",
       "    <tr>\n",
       "      <th>0</th>\n",
       "      <td>0</td>\n",
       "      <td>3</td>\n",
       "      <td>male</td>\n",
       "      <td>22.0</td>\n",
       "      <td>1</td>\n",
       "      <td>0</td>\n",
       "      <td>7.2500</td>\n",
       "      <td>S</td>\n",
       "      <td>Third</td>\n",
       "      <td>man</td>\n",
       "      <td>True</td>\n",
       "      <td>F</td>\n",
       "      <td>Southampton</td>\n",
       "      <td>no</td>\n",
       "      <td>False</td>\n",
       "      <td>(15, 25]</td>\n",
       "    </tr>\n",
       "    <tr>\n",
       "      <th>1</th>\n",
       "      <td>1</td>\n",
       "      <td>1</td>\n",
       "      <td>female</td>\n",
       "      <td>38.0</td>\n",
       "      <td>1</td>\n",
       "      <td>0</td>\n",
       "      <td>71.2833</td>\n",
       "      <td>C</td>\n",
       "      <td>First</td>\n",
       "      <td>woman</td>\n",
       "      <td>False</td>\n",
       "      <td>C</td>\n",
       "      <td>Cherbourg</td>\n",
       "      <td>yes</td>\n",
       "      <td>False</td>\n",
       "      <td>(35, 45]</td>\n",
       "    </tr>\n",
       "    <tr>\n",
       "      <th>2</th>\n",
       "      <td>1</td>\n",
       "      <td>3</td>\n",
       "      <td>female</td>\n",
       "      <td>26.0</td>\n",
       "      <td>0</td>\n",
       "      <td>0</td>\n",
       "      <td>7.9250</td>\n",
       "      <td>S</td>\n",
       "      <td>Third</td>\n",
       "      <td>woman</td>\n",
       "      <td>False</td>\n",
       "      <td>F</td>\n",
       "      <td>Southampton</td>\n",
       "      <td>yes</td>\n",
       "      <td>True</td>\n",
       "      <td>(25, 35]</td>\n",
       "    </tr>\n",
       "    <tr>\n",
       "      <th>3</th>\n",
       "      <td>1</td>\n",
       "      <td>1</td>\n",
       "      <td>female</td>\n",
       "      <td>35.0</td>\n",
       "      <td>1</td>\n",
       "      <td>0</td>\n",
       "      <td>53.1000</td>\n",
       "      <td>S</td>\n",
       "      <td>First</td>\n",
       "      <td>woman</td>\n",
       "      <td>False</td>\n",
       "      <td>C</td>\n",
       "      <td>Southampton</td>\n",
       "      <td>yes</td>\n",
       "      <td>False</td>\n",
       "      <td>(25, 35]</td>\n",
       "    </tr>\n",
       "    <tr>\n",
       "      <th>4</th>\n",
       "      <td>0</td>\n",
       "      <td>3</td>\n",
       "      <td>male</td>\n",
       "      <td>35.0</td>\n",
       "      <td>0</td>\n",
       "      <td>0</td>\n",
       "      <td>8.0500</td>\n",
       "      <td>S</td>\n",
       "      <td>Third</td>\n",
       "      <td>man</td>\n",
       "      <td>True</td>\n",
       "      <td>F</td>\n",
       "      <td>Southampton</td>\n",
       "      <td>no</td>\n",
       "      <td>True</td>\n",
       "      <td>(25, 35]</td>\n",
       "    </tr>\n",
       "  </tbody>\n",
       "</table>\n",
       "</div>"
      ],
      "text/plain": [
       "   survived  pclass     sex   age  sibsp  parch     fare embarked  class  \\\n",
       "0         0       3    male  22.0      1      0   7.2500        S  Third   \n",
       "1         1       1  female  38.0      1      0  71.2833        C  First   \n",
       "2         1       3  female  26.0      0      0   7.9250        S  Third   \n",
       "3         1       1  female  35.0      1      0  53.1000        S  First   \n",
       "4         0       3    male  35.0      0      0   8.0500        S  Third   \n",
       "\n",
       "     who  adult_male deck  embark_town alive  alone age_group  \n",
       "0    man        True    F  Southampton    no  False  (15, 25]  \n",
       "1  woman       False    C    Cherbourg   yes  False  (35, 45]  \n",
       "2  woman       False    F  Southampton   yes   True  (25, 35]  \n",
       "3  woman       False    C  Southampton   yes  False  (25, 35]  \n",
       "4    man        True    F  Southampton    no   True  (25, 35]  "
      ]
     },
     "execution_count": 59,
     "metadata": {},
     "output_type": "execute_result"
    }
   ],
   "source": [
    "titanic['age_group'] = pd.cut(titanic.age, bins=age_groups)\n",
    "titanic.head(5)"
   ]
  },
  {
   "cell_type": "markdown",
   "id": "cbfc55d6-f5b3-4ef1-b1ce-af00432be5dd",
   "metadata": {},
   "source": [
    "##### b)"
   ]
  },
  {
   "cell_type": "code",
   "execution_count": 60,
   "id": "bc4d8eb7-f2b7-428c-8912-fa17b29bdb7f",
   "metadata": {},
   "outputs": [
    {
     "data": {
      "text/plain": [
       "0      False\n",
       "1       True\n",
       "2      False\n",
       "3       True\n",
       "4      False\n",
       "       ...  \n",
       "886    False\n",
       "887     True\n",
       "888    False\n",
       "889    False\n",
       "890    False\n",
       "Name: rich_women, Length: 891, dtype: bool"
      ]
     },
     "execution_count": 60,
     "metadata": {},
     "output_type": "execute_result"
    }
   ],
   "source": [
    "#women + rich (pclass)\n",
    "titanic['rich_women'] = (titanic['sex'] =='female') & (titanic['pclass']==1)\n",
    "titanic['rich_women']"
   ]
  },
  {
   "cell_type": "markdown",
   "id": "f3952f13-5935-446e-9c43-45ef6c9f68e2",
   "metadata": {},
   "source": [
    "##### c) "
   ]
  },
  {
   "cell_type": "code",
   "execution_count": 61,
   "id": "dba9f467-7976-4ba2-9f92-0c6475f61cc9",
   "metadata": {},
   "outputs": [
    {
     "data": {
      "text/plain": [
       "count    891.000000\n",
       "mean      32.204208\n",
       "std       49.693429\n",
       "min        0.000000\n",
       "25%        7.910400\n",
       "50%       14.454200\n",
       "75%       31.000000\n",
       "max      512.329200\n",
       "Name: fare, dtype: float64"
      ]
     },
     "execution_count": 61,
     "metadata": {},
     "output_type": "execute_result"
    }
   ],
   "source": [
    "titanic.fare.describe()"
   ]
  },
  {
   "cell_type": "markdown",
   "id": "b9462d5e-f716-49fe-8411-7533a4824170",
   "metadata": {},
   "source": [
    "#### Cột fare có khoảng rất rộng, cần chuẩn hóa thành 1 range nhất định (đgl pp Feature Scaling)"
   ]
  },
  {
   "cell_type": "code",
   "execution_count": null,
   "id": "fc727c22-9e1c-4574-842c-bae95f3a98a7",
   "metadata": {},
   "outputs": [],
   "source": []
  },
  {
   "cell_type": "code",
   "execution_count": null,
   "id": "61cd44cf-fa64-40f5-aed1-d8ac96377540",
   "metadata": {},
   "outputs": [],
   "source": []
  }
 ],
 "metadata": {
  "kernelspec": {
   "display_name": "Python 3 (ipykernel)",
   "language": "python",
   "name": "python3"
  },
  "language_info": {
   "codemirror_mode": {
    "name": "ipython",
    "version": 3
   },
   "file_extension": ".py",
   "mimetype": "text/x-python",
   "name": "python",
   "nbconvert_exporter": "python",
   "pygments_lexer": "ipython3",
   "version": "3.9.5"
  }
 },
 "nbformat": 4,
 "nbformat_minor": 5
}
