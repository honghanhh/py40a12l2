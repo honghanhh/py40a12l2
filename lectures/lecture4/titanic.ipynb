{
 "cells": [
  {
   "cell_type": "markdown",
   "id": "038f3160-387c-4d8c-b7a5-f2b6c1a18602",
   "metadata": {},
   "source": [
    "# <center> Supervised learning: Classification with Titanic dataset </center>"
   ]
  },
  {
   "cell_type": "markdown",
   "id": "b9082bca-caad-4547-868b-1112c21dda30",
   "metadata": {},
   "source": [
    "## 1. Data types\n",
    "\n",
    "![](https://miro.medium.com/max/1200/0*tZj7CTvSzNcjnISR)\n",
    "\n",
    "## 2. Classification vs Regression\n",
    "||Regression|Clasification|\n",
    "|-|-|-|\n",
    "|Data|Attribute-value description|Attribute-value description|\n",
    "|Target|Continuous|Nominal|\n",
    "|Evaluation methods|Cross-validation, train test split ...|Cross-validation, train test split ...|\n",
    "|Errors|MSE, MAE, RMSE|1-accuracy|\n",
    "|Algorithms|Linear regression|Decision Tree, Naive Bayes ...|\n",
    "|Baseline|Mean of target|Majority class|\n",
    "\n",
    "## 3. Titanic dataset\n",
    "\n",
    "|Variable| Definition| Key|\n",
    "|-|-|-|\n",
    "|survived| Survival| 0 = No, 1 = Yes|\n",
    "|pclass| Ticket class| 1 = 1st, 2 = 2nd, 3 = 3rd|\n",
    "|sex| Male or Female||\n",
    "|age| Age in years||\n",
    "|sibsp| # of siblings / spouses aboard the Titanic||\n",
    "|parch| # of parents / children aboard the Titanic||\n",
    "|fare| Passenger fare||\n",
    "|embarked| Port of Embarkation|  C=Cherbourg, Q=Queenstown, S=Southampton|\n",
    "|deck|||"
   ]
  },
  {
   "cell_type": "code",
   "execution_count": null,
   "id": "5e40c773-4cc2-431e-bc05-df1050efafbb",
   "metadata": {},
   "outputs": [],
   "source": []
  }
 ],
 "metadata": {
  "kernelspec": {
   "display_name": "Python 3",
   "language": "python",
   "name": "python3"
  },
  "language_info": {
   "codemirror_mode": {
    "name": "ipython",
    "version": 3
   },
   "file_extension": ".py",
   "mimetype": "text/x-python",
   "name": "python",
   "nbconvert_exporter": "python",
   "pygments_lexer": "ipython3",
   "version": "3.8.11"
  }
 },
 "nbformat": 4,
 "nbformat_minor": 5
}
