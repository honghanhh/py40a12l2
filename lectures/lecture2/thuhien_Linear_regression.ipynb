{
 "cells": [
  {
   "cell_type": "markdown",
   "id": "38e08554-5e59-44fa-9829-11dd3ab54ca2",
   "metadata": {},
   "source": [
    "# <center>Simple Linear Regression</center>\n",
    "\n",
    "\n",
    "## About this Notebook\n",
    "In this notebook, we learn how to use `scikit-learn` to implement simple linear regression using dataset that is related to Fuel consumption and Carbon dioxide emission of cars. Then, we split our data into training and test sets, create a model using training set, evaluate your model using test set, and finally use model to predict unknown value.\n",
    "\n",
    "**`FuelConsumptionCo2.csv`** contains model-specific fuel consumption ratings and estimated carbon dioxide emissions for new light-duty vehicles for retail sale in Canada. [Dataset source](https://open.canada.ca/data/en/dataset/98f1a129-f628-4ce4-b24d-6f16bf24dd64)\n",
    "\n",
    "- **MODELYEAR** e.g. 2014\n",
    "- **MAKE** e.g. Acura\n",
    "- **MODEL** e.g. ILX\n",
    "- **VEHICLE CLASS** e.g. SUV\n",
    "- **ENGINE SIZE** e.g. 4.7\n",
    "- **CYLINDERS** e.g 6\n",
    "- **TRANSMISSION** e.g. A6\n",
    "- **FUEL CONSUMPTION in CITY(L/100 km)** e.g. 9.9\n",
    "- **FUEL CONSUMPTION in HWY (L/100 km)** e.g. 8.9\n",
    "- **FUEL CONSUMPTION COMB (L/100 km)** e.g. 9.2\n",
    "- **CO2 EMISSIONS (g/km)** e.g. 182   --> low --> 0\n",
    "\n",
    "\n",
    "- Supervised Learning:\n",
    "    - Classification\n",
    "    - **Regression**\n",
    "    \n",
    "## Practice"
   ]
  },
  {
   "cell_type": "markdown",
   "id": "e9b24341-79b0-488b-a268-8bbe38310def",
   "metadata": {},
   "source": [
    "### 1. Import libraries and load dataset"
   ]
  },
  {
   "cell_type": "code",
   "execution_count": 4,
   "id": "f58894ce-b2ea-4b87-adb9-ca29f7753174",
   "metadata": {},
   "outputs": [],
   "source": [
    "import pandas as pd\n",
    "import numpy as np\n",
    "import matplotlib.pyplot as plt\n",
    "import seaborn as sns\n"
   ]
  },
  {
   "cell_type": "markdown",
   "id": "07191f7c-1a2e-40f8-aa61-6a250c78ff1f",
   "metadata": {},
   "source": [
    "### 2. Sanity check"
   ]
  },
  {
   "cell_type": "code",
   "execution_count": 7,
   "id": "fe4e4b3d-01e5-4ac5-b490-a625ff3c3b12",
   "metadata": {},
   "outputs": [
    {
     "data": {
      "text/html": [
       "<div>\n",
       "<style scoped>\n",
       "    .dataframe tbody tr th:only-of-type {\n",
       "        vertical-align: middle;\n",
       "    }\n",
       "\n",
       "    .dataframe tbody tr th {\n",
       "        vertical-align: top;\n",
       "    }\n",
       "\n",
       "    .dataframe thead th {\n",
       "        text-align: right;\n",
       "    }\n",
       "</style>\n",
       "<table border=\"1\" class=\"dataframe\">\n",
       "  <thead>\n",
       "    <tr style=\"text-align: right;\">\n",
       "      <th></th>\n",
       "      <th>MODELYEAR</th>\n",
       "      <th>MAKE</th>\n",
       "      <th>MODEL</th>\n",
       "      <th>VEHICLECLASS</th>\n",
       "      <th>ENGINESIZE</th>\n",
       "      <th>CYLINDERS</th>\n",
       "      <th>TRANSMISSION</th>\n",
       "      <th>FUELTYPE</th>\n",
       "      <th>FUELCONSUMPTION_CITY</th>\n",
       "      <th>FUELCONSUMPTION_HWY</th>\n",
       "      <th>FUELCONSUMPTION_COMB</th>\n",
       "      <th>FUELCONSUMPTION_COMB_MPG</th>\n",
       "      <th>CO2EMISSIONS</th>\n",
       "    </tr>\n",
       "  </thead>\n",
       "  <tbody>\n",
       "    <tr>\n",
       "      <th>0</th>\n",
       "      <td>2014</td>\n",
       "      <td>ACURA</td>\n",
       "      <td>ILX</td>\n",
       "      <td>COMPACT</td>\n",
       "      <td>2.0</td>\n",
       "      <td>4</td>\n",
       "      <td>AS5</td>\n",
       "      <td>Z</td>\n",
       "      <td>9.9</td>\n",
       "      <td>6.7</td>\n",
       "      <td>8.5</td>\n",
       "      <td>33</td>\n",
       "      <td>196</td>\n",
       "    </tr>\n",
       "    <tr>\n",
       "      <th>1</th>\n",
       "      <td>2014</td>\n",
       "      <td>ACURA</td>\n",
       "      <td>ILX</td>\n",
       "      <td>COMPACT</td>\n",
       "      <td>2.4</td>\n",
       "      <td>4</td>\n",
       "      <td>M6</td>\n",
       "      <td>Z</td>\n",
       "      <td>11.2</td>\n",
       "      <td>7.7</td>\n",
       "      <td>9.6</td>\n",
       "      <td>29</td>\n",
       "      <td>221</td>\n",
       "    </tr>\n",
       "    <tr>\n",
       "      <th>2</th>\n",
       "      <td>2014</td>\n",
       "      <td>ACURA</td>\n",
       "      <td>ILX HYBRID</td>\n",
       "      <td>COMPACT</td>\n",
       "      <td>1.5</td>\n",
       "      <td>4</td>\n",
       "      <td>AV7</td>\n",
       "      <td>Z</td>\n",
       "      <td>6.0</td>\n",
       "      <td>5.8</td>\n",
       "      <td>5.9</td>\n",
       "      <td>48</td>\n",
       "      <td>136</td>\n",
       "    </tr>\n",
       "    <tr>\n",
       "      <th>3</th>\n",
       "      <td>2014</td>\n",
       "      <td>ACURA</td>\n",
       "      <td>MDX 4WD</td>\n",
       "      <td>SUV - SMALL</td>\n",
       "      <td>3.5</td>\n",
       "      <td>6</td>\n",
       "      <td>AS6</td>\n",
       "      <td>Z</td>\n",
       "      <td>12.7</td>\n",
       "      <td>9.1</td>\n",
       "      <td>11.1</td>\n",
       "      <td>25</td>\n",
       "      <td>255</td>\n",
       "    </tr>\n",
       "    <tr>\n",
       "      <th>4</th>\n",
       "      <td>2014</td>\n",
       "      <td>ACURA</td>\n",
       "      <td>RDX AWD</td>\n",
       "      <td>SUV - SMALL</td>\n",
       "      <td>3.5</td>\n",
       "      <td>6</td>\n",
       "      <td>AS6</td>\n",
       "      <td>Z</td>\n",
       "      <td>12.1</td>\n",
       "      <td>8.7</td>\n",
       "      <td>10.6</td>\n",
       "      <td>27</td>\n",
       "      <td>244</td>\n",
       "    </tr>\n",
       "  </tbody>\n",
       "</table>\n",
       "</div>"
      ],
      "text/plain": [
       "   MODELYEAR   MAKE       MODEL VEHICLECLASS  ENGINESIZE  CYLINDERS  \\\n",
       "0       2014  ACURA         ILX      COMPACT         2.0          4   \n",
       "1       2014  ACURA         ILX      COMPACT         2.4          4   \n",
       "2       2014  ACURA  ILX HYBRID      COMPACT         1.5          4   \n",
       "3       2014  ACURA     MDX 4WD  SUV - SMALL         3.5          6   \n",
       "4       2014  ACURA     RDX AWD  SUV - SMALL         3.5          6   \n",
       "\n",
       "  TRANSMISSION FUELTYPE  FUELCONSUMPTION_CITY  FUELCONSUMPTION_HWY  \\\n",
       "0          AS5        Z                   9.9                  6.7   \n",
       "1           M6        Z                  11.2                  7.7   \n",
       "2          AV7        Z                   6.0                  5.8   \n",
       "3          AS6        Z                  12.7                  9.1   \n",
       "4          AS6        Z                  12.1                  8.7   \n",
       "\n",
       "   FUELCONSUMPTION_COMB  FUELCONSUMPTION_COMB_MPG  CO2EMISSIONS  \n",
       "0                   8.5                        33           196  \n",
       "1                   9.6                        29           221  \n",
       "2                   5.9                        48           136  \n",
       "3                  11.1                        25           255  \n",
       "4                  10.6                        27           244  "
      ]
     },
     "execution_count": 7,
     "metadata": {},
     "output_type": "execute_result"
    }
   ],
   "source": [
    "df=pd.read_csv('FuelConsumptionCo2.csv')\n",
    "df.head()"
   ]
  },
  {
   "cell_type": "code",
   "execution_count": 10,
   "id": "5f63f594-9eed-4e02-a5ed-542f2959e939",
   "metadata": {},
   "outputs": [
    {
     "data": {
      "text/plain": [
       "(1067, 13)"
      ]
     },
     "execution_count": 10,
     "metadata": {},
     "output_type": "execute_result"
    }
   ],
   "source": [
    "#check bản ghi và số cột\n",
    "df.shape #hoặc len(df), len(df.colummns)"
   ]
  },
  {
   "cell_type": "code",
   "execution_count": 6,
   "id": "eab9f55c-4fe8-45ac-bc2b-b67becd9a790",
   "metadata": {},
   "outputs": [
    {
     "data": {
      "text/plain": [
       "MODELYEAR                   0\n",
       "MAKE                        0\n",
       "MODEL                       0\n",
       "VEHICLECLASS                0\n",
       "ENGINESIZE                  0\n",
       "CYLINDERS                   0\n",
       "TRANSMISSION                0\n",
       "FUELTYPE                    0\n",
       "FUELCONSUMPTION_CITY        0\n",
       "FUELCONSUMPTION_HWY         0\n",
       "FUELCONSUMPTION_COMB        0\n",
       "FUELCONSUMPTION_COMB_MPG    0\n",
       "CO2EMISSIONS                0\n",
       "dtype: int64"
      ]
     },
     "execution_count": 6,
     "metadata": {},
     "output_type": "execute_result"
    }
   ],
   "source": [
    "#check NA\n",
    "df.isna().sum() #hoặc df.isnull()"
   ]
  },
  {
   "cell_type": "code",
   "execution_count": 15,
   "id": "6289ac27-b5c7-4f05-8f72-88eee1a9e25f",
   "metadata": {},
   "outputs": [
    {
     "name": "stdout",
     "output_type": "stream",
     "text": [
      "<class 'pandas.core.frame.DataFrame'>\n",
      "RangeIndex: 1067 entries, 0 to 1066\n",
      "Data columns (total 13 columns):\n",
      " #   Column                    Non-Null Count  Dtype  \n",
      "---  ------                    --------------  -----  \n",
      " 0   MODELYEAR                 1067 non-null   int64  \n",
      " 1   MAKE                      1067 non-null   object \n",
      " 2   MODEL                     1067 non-null   object \n",
      " 3   VEHICLECLASS              1067 non-null   object \n",
      " 4   ENGINESIZE                1067 non-null   float64\n",
      " 5   CYLINDERS                 1067 non-null   int64  \n",
      " 6   TRANSMISSION              1067 non-null   object \n",
      " 7   FUELTYPE                  1067 non-null   object \n",
      " 8   FUELCONSUMPTION_CITY      1067 non-null   float64\n",
      " 9   FUELCONSUMPTION_HWY       1067 non-null   float64\n",
      " 10  FUELCONSUMPTION_COMB      1067 non-null   float64\n",
      " 11  FUELCONSUMPTION_COMB_MPG  1067 non-null   int64  \n",
      " 12  CO2EMISSIONS              1067 non-null   int64  \n",
      "dtypes: float64(4), int64(4), object(5)\n",
      "memory usage: 108.5+ KB\n"
     ]
    }
   ],
   "source": [
    "#check kiểu dữ liệu\n",
    "df.info()"
   ]
  },
  {
   "cell_type": "code",
   "execution_count": 16,
   "id": "6164be5b-1a5d-4913-bb36-f3bac0cc68dd",
   "metadata": {},
   "outputs": [
    {
     "data": {
      "text/plain": [
       "Index                        128\n",
       "MODELYEAR                   8536\n",
       "MAKE                        8536\n",
       "MODEL                       8536\n",
       "VEHICLECLASS                8536\n",
       "ENGINESIZE                  8536\n",
       "CYLINDERS                   8536\n",
       "TRANSMISSION                8536\n",
       "FUELTYPE                    8536\n",
       "FUELCONSUMPTION_CITY        8536\n",
       "FUELCONSUMPTION_HWY         8536\n",
       "FUELCONSUMPTION_COMB        8536\n",
       "FUELCONSUMPTION_COMB_MPG    8536\n",
       "CO2EMISSIONS                8536\n",
       "dtype: int64"
      ]
     },
     "execution_count": 16,
     "metadata": {},
     "output_type": "execute_result"
    }
   ],
   "source": [
    "#mỗi cột ngốn bn bộ nhớ\n",
    "df.memory_usage()"
   ]
  },
  {
   "cell_type": "code",
   "execution_count": 8,
   "id": "3bbe9731-5e7f-4804-a2cf-1e3405e37dbc",
   "metadata": {},
   "outputs": [
    {
     "data": {
      "text/plain": [
       "111096"
      ]
     },
     "execution_count": 8,
     "metadata": {},
     "output_type": "execute_result"
    }
   ],
   "source": [
    "df.memory_usage().sum()"
   ]
  },
  {
   "cell_type": "code",
   "execution_count": 19,
   "id": "fcb1d8d3-6c94-4646-95f6-bc36dae7acc6",
   "metadata": {},
   "outputs": [
    {
     "data": {
      "text/html": [
       "<div>\n",
       "<style scoped>\n",
       "    .dataframe tbody tr th:only-of-type {\n",
       "        vertical-align: middle;\n",
       "    }\n",
       "\n",
       "    .dataframe tbody tr th {\n",
       "        vertical-align: top;\n",
       "    }\n",
       "\n",
       "    .dataframe thead th {\n",
       "        text-align: right;\n",
       "    }\n",
       "</style>\n",
       "<table border=\"1\" class=\"dataframe\">\n",
       "  <thead>\n",
       "    <tr style=\"text-align: right;\">\n",
       "      <th></th>\n",
       "      <th>MODELYEAR</th>\n",
       "      <th>ENGINESIZE</th>\n",
       "      <th>CYLINDERS</th>\n",
       "      <th>FUELCONSUMPTION_CITY</th>\n",
       "      <th>FUELCONSUMPTION_HWY</th>\n",
       "      <th>FUELCONSUMPTION_COMB</th>\n",
       "      <th>FUELCONSUMPTION_COMB_MPG</th>\n",
       "      <th>CO2EMISSIONS</th>\n",
       "    </tr>\n",
       "  </thead>\n",
       "  <tbody>\n",
       "    <tr>\n",
       "      <th>count</th>\n",
       "      <td>1067.0</td>\n",
       "      <td>1067.000000</td>\n",
       "      <td>1067.000000</td>\n",
       "      <td>1067.000000</td>\n",
       "      <td>1067.000000</td>\n",
       "      <td>1067.000000</td>\n",
       "      <td>1067.000000</td>\n",
       "      <td>1067.000000</td>\n",
       "    </tr>\n",
       "    <tr>\n",
       "      <th>mean</th>\n",
       "      <td>2014.0</td>\n",
       "      <td>3.346298</td>\n",
       "      <td>5.794752</td>\n",
       "      <td>13.296532</td>\n",
       "      <td>9.474602</td>\n",
       "      <td>11.580881</td>\n",
       "      <td>26.441425</td>\n",
       "      <td>256.228679</td>\n",
       "    </tr>\n",
       "    <tr>\n",
       "      <th>std</th>\n",
       "      <td>0.0</td>\n",
       "      <td>1.415895</td>\n",
       "      <td>1.797447</td>\n",
       "      <td>4.101253</td>\n",
       "      <td>2.794510</td>\n",
       "      <td>3.485595</td>\n",
       "      <td>7.468702</td>\n",
       "      <td>63.372304</td>\n",
       "    </tr>\n",
       "    <tr>\n",
       "      <th>min</th>\n",
       "      <td>2014.0</td>\n",
       "      <td>1.000000</td>\n",
       "      <td>3.000000</td>\n",
       "      <td>4.600000</td>\n",
       "      <td>4.900000</td>\n",
       "      <td>4.700000</td>\n",
       "      <td>11.000000</td>\n",
       "      <td>108.000000</td>\n",
       "    </tr>\n",
       "    <tr>\n",
       "      <th>25%</th>\n",
       "      <td>2014.0</td>\n",
       "      <td>2.000000</td>\n",
       "      <td>4.000000</td>\n",
       "      <td>10.250000</td>\n",
       "      <td>7.500000</td>\n",
       "      <td>9.000000</td>\n",
       "      <td>21.000000</td>\n",
       "      <td>207.000000</td>\n",
       "    </tr>\n",
       "    <tr>\n",
       "      <th>50%</th>\n",
       "      <td>2014.0</td>\n",
       "      <td>3.400000</td>\n",
       "      <td>6.000000</td>\n",
       "      <td>12.600000</td>\n",
       "      <td>8.800000</td>\n",
       "      <td>10.900000</td>\n",
       "      <td>26.000000</td>\n",
       "      <td>251.000000</td>\n",
       "    </tr>\n",
       "    <tr>\n",
       "      <th>75%</th>\n",
       "      <td>2014.0</td>\n",
       "      <td>4.300000</td>\n",
       "      <td>8.000000</td>\n",
       "      <td>15.550000</td>\n",
       "      <td>10.850000</td>\n",
       "      <td>13.350000</td>\n",
       "      <td>31.000000</td>\n",
       "      <td>294.000000</td>\n",
       "    </tr>\n",
       "    <tr>\n",
       "      <th>max</th>\n",
       "      <td>2014.0</td>\n",
       "      <td>8.400000</td>\n",
       "      <td>12.000000</td>\n",
       "      <td>30.200000</td>\n",
       "      <td>20.500000</td>\n",
       "      <td>25.800000</td>\n",
       "      <td>60.000000</td>\n",
       "      <td>488.000000</td>\n",
       "    </tr>\n",
       "  </tbody>\n",
       "</table>\n",
       "</div>"
      ],
      "text/plain": [
       "       MODELYEAR   ENGINESIZE    CYLINDERS  FUELCONSUMPTION_CITY  \\\n",
       "count     1067.0  1067.000000  1067.000000           1067.000000   \n",
       "mean      2014.0     3.346298     5.794752             13.296532   \n",
       "std          0.0     1.415895     1.797447              4.101253   \n",
       "min       2014.0     1.000000     3.000000              4.600000   \n",
       "25%       2014.0     2.000000     4.000000             10.250000   \n",
       "50%       2014.0     3.400000     6.000000             12.600000   \n",
       "75%       2014.0     4.300000     8.000000             15.550000   \n",
       "max       2014.0     8.400000    12.000000             30.200000   \n",
       "\n",
       "       FUELCONSUMPTION_HWY  FUELCONSUMPTION_COMB  FUELCONSUMPTION_COMB_MPG  \\\n",
       "count          1067.000000           1067.000000               1067.000000   \n",
       "mean              9.474602             11.580881                 26.441425   \n",
       "std               2.794510              3.485595                  7.468702   \n",
       "min               4.900000              4.700000                 11.000000   \n",
       "25%               7.500000              9.000000                 21.000000   \n",
       "50%               8.800000             10.900000                 26.000000   \n",
       "75%              10.850000             13.350000                 31.000000   \n",
       "max              20.500000             25.800000                 60.000000   \n",
       "\n",
       "       CO2EMISSIONS  \n",
       "count   1067.000000  \n",
       "mean     256.228679  \n",
       "std       63.372304  \n",
       "min      108.000000  \n",
       "25%      207.000000  \n",
       "50%      251.000000  \n",
       "75%      294.000000  \n",
       "max      488.000000  "
      ]
     },
     "execution_count": 19,
     "metadata": {},
     "output_type": "execute_result"
    }
   ],
   "source": [
    "df.describe()"
   ]
  },
  {
   "cell_type": "code",
   "execution_count": 21,
   "id": "38279df6-4077-43cc-bb1d-ceb744c34f55",
   "metadata": {},
   "outputs": [
    {
     "data": {
      "text/html": [
       "<div>\n",
       "<style scoped>\n",
       "    .dataframe tbody tr th:only-of-type {\n",
       "        vertical-align: middle;\n",
       "    }\n",
       "\n",
       "    .dataframe tbody tr th {\n",
       "        vertical-align: top;\n",
       "    }\n",
       "\n",
       "    .dataframe thead th {\n",
       "        text-align: right;\n",
       "    }\n",
       "</style>\n",
       "<table border=\"1\" class=\"dataframe\">\n",
       "  <thead>\n",
       "    <tr style=\"text-align: right;\">\n",
       "      <th></th>\n",
       "      <th>MAKE</th>\n",
       "      <th>MODEL</th>\n",
       "      <th>VEHICLECLASS</th>\n",
       "      <th>FUELTYPE</th>\n",
       "      <th>TRANSMISSION</th>\n",
       "    </tr>\n",
       "  </thead>\n",
       "  <tbody>\n",
       "    <tr>\n",
       "      <th>count</th>\n",
       "      <td>1067</td>\n",
       "      <td>1067</td>\n",
       "      <td>1067</td>\n",
       "      <td>1067</td>\n",
       "      <td>1067</td>\n",
       "    </tr>\n",
       "    <tr>\n",
       "      <th>unique</th>\n",
       "      <td>39</td>\n",
       "      <td>663</td>\n",
       "      <td>16</td>\n",
       "      <td>4</td>\n",
       "      <td>22</td>\n",
       "    </tr>\n",
       "    <tr>\n",
       "      <th>top</th>\n",
       "      <td>FORD</td>\n",
       "      <td>F150 FFV 4X4</td>\n",
       "      <td>MID-SIZE</td>\n",
       "      <td>X</td>\n",
       "      <td>A6</td>\n",
       "    </tr>\n",
       "    <tr>\n",
       "      <th>freq</th>\n",
       "      <td>90</td>\n",
       "      <td>8</td>\n",
       "      <td>178</td>\n",
       "      <td>514</td>\n",
       "      <td>222</td>\n",
       "    </tr>\n",
       "  </tbody>\n",
       "</table>\n",
       "</div>"
      ],
      "text/plain": [
       "        MAKE         MODEL VEHICLECLASS FUELTYPE TRANSMISSION\n",
       "count   1067          1067         1067     1067         1067\n",
       "unique    39           663           16        4           22\n",
       "top     FORD  F150 FFV 4X4     MID-SIZE        X           A6\n",
       "freq      90             8          178      514          222"
      ]
     },
     "execution_count": 21,
     "metadata": {},
     "output_type": "execute_result"
    }
   ],
   "source": [
    "df[['MAKE','MODEL','VEHICLECLASS','FUELTYPE','TRANSMISSION']].describe()"
   ]
  },
  {
   "cell_type": "code",
   "execution_count": null,
   "id": "4861afbb-64ad-40e6-8b79-30598859b29e",
   "metadata": {},
   "outputs": [],
   "source": []
  },
  {
   "cell_type": "markdown",
   "id": "4187f97f-1e7b-427e-b1b7-ede36cec9f98",
   "metadata": {},
   "source": [
    "### 3. Eploratory Data Analysis"
   ]
  },
  {
   "cell_type": "code",
   "execution_count": 24,
   "id": "4ea86944-b2ef-4da9-b0a9-a1537e6575d1",
   "metadata": {},
   "outputs": [
    {
     "data": {
      "text/plain": [
       "<seaborn.axisgrid.FacetGrid at 0x1bbb12b1250>"
      ]
     },
     "execution_count": 24,
     "metadata": {},
     "output_type": "execute_result"
    },
    {
     "data": {
      "image/png": "[encoded data removed]",
      "text/plain": [
       "<Figure size 360x360 with 1 Axes>"
      ]
     },
     "metadata": {
      "needs_background": "light"
     },
     "output_type": "display_data"
    }
   ],
   "source": [
    "#Trực quan hóa dữ liệu xem phân bố nó như nào (chuẩn, đều,...)\n",
    "sns.displot(data=df['ENGINESIZE'])"
   ]
  },
  {
   "cell_type": "code",
   "execution_count": 38,
   "id": "75a445ec-543b-4722-947c-2dd596e808a6",
   "metadata": {},
   "outputs": [
    {
     "data": {
      "text/plain": [
       "<AxesSubplot:>"
      ]
     },
     "execution_count": 38,
     "metadata": {},
     "output_type": "execute_result"
    },
    {
     "data": {
      "image/png": "[encoded data removed]",
      "text/plain": [
       "<Figure size 432x288 with 1 Axes>"
      ]
     },
     "metadata": {
      "needs_background": "light"
     },
     "output_type": "display_data"
    }
   ],
   "source": [
    "sns.boxplot(data=df['ENGINESIZE'],color='green')"
   ]
  },
  {
   "cell_type": "code",
   "execution_count": 39,
   "id": "3d9de784-5f76-4bd7-9cc6-2eb78e2b8867",
   "metadata": {},
   "outputs": [
    {
     "data": {
      "text/plain": [
       "<AxesSubplot:>"
      ]
     },
     "execution_count": 39,
     "metadata": {},
     "output_type": "execute_result"
    },
    {
     "data": {
      "image/png": "[encoded data removed]",
      "text/plain": [
       "<Figure size 432x288 with 1 Axes>"
      ]
     },
     "metadata": {
      "needs_background": "light"
     },
     "output_type": "display_data"
    }
   ],
   "source": [
    "sns.violinplot(data=df['ENGINESIZE'],color='red')"
   ]
  },
  {
   "cell_type": "code",
   "execution_count": null,
   "id": "cb6e8666-9fa1-4408-8a49-f9773606add2",
   "metadata": {},
   "outputs": [
    {
     "data": {
      "text/plain": [
       "<AxesSubplot:>"
      ]
     },
     "execution_count": 40,
     "metadata": {},
     "output_type": "execute_result"
    },
    {
     "data": {
      "image/png": "[encoded data removed]",
      "text/plain": [
       "<Figure size 432x288 with 1 Axes>"
      ]
     },
     "metadata": {
      "needs_background": "light"
     },
     "output_type": "display_data"
    }
   ],
   "source": [
    "sns.boxplot(data=df)"
   ]
  },
  {
   "cell_type": "code",
   "execution_count": 42,
   "id": "5bce8b5d-6831-4a52-b48b-054d964245b8",
   "metadata": {},
   "outputs": [
    {
     "data": {
      "text/plain": [
       "<AxesSubplot:>"
      ]
     },
     "execution_count": 42,
     "metadata": {},
     "output_type": "execute_result"
    },
    {
     "data": {
      "image/png": "[encoded data removed]",
      "text/plain": [
       "<Figure size 432x288 with 1 Axes>"
      ]
     },
     "metadata": {
      "needs_background": "light"
     },
     "output_type": "display_data"
    }
   ],
   "source": [
    "sns.boxplot(data=df.drop(columns=['MODELYEAR','CO2EMISSIONS']))"
   ]
  },
  {
   "cell_type": "code",
   "execution_count": 46,
   "id": "89cec2c2-690f-4d05-85fa-793fc2eff01b",
   "metadata": {},
   "outputs": [
    {
     "data": {
      "text/plain": [
       "<function matplotlib.pyplot.show(close=None, block=None)>"
      ]
     },
     "execution_count": 46,
     "metadata": {},
     "output_type": "execute_result"
    },
    {
     "data": {
      "image/png": "[encoded data removed]",
      "text/plain": [
       "<Figure size 1008x360 with 1 Axes>"
      ]
     },
     "metadata": {
      "needs_background": "light"
     },
     "output_type": "display_data"
    }
   ],
   "source": [
    "plt.figure(figsize=(14,5)) #mục đích là để đồ thị nhìn giãn ra,ko bị díu vào nhau\n",
    "sns.boxplot(data=df.drop(columns=['MODELYEAR','CO2EMISSIONS']))\n",
    "plt.xticks(rotation=45)#có thể là yticks, dùng để xoay chéo tên cột được hiển thị, rotation là số độ, xoay 45 độ\n",
    "plt.show"
   ]
  },
  {
   "cell_type": "code",
   "execution_count": null,
   "id": "868912c8-3cc2-49b7-b33c-c99ac2f13b3c",
   "metadata": {},
   "outputs": [],
   "source": []
  },
  {
   "cell_type": "code",
   "execution_count": null,
   "id": "675f0286-92a2-4525-95fe-3a8876874008",
   "metadata": {},
   "outputs": [],
   "source": []
  },
  {
   "cell_type": "code",
   "execution_count": 22,
   "id": "7db2b813-051a-4119-9412-8117bec3c239",
   "metadata": {},
   "outputs": [],
   "source": [
    "def square (x):\n",
    "    \"\"\"\n",
    "    Cú pháp\n",
    "    Mục tiêu\n",
    "        Tham số\n",
    "    Gía trị đầu vào\n",
    "    Gía trj đầu ra\n",
    "    \"\"\"\n",
    "    return x**2"
   ]
  },
  {
   "cell_type": "code",
   "execution_count": null,
   "id": "0d23973c-ac33-4839-871c-6712b4f5f025",
   "metadata": {},
   "outputs": [],
   "source": []
  },
  {
   "cell_type": "markdown",
   "id": "c3451aec-37fb-4326-9a22-5f0c785ee5be",
   "metadata": {},
   "source": [
    "### 4. Feature selection"
   ]
  },
  {
   "cell_type": "code",
   "execution_count": 48,
   "id": "8cd3b256-390e-4f7d-a05f-85ad37693a44",
   "metadata": {},
   "outputs": [
    {
     "data": {
      "text/html": [
       "<div>\n",
       "<style scoped>\n",
       "    .dataframe tbody tr th:only-of-type {\n",
       "        vertical-align: middle;\n",
       "    }\n",
       "\n",
       "    .dataframe tbody tr th {\n",
       "        vertical-align: top;\n",
       "    }\n",
       "\n",
       "    .dataframe thead th {\n",
       "        text-align: right;\n",
       "    }\n",
       "</style>\n",
       "<table border=\"1\" class=\"dataframe\">\n",
       "  <thead>\n",
       "    <tr style=\"text-align: right;\">\n",
       "      <th></th>\n",
       "      <th>ENGINESIZE</th>\n",
       "      <th>CYLINDERS</th>\n",
       "      <th>FUELCONSUMPTION_CITY</th>\n",
       "      <th>FUELCONSUMPTION_HWY</th>\n",
       "      <th>FUELCONSUMPTION_COMB</th>\n",
       "      <th>FUELCONSUMPTION_COMB_MPG</th>\n",
       "      <th>CO2EMISSIONS</th>\n",
       "    </tr>\n",
       "  </thead>\n",
       "  <tbody>\n",
       "    <tr>\n",
       "      <th>ENGINESIZE</th>\n",
       "      <td>1.000000</td>\n",
       "      <td>0.934011</td>\n",
       "      <td>0.832225</td>\n",
       "      <td>0.778746</td>\n",
       "      <td>0.819482</td>\n",
       "      <td>-0.808554</td>\n",
       "      <td>0.874154</td>\n",
       "    </tr>\n",
       "    <tr>\n",
       "      <th>CYLINDERS</th>\n",
       "      <td>0.934011</td>\n",
       "      <td>1.000000</td>\n",
       "      <td>0.796473</td>\n",
       "      <td>0.724594</td>\n",
       "      <td>0.776788</td>\n",
       "      <td>-0.770430</td>\n",
       "      <td>0.849685</td>\n",
       "    </tr>\n",
       "    <tr>\n",
       "      <th>FUELCONSUMPTION_CITY</th>\n",
       "      <td>0.832225</td>\n",
       "      <td>0.796473</td>\n",
       "      <td>1.000000</td>\n",
       "      <td>0.965718</td>\n",
       "      <td>0.995542</td>\n",
       "      <td>-0.935613</td>\n",
       "      <td>0.898039</td>\n",
       "    </tr>\n",
       "    <tr>\n",
       "      <th>FUELCONSUMPTION_HWY</th>\n",
       "      <td>0.778746</td>\n",
       "      <td>0.724594</td>\n",
       "      <td>0.965718</td>\n",
       "      <td>1.000000</td>\n",
       "      <td>0.985804</td>\n",
       "      <td>-0.893809</td>\n",
       "      <td>0.861748</td>\n",
       "    </tr>\n",
       "    <tr>\n",
       "      <th>FUELCONSUMPTION_COMB</th>\n",
       "      <td>0.819482</td>\n",
       "      <td>0.776788</td>\n",
       "      <td>0.995542</td>\n",
       "      <td>0.985804</td>\n",
       "      <td>1.000000</td>\n",
       "      <td>-0.927965</td>\n",
       "      <td>0.892129</td>\n",
       "    </tr>\n",
       "    <tr>\n",
       "      <th>FUELCONSUMPTION_COMB_MPG</th>\n",
       "      <td>-0.808554</td>\n",
       "      <td>-0.770430</td>\n",
       "      <td>-0.935613</td>\n",
       "      <td>-0.893809</td>\n",
       "      <td>-0.927965</td>\n",
       "      <td>1.000000</td>\n",
       "      <td>-0.906394</td>\n",
       "    </tr>\n",
       "    <tr>\n",
       "      <th>CO2EMISSIONS</th>\n",
       "      <td>0.874154</td>\n",
       "      <td>0.849685</td>\n",
       "      <td>0.898039</td>\n",
       "      <td>0.861748</td>\n",
       "      <td>0.892129</td>\n",
       "      <td>-0.906394</td>\n",
       "      <td>1.000000</td>\n",
       "    </tr>\n",
       "  </tbody>\n",
       "</table>\n",
       "</div>"
      ],
      "text/plain": [
       "                          ENGINESIZE  CYLINDERS  FUELCONSUMPTION_CITY  \\\n",
       "ENGINESIZE                  1.000000   0.934011              0.832225   \n",
       "CYLINDERS                   0.934011   1.000000              0.796473   \n",
       "FUELCONSUMPTION_CITY        0.832225   0.796473              1.000000   \n",
       "FUELCONSUMPTION_HWY         0.778746   0.724594              0.965718   \n",
       "FUELCONSUMPTION_COMB        0.819482   0.776788              0.995542   \n",
       "FUELCONSUMPTION_COMB_MPG   -0.808554  -0.770430             -0.935613   \n",
       "CO2EMISSIONS                0.874154   0.849685              0.898039   \n",
       "\n",
       "                          FUELCONSUMPTION_HWY  FUELCONSUMPTION_COMB  \\\n",
       "ENGINESIZE                           0.778746              0.819482   \n",
       "CYLINDERS                            0.724594              0.776788   \n",
       "FUELCONSUMPTION_CITY                 0.965718              0.995542   \n",
       "FUELCONSUMPTION_HWY                  1.000000              0.985804   \n",
       "FUELCONSUMPTION_COMB                 0.985804              1.000000   \n",
       "FUELCONSUMPTION_COMB_MPG            -0.893809             -0.927965   \n",
       "CO2EMISSIONS                         0.861748              0.892129   \n",
       "\n",
       "                          FUELCONSUMPTION_COMB_MPG  CO2EMISSIONS  \n",
       "ENGINESIZE                               -0.808554      0.874154  \n",
       "CYLINDERS                                -0.770430      0.849685  \n",
       "FUELCONSUMPTION_CITY                     -0.935613      0.898039  \n",
       "FUELCONSUMPTION_HWY                      -0.893809      0.861748  \n",
       "FUELCONSUMPTION_COMB                     -0.927965      0.892129  \n",
       "FUELCONSUMPTION_COMB_MPG                  1.000000     -0.906394  \n",
       "CO2EMISSIONS                             -0.906394      1.000000  "
      ]
     },
     "execution_count": 48,
     "metadata": {},
     "output_type": "execute_result"
    }
   ],
   "source": [
    "#Đánh giá sự tương quan, trước đó đã drop cột MODELYEAR\n",
    "df.drop(columns='MODELYEAR').corr()"
   ]
  },
  {
   "cell_type": "code",
   "execution_count": 9,
   "id": "b1eedcaf-0113-439b-9417-be13411b1008",
   "metadata": {},
   "outputs": [
    {
     "data": {
      "text/plain": [
       "<AxesSubplot:>"
      ]
     },
     "execution_count": 9,
     "metadata": {},
     "output_type": "execute_result"
    },
    {
     "data": {
      "image/png": "[encoded data removed]",
      "text/plain": [
       "<Figure size 432x288 with 2 Axes>"
      ]
     },
     "metadata": {
      "needs_background": "light"
     },
     "output_type": "display_data"
    }
   ],
   "source": [
    "#trực quan hóa sự tương quan\n",
    "sns.heatmap(df.drop(columns='MODELYEAR').corr(),annot=True)\n",
    "#annot dùng để thêm số vào ô"
   ]
  },
  {
   "cell_type": "code",
   "execution_count": 11,
   "id": "3d88ed2f-2284-444f-9be1-c86ced060f67",
   "metadata": {},
   "outputs": [
    {
     "data": {
      "image/png": "[encoded data removed]",
      "text/plain": [
       "<Figure size 1440x432 with 3 Axes>"
      ]
     },
     "metadata": {
      "needs_background": "light"
     },
     "output_type": "display_data"
    }
   ],
   "source": [
    "fig, ax = plt.subplots (1,3, figsize=(20,6))\n",
    "ax[0].scatter(df.ENGINESIZE, df.CO2EMISSIONS)\n",
    "ax[0].set(xlabel='ENGINESIZE', ylabel='CO2EMISSIONS')\n",
    "\n",
    "ax[1].scatter(df.CYLINDERS, df.CO2EMISSIONS)\n",
    "ax[1].set(xlabel='CYLINDERS', ylabel='CO2EMISSIONS')\n",
    "\n",
    "ax[2].scatter(df.FUELCONSUMPTION_CITY, df.CO2EMISSIONS)\n",
    "ax[2].set(xlabel='FUELCONSUMPTION_CITY', ylabel='CO2EMISSIONS')\n",
    "\n",
    "plt.show()"
   ]
  },
  {
   "cell_type": "code",
   "execution_count": null,
   "id": "e2886e0c-9f15-432e-861f-837d747e0786",
   "metadata": {},
   "outputs": [],
   "source": []
  },
  {
   "cell_type": "markdown",
   "id": "20d7dcc7-017d-4962-9b92-419e14456645",
   "metadata": {},
   "source": [
    "### 5. Train model"
   ]
  },
  {
   "cell_type": "code",
   "execution_count": 13,
   "id": "a9e95fcb-14bf-4704-b7d1-0164f9e1ceb7",
   "metadata": {},
   "outputs": [],
   "source": [
    "#import Linear từ thư viện sklearn\n",
    "from sklearn.linear_model import LinearRegression"
   ]
  },
  {
   "cell_type": "code",
   "execution_count": 59,
   "id": "fde90437-d8c1-4546-9b60-b2be9b8ec5e6",
   "metadata": {},
   "outputs": [
    {
     "data": {
      "text/plain": [
       "LinearRegression()"
      ]
     },
     "execution_count": 59,
     "metadata": {},
     "output_type": "execute_result"
    }
   ],
   "source": [
    "#Tạo Mh tuyến tính từ 2 biến (bước fit dữ liệu vào trong MH)\n",
    "model = LinearRegression ()\n",
    "model.fit(df[['ENGINESIZE']], df['CO2EMISSIONS'])\n"
   ]
  },
  {
   "cell_type": "code",
   "execution_count": 22,
   "id": "106917e1-26bd-47f3-929f-0ffaa307cf9d",
   "metadata": {},
   "outputs": [
    {
     "data": {
      "text/plain": [
       "array([39.12519979])"
      ]
     },
     "execution_count": 22,
     "metadata": {},
     "output_type": "execute_result"
    }
   ],
   "source": [
    "model.coef_"
   ]
  },
  {
   "cell_type": "code",
   "execution_count": 23,
   "id": "9a51ff98-1f40-4180-85e9-ae93d916d156",
   "metadata": {},
   "outputs": [
    {
     "data": {
      "text/plain": [
       "125.30409949535726"
      ]
     },
     "execution_count": 23,
     "metadata": {},
     "output_type": "execute_result"
    }
   ],
   "source": [
    "model.intercept_"
   ]
  },
  {
   "cell_type": "code",
   "execution_count": 25,
   "id": "e4f35647-35cb-4d3e-b461-fd29c2c12828",
   "metadata": {},
   "outputs": [
    {
     "data": {
      "text/plain": [
       "array([203.55449907, 219.20457898, 183.99189918, ..., 242.67969886,\n",
       "       250.50473881, 250.50473881])"
      ]
     },
     "execution_count": 25,
     "metadata": {},
     "output_type": "execute_result"
    }
   ],
   "source": [
    "prediction = model.predict(df[['ENGINESIZE']])\n",
    "prediction"
   ]
  },
  {
   "cell_type": "code",
   "execution_count": 26,
   "id": "a507219d-9eec-4eeb-9b67-e9ac022f5bc1",
   "metadata": {},
   "outputs": [
    {
     "data": {
      "text/html": [
       "<div>\n",
       "<style scoped>\n",
       "    .dataframe tbody tr th:only-of-type {\n",
       "        vertical-align: middle;\n",
       "    }\n",
       "\n",
       "    .dataframe tbody tr th {\n",
       "        vertical-align: top;\n",
       "    }\n",
       "\n",
       "    .dataframe thead th {\n",
       "        text-align: right;\n",
       "    }\n",
       "</style>\n",
       "<table border=\"1\" class=\"dataframe\">\n",
       "  <thead>\n",
       "    <tr style=\"text-align: right;\">\n",
       "      <th></th>\n",
       "      <th>ENGINESIZE</th>\n",
       "    </tr>\n",
       "  </thead>\n",
       "  <tbody>\n",
       "    <tr>\n",
       "      <th>0</th>\n",
       "      <td>203.554499</td>\n",
       "    </tr>\n",
       "    <tr>\n",
       "      <th>1</th>\n",
       "      <td>219.204579</td>\n",
       "    </tr>\n",
       "    <tr>\n",
       "      <th>2</th>\n",
       "      <td>183.991899</td>\n",
       "    </tr>\n",
       "    <tr>\n",
       "      <th>3</th>\n",
       "      <td>262.242299</td>\n",
       "    </tr>\n",
       "    <tr>\n",
       "      <th>4</th>\n",
       "      <td>262.242299</td>\n",
       "    </tr>\n",
       "    <tr>\n",
       "      <th>...</th>\n",
       "      <td>...</td>\n",
       "    </tr>\n",
       "    <tr>\n",
       "      <th>1062</th>\n",
       "      <td>242.679699</td>\n",
       "    </tr>\n",
       "    <tr>\n",
       "      <th>1063</th>\n",
       "      <td>250.504739</td>\n",
       "    </tr>\n",
       "    <tr>\n",
       "      <th>1064</th>\n",
       "      <td>242.679699</td>\n",
       "    </tr>\n",
       "    <tr>\n",
       "      <th>1065</th>\n",
       "      <td>250.504739</td>\n",
       "    </tr>\n",
       "    <tr>\n",
       "      <th>1066</th>\n",
       "      <td>250.504739</td>\n",
       "    </tr>\n",
       "  </tbody>\n",
       "</table>\n",
       "<p>1067 rows × 1 columns</p>\n",
       "</div>"
      ],
      "text/plain": [
       "      ENGINESIZE\n",
       "0     203.554499\n",
       "1     219.204579\n",
       "2     183.991899\n",
       "3     262.242299\n",
       "4     262.242299\n",
       "...          ...\n",
       "1062  242.679699\n",
       "1063  250.504739\n",
       "1064  242.679699\n",
       "1065  250.504739\n",
       "1066  250.504739\n",
       "\n",
       "[1067 rows x 1 columns]"
      ]
     },
     "execution_count": 26,
     "metadata": {},
     "output_type": "execute_result"
    }
   ],
   "source": [
    "# y = ax + b\n",
    "predictions1 = model.coef_[0]*df[['ENGINESIZE']] + model.intercept_\n",
    "predictions1"
   ]
  },
  {
   "cell_type": "code",
   "execution_count": 27,
   "id": "493c5c59-6b14-43d2-8f33-69587e9c7116",
   "metadata": {},
   "outputs": [
    {
     "data": {
      "text/html": [
       "<div>\n",
       "<style scoped>\n",
       "    .dataframe tbody tr th:only-of-type {\n",
       "        vertical-align: middle;\n",
       "    }\n",
       "\n",
       "    .dataframe tbody tr th {\n",
       "        vertical-align: top;\n",
       "    }\n",
       "\n",
       "    .dataframe thead th {\n",
       "        text-align: right;\n",
       "    }\n",
       "</style>\n",
       "<table border=\"1\" class=\"dataframe\">\n",
       "  <thead>\n",
       "    <tr style=\"text-align: right;\">\n",
       "      <th></th>\n",
       "      <th>auto</th>\n",
       "      <th>manual</th>\n",
       "    </tr>\n",
       "  </thead>\n",
       "  <tbody>\n",
       "    <tr>\n",
       "      <th>0</th>\n",
       "      <td>203.554499</td>\n",
       "      <td>203.554499</td>\n",
       "    </tr>\n",
       "    <tr>\n",
       "      <th>1</th>\n",
       "      <td>219.204579</td>\n",
       "      <td>219.204579</td>\n",
       "    </tr>\n",
       "    <tr>\n",
       "      <th>2</th>\n",
       "      <td>183.991899</td>\n",
       "      <td>183.991899</td>\n",
       "    </tr>\n",
       "    <tr>\n",
       "      <th>3</th>\n",
       "      <td>262.242299</td>\n",
       "      <td>262.242299</td>\n",
       "    </tr>\n",
       "    <tr>\n",
       "      <th>4</th>\n",
       "      <td>262.242299</td>\n",
       "      <td>262.242299</td>\n",
       "    </tr>\n",
       "    <tr>\n",
       "      <th>...</th>\n",
       "      <td>...</td>\n",
       "      <td>...</td>\n",
       "    </tr>\n",
       "    <tr>\n",
       "      <th>1062</th>\n",
       "      <td>242.679699</td>\n",
       "      <td>242.679699</td>\n",
       "    </tr>\n",
       "    <tr>\n",
       "      <th>1063</th>\n",
       "      <td>250.504739</td>\n",
       "      <td>250.504739</td>\n",
       "    </tr>\n",
       "    <tr>\n",
       "      <th>1064</th>\n",
       "      <td>242.679699</td>\n",
       "      <td>242.679699</td>\n",
       "    </tr>\n",
       "    <tr>\n",
       "      <th>1065</th>\n",
       "      <td>250.504739</td>\n",
       "      <td>250.504739</td>\n",
       "    </tr>\n",
       "    <tr>\n",
       "      <th>1066</th>\n",
       "      <td>250.504739</td>\n",
       "      <td>250.504739</td>\n",
       "    </tr>\n",
       "  </tbody>\n",
       "</table>\n",
       "<p>1067 rows × 2 columns</p>\n",
       "</div>"
      ],
      "text/plain": [
       "            auto      manual\n",
       "0     203.554499  203.554499\n",
       "1     219.204579  219.204579\n",
       "2     183.991899  183.991899\n",
       "3     262.242299  262.242299\n",
       "4     262.242299  262.242299\n",
       "...          ...         ...\n",
       "1062  242.679699  242.679699\n",
       "1063  250.504739  250.504739\n",
       "1064  242.679699  242.679699\n",
       "1065  250.504739  250.504739\n",
       "1066  250.504739  250.504739\n",
       "\n",
       "[1067 rows x 2 columns]"
      ]
     },
     "execution_count": 27,
     "metadata": {},
     "output_type": "execute_result"
    }
   ],
   "source": [
    "pd.DataFrame({'auto':prediction,\n",
    "             'manual':predictions1.ENGINESIZE.to_list()})"
   ]
  },
  {
   "cell_type": "code",
   "execution_count": null,
   "id": "7f256925-f2df-4e2b-b282-c4b731f78285",
   "metadata": {},
   "outputs": [],
   "source": []
  },
  {
   "cell_type": "markdown",
   "id": "7e6c5329-2489-48dd-bea4-dd12910da06d",
   "metadata": {},
   "source": [
    "### 6. Evaluation"
   ]
  },
  {
   "cell_type": "code",
   "execution_count": 49,
   "id": "c75aba01-d99e-4d69-9fc3-d986836facd5",
   "metadata": {},
   "outputs": [
    {
     "name": "stderr",
     "output_type": "stream",
     "text": [
      "'[]' is not recognized as an internal or external command,\n",
      "operable program or batch file.\n"
     ]
    }
   ],
   "source": [
    "![](data:image/png;base64,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)"
   ]
  },
  {
   "cell_type": "code",
   "execution_count": 39,
   "id": "699f61fa-b842-408e-b45d-18e9fc03c548",
   "metadata": {},
   "outputs": [],
   "source": [
    "#chia tập dữ liệu thành train-test\n",
    "#(dùng hàm train-test split trong thư viện sckit-learn)\n",
    "from sklearn.model_selection import train_test_split"
   ]
  },
  {
   "cell_type": "code",
   "execution_count": 60,
   "id": "d39c2196-8d83-4ed0-b041-0f330d266c6e",
   "metadata": {},
   "outputs": [],
   "source": [
    "X_train,X_test,y_train,y_test = train_test_split(df[['ENGINESIZE']], df.CO2EMISSIONS, test_size=0.2,random_state=42)\n",
    "#nếu k nhập chia thành bn thì mặc định sẽ là 0.25 và 0.75\n",
    "#random_state có tác dụng là kết quả trả ra sẽ cùng một đầu ra trong lần đầu tiên bạn thực hiện phân tách"
   ]
  },
  {
   "cell_type": "code",
   "execution_count": 41,
   "id": "a02a9309-dc53-4bba-8403-dc79812f5a18",
   "metadata": {},
   "outputs": [
    {
     "data": {
      "text/plain": [
       "((853, 1), (853,))"
      ]
     },
     "execution_count": 41,
     "metadata": {},
     "output_type": "execute_result"
    }
   ],
   "source": [
    "#kiểm tra shape bằng nhau chưa\n",
    "X_train.shape, y_train.shape"
   ]
  },
  {
   "cell_type": "code",
   "execution_count": 42,
   "id": "c4c5bbe5-eb52-45bc-81f6-7036e8e587d6",
   "metadata": {},
   "outputs": [
    {
     "data": {
      "text/plain": [
       "((214, 1), (214,))"
      ]
     },
     "execution_count": 42,
     "metadata": {},
     "output_type": "execute_result"
    }
   ],
   "source": [
    "X_test.shape,y_test.shape"
   ]
  },
  {
   "cell_type": "markdown",
   "id": "344d8d8d-67b3-4f9c-88dd-967e42d7b05d",
   "metadata": {},
   "source": [
    "### Linear Regression"
   ]
  },
  {
   "cell_type": "code",
   "execution_count": 61,
   "id": "971574e2-215c-42b7-81e7-3b673af2c2b7",
   "metadata": {},
   "outputs": [
    {
     "data": {
      "text/plain": [
       "LinearRegression()"
      ]
     },
     "execution_count": 61,
     "metadata": {},
     "output_type": "execute_result"
    }
   ],
   "source": [
    "model = LinearRegression()\n",
    "model.fit(X_train, y_train)"
   ]
  },
  {
   "cell_type": "code",
   "execution_count": 62,
   "id": "b86a4f49-9d47-4cd7-b7a8-554f781eb7f8",
   "metadata": {},
   "outputs": [],
   "source": [
    "prediction2 = model.predict(X_test)"
   ]
  },
  {
   "cell_type": "code",
   "execution_count": 63,
   "id": "3a1e1059-86fd-4df4-a342-290e807f654b",
   "metadata": {},
   "outputs": [
    {
     "data": {
      "text/html": [
       "<div>\n",
       "<style scoped>\n",
       "    .dataframe tbody tr th:only-of-type {\n",
       "        vertical-align: middle;\n",
       "    }\n",
       "\n",
       "    .dataframe tbody tr th {\n",
       "        vertical-align: top;\n",
       "    }\n",
       "\n",
       "    .dataframe thead th {\n",
       "        text-align: right;\n",
       "    }\n",
       "</style>\n",
       "<table border=\"1\" class=\"dataframe\">\n",
       "  <thead>\n",
       "    <tr style=\"text-align: right;\">\n",
       "      <th></th>\n",
       "      <th>prediction</th>\n",
       "      <th>groundtruth</th>\n",
       "    </tr>\n",
       "  </thead>\n",
       "  <tbody>\n",
       "    <tr>\n",
       "      <th>732</th>\n",
       "      <td>309.556702</td>\n",
       "      <td>304</td>\n",
       "    </tr>\n",
       "    <tr>\n",
       "      <th>657</th>\n",
       "      <td>262.765128</td>\n",
       "      <td>221</td>\n",
       "    </tr>\n",
       "    <tr>\n",
       "      <th>168</th>\n",
       "      <td>266.664426</td>\n",
       "      <td>294</td>\n",
       "    </tr>\n",
       "    <tr>\n",
       "      <th>86</th>\n",
       "      <td>243.268638</td>\n",
       "      <td>221</td>\n",
       "    </tr>\n",
       "    <tr>\n",
       "      <th>411</th>\n",
       "      <td>204.275660</td>\n",
       "      <td>207</td>\n",
       "    </tr>\n",
       "    <tr>\n",
       "      <th>...</th>\n",
       "      <td>...</td>\n",
       "      <td>...</td>\n",
       "    </tr>\n",
       "    <tr>\n",
       "      <th>963</th>\n",
       "      <td>204.275660</td>\n",
       "      <td>212</td>\n",
       "    </tr>\n",
       "    <tr>\n",
       "      <th>294</th>\n",
       "      <td>219.872851</td>\n",
       "      <td>230</td>\n",
       "    </tr>\n",
       "    <tr>\n",
       "      <th>275</th>\n",
       "      <td>219.872851</td>\n",
       "      <td>232</td>\n",
       "    </tr>\n",
       "    <tr>\n",
       "      <th>903</th>\n",
       "      <td>243.268638</td>\n",
       "      <td>260</td>\n",
       "    </tr>\n",
       "    <tr>\n",
       "      <th>941</th>\n",
       "      <td>453.830723</td>\n",
       "      <td>389</td>\n",
       "    </tr>\n",
       "  </tbody>\n",
       "</table>\n",
       "<p>214 rows × 2 columns</p>\n",
       "</div>"
      ],
      "text/plain": [
       "     prediction  groundtruth\n",
       "732  309.556702          304\n",
       "657  262.765128          221\n",
       "168  266.664426          294\n",
       "86   243.268638          221\n",
       "411  204.275660          207\n",
       "..          ...          ...\n",
       "963  204.275660          212\n",
       "294  219.872851          230\n",
       "275  219.872851          232\n",
       "903  243.268638          260\n",
       "941  453.830723          389\n",
       "\n",
       "[214 rows x 2 columns]"
      ]
     },
     "execution_count": 63,
     "metadata": {},
     "output_type": "execute_result"
    }
   ],
   "source": [
    "pd.DataFrame({'prediction':prediction2,\n",
    "              'groundtruth':y_test})"
   ]
  },
  {
   "cell_type": "code",
   "execution_count": null,
   "id": "618fa9d4-03e3-4520-acc0-efea9deb3b9b",
   "metadata": {},
   "outputs": [],
   "source": []
  },
  {
   "cell_type": "markdown",
   "id": "4f76b08a-5a5f-408d-bd2b-4174d99f7f4b",
   "metadata": {},
   "source": [
    "## MSE, MAE, R2-score"
   ]
  },
  {
   "cell_type": "code",
   "execution_count": 64,
   "id": "f7f308bc-589a-4c4c-96ce-db77187f7cba",
   "metadata": {},
   "outputs": [],
   "source": [
    "from sklearn.metrics import mean_absolute_error, mean_squared_error, r2_score"
   ]
  },
  {
   "cell_type": "code",
   "execution_count": 65,
   "id": "b349ff80-c4d7-4f93-90be-fb7844aafd6b",
   "metadata": {},
   "outputs": [
    {
     "data": {
      "text/plain": [
       "24.09725741170784"
      ]
     },
     "execution_count": 65,
     "metadata": {},
     "output_type": "execute_result"
    }
   ],
   "source": [
    "mean_absolute_error(y_test, prediction2)"
   ]
  },
  {
   "cell_type": "code",
   "execution_count": 66,
   "id": "0764aceb-ea90-486f-93fe-c758a994b327",
   "metadata": {},
   "outputs": [
    {
     "data": {
      "text/plain": [
       "985.9381692274999"
      ]
     },
     "execution_count": 66,
     "metadata": {},
     "output_type": "execute_result"
    }
   ],
   "source": [
    "mean_squared_error(y_test, prediction2)"
   ]
  },
  {
   "cell_type": "code",
   "execution_count": 67,
   "id": "66767b55-cc8f-4fbb-b789-c48e381b5acc",
   "metadata": {},
   "outputs": [
    {
     "data": {
      "text/plain": [
       "0.7615595731934373"
      ]
     },
     "execution_count": 67,
     "metadata": {},
     "output_type": "execute_result"
    }
   ],
   "source": [
    "r2_score(y_test, prediction2)"
   ]
  },
  {
   "cell_type": "code",
   "execution_count": 68,
   "id": "314becb3-9e6c-4535-be08-7afe4d52e8b8",
   "metadata": {},
   "outputs": [
    {
     "data": {
      "image/png": "[encoded data removed]",
      "text/plain": [
       "<Figure size 432x288 with 1 Axes>"
      ]
     },
     "metadata": {
      "needs_background": "light"
     },
     "output_type": "display_data"
    }
   ],
   "source": [
    "#trực quan giá trị thực tế và giá trị dự báo\n",
    "plt.scatter(X_test.ENGINESIZE, y_test, label='Groundtruth')\n",
    "plt.scatter(X_test.ENGINESIZE, prediction2, label='Prediction')\n",
    "plt.legend()#legend có tác dụng phân biệt đc đâu và gtri thực tế, đâu là gtri dự báo, muốn dùng legend thì phải thêm label\n",
    "plt.show()"
   ]
  },
  {
   "cell_type": "code",
   "execution_count": null,
   "id": "0d2b63ae-df10-407e-9a64-5108683e8b93",
   "metadata": {},
   "outputs": [],
   "source": []
  },
  {
   "cell_type": "code",
   "execution_count": null,
   "id": "cf211b00-e2be-473b-853c-a02b8aef138a",
   "metadata": {},
   "outputs": [],
   "source": []
  }
 ],
 "metadata": {
  "kernelspec": {
   "display_name": "Python 3 (ipykernel)",
   "language": "python",
   "name": "python3"
  },
  "language_info": {
   "codemirror_mode": {
    "name": "ipython",
    "version": 3
   },
   "file_extension": ".py",
   "mimetype": "text/x-python",
   "name": "python",
   "nbconvert_exporter": "python",
   "pygments_lexer": "ipython3",
   "version": "3.9.5"
  }
 },
 "nbformat": 4,
 "nbformat_minor": 5
}
