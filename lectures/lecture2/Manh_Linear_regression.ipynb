{
 "cells": [
  {
   "cell_type": "markdown",
   "id": "38e08554-5e59-44fa-9829-11dd3ab54ca2",
   "metadata": {},
   "source": [
    "# <center>Simple Linear Regression</center>\n",
    "\n",
    "\n",
    "## About this Notebook\n",
    "In this notebook, we learn how to use `scikit-learn` to implement simple linear regression using dataset that is related to Fuel consumption and Carbon dioxide emission of cars. Then, we split our data into training and test sets, create a model using training set, evaluate your model using test set, and finally use model to predict unknown value.\n",
    "\n",
    "**`FuelConsumptionCo2.csv`** contains model-specific fuel consumption ratings and estimated carbon dioxide emissions for new light-duty vehicles for retail sale in Canada. [Dataset source](https://open.canada.ca/data/en/dataset/98f1a129-f628-4ce4-b24d-6f16bf24dd64)\n",
    "\n",
    "- **MODELYEAR** e.g. 2014\n",
    "- **MAKE** e.g. Acura\n",
    "- **MODEL** e.g. ILX\n",
    "- **VEHICLE CLASS** e.g. SUV\n",
    "- **ENGINE SIZE** e.g. 4.7\n",
    "- **CYLINDERS** e.g 6\n",
    "- **TRANSMISSION** e.g. A6\n",
    "- **FUEL CONSUMPTION in CITY(L/100 km)** e.g. 9.9\n",
    "- **FUEL CONSUMPTION in HWY (L/100 km)** e.g. 8.9\n",
    "- **FUEL CONSUMPTION COMB (L/100 km)** e.g. 9.2\n",
    "- **CO2 EMISSIONS (g/km)** e.g. 182   --> low --> 0\n",
    "\n",
    "\n",
    "- Supervised Learning:\n",
    "    - Classification\n",
    "    - **Regression**\n",
    "    \n",
    "## Practice"
   ]
  },
  {
   "cell_type": "markdown",
   "id": "e9b24341-79b0-488b-a268-8bbe38310def",
   "metadata": {},
   "source": [
    "### 1. Import libraries and load dataset"
   ]
  },
  {
   "cell_type": "code",
   "execution_count": 1,
   "id": "91355391-41f0-4738-b77f-9071df2753ee",
   "metadata": {},
   "outputs": [
    {
     "name": "stdout",
     "output_type": "stream",
     "text": [
      "Requirement already satisfied: matplotlib in c:\\users\\ducma\\anaconda3\\envs\\python_2\\lib\\site-packages (3.5.1)\n",
      "Requirement already satisfied: pillow>=6.2.0 in c:\\users\\ducma\\anaconda3\\envs\\python_2\\lib\\site-packages (from matplotlib) (8.4.0)\n",
      "Requirement already satisfied: pyparsing>=2.2.1 in c:\\users\\ducma\\anaconda3\\envs\\python_2\\lib\\site-packages (from matplotlib) (3.0.6)\n",
      "Requirement already satisfied: kiwisolver>=1.0.1 in c:\\users\\ducma\\anaconda3\\envs\\python_2\\lib\\site-packages (from matplotlib) (1.3.2)\n",
      "Requirement already satisfied: packaging>=20.0 in c:\\users\\ducma\\anaconda3\\envs\\python_2\\lib\\site-packages (from matplotlib) (21.3)\n",
      "Requirement already satisfied: cycler>=0.10 in c:\\users\\ducma\\anaconda3\\envs\\python_2\\lib\\site-packages (from matplotlib) (0.11.0)\n",
      "Requirement already satisfied: numpy>=1.17 in c:\\users\\ducma\\anaconda3\\envs\\python_2\\lib\\site-packages (from matplotlib) (1.21.5)\n",
      "Requirement already satisfied: python-dateutil>=2.7 in c:\\users\\ducma\\anaconda3\\envs\\python_2\\lib\\site-packages (from matplotlib) (2.8.2)\n",
      "Requirement already satisfied: fonttools>=4.22.0 in c:\\users\\ducma\\anaconda3\\envs\\python_2\\lib\\site-packages (from matplotlib) (4.28.5)\n",
      "Requirement already satisfied: six>=1.5 in c:\\users\\ducma\\anaconda3\\envs\\python_2\\lib\\site-packages (from python-dateutil>=2.7->matplotlib) (1.16.0)\n",
      "Requirement already satisfied: seaborn in c:\\users\\ducma\\anaconda3\\envs\\python_2\\lib\\site-packages (0.11.2)\n",
      "Requirement already satisfied: matplotlib>=2.2 in c:\\users\\ducma\\anaconda3\\envs\\python_2\\lib\\site-packages (from seaborn) (3.5.1)\n",
      "Requirement already satisfied: pandas>=0.23 in c:\\users\\ducma\\anaconda3\\envs\\python_2\\lib\\site-packages (from seaborn) (1.3.5)\n",
      "Requirement already satisfied: numpy>=1.15 in c:\\users\\ducma\\anaconda3\\envs\\python_2\\lib\\site-packages (from seaborn) (1.21.5)\n",
      "Requirement already satisfied: scipy>=1.0 in c:\\users\\ducma\\anaconda3\\envs\\python_2\\lib\\site-packages (from seaborn) (1.7.3)\n",
      "Requirement already satisfied: kiwisolver>=1.0.1 in c:\\users\\ducma\\anaconda3\\envs\\python_2\\lib\\site-packages (from matplotlib>=2.2->seaborn) (1.3.2)\n",
      "Requirement already satisfied: cycler>=0.10 in c:\\users\\ducma\\anaconda3\\envs\\python_2\\lib\\site-packages (from matplotlib>=2.2->seaborn) (0.11.0)\n",
      "Requirement already satisfied: pyparsing>=2.2.1 in c:\\users\\ducma\\anaconda3\\envs\\python_2\\lib\\site-packages (from matplotlib>=2.2->seaborn) (3.0.6)\n",
      "Requirement already satisfied: fonttools>=4.22.0 in c:\\users\\ducma\\anaconda3\\envs\\python_2\\lib\\site-packages (from matplotlib>=2.2->seaborn) (4.28.5)\n",
      "Requirement already satisfied: python-dateutil>=2.7 in c:\\users\\ducma\\anaconda3\\envs\\python_2\\lib\\site-packages (from matplotlib>=2.2->seaborn) (2.8.2)\n",
      "Requirement already satisfied: pillow>=6.2.0 in c:\\users\\ducma\\anaconda3\\envs\\python_2\\lib\\site-packages (from matplotlib>=2.2->seaborn) (8.4.0)\n",
      "Requirement already satisfied: packaging>=20.0 in c:\\users\\ducma\\anaconda3\\envs\\python_2\\lib\\site-packages (from matplotlib>=2.2->seaborn) (21.3)\n",
      "Requirement already satisfied: pytz>=2017.3 in c:\\users\\ducma\\anaconda3\\envs\\python_2\\lib\\site-packages (from pandas>=0.23->seaborn) (2021.3)\n",
      "Requirement already satisfied: six>=1.5 in c:\\users\\ducma\\anaconda3\\envs\\python_2\\lib\\site-packages (from python-dateutil>=2.7->matplotlib>=2.2->seaborn) (1.16.0)\n"
     ]
    }
   ],
   "source": [
    "!pip install matplotlib\n",
    "!pip install seaborn"
   ]
  },
  {
   "cell_type": "code",
   "execution_count": 2,
   "id": "f58894ce-b2ea-4b87-adb9-ca29f7753174",
   "metadata": {},
   "outputs": [],
   "source": [
    "# Load Datadset\n",
    "import pandas as pd\n",
    "import numpy as np\n",
    "\n",
    "# Libs to visualize\n",
    "\n",
    "import seaborn as sns\n",
    "import matplotlib.pyplot as plt\n",
    "\n",
    "# Libs to train  models"
   ]
  },
  {
   "cell_type": "markdown",
   "id": "07191f7c-1a2e-40f8-aa61-6a250c78ff1f",
   "metadata": {},
   "source": [
    "### 2. Sanity check"
   ]
  },
  {
   "cell_type": "code",
   "execution_count": 3,
   "id": "fe4e4b3d-01e5-4ac5-b490-a625ff3c3b12",
   "metadata": {},
   "outputs": [],
   "source": [
    "df = pd.read_csv('FuelConsumptionCo2.csv')\n"
   ]
  },
  {
   "cell_type": "code",
   "execution_count": 4,
   "id": "2d6fe576-c2b6-42f6-9d91-1b2d4c73eec9",
   "metadata": {},
   "outputs": [
    {
     "data": {
      "text/html": [
       "<div>\n",
       "<style scoped>\n",
       "    .dataframe tbody tr th:only-of-type {\n",
       "        vertical-align: middle;\n",
       "    }\n",
       "\n",
       "    .dataframe tbody tr th {\n",
       "        vertical-align: top;\n",
       "    }\n",
       "\n",
       "    .dataframe thead th {\n",
       "        text-align: right;\n",
       "    }\n",
       "</style>\n",
       "<table border=\"1\" class=\"dataframe\">\n",
       "  <thead>\n",
       "    <tr style=\"text-align: right;\">\n",
       "      <th></th>\n",
       "      <th>MODELYEAR</th>\n",
       "      <th>MAKE</th>\n",
       "      <th>MODEL</th>\n",
       "      <th>VEHICLECLASS</th>\n",
       "      <th>ENGINESIZE</th>\n",
       "      <th>CYLINDERS</th>\n",
       "      <th>TRANSMISSION</th>\n",
       "      <th>FUELTYPE</th>\n",
       "      <th>FUELCONSUMPTION_CITY</th>\n",
       "      <th>FUELCONSUMPTION_HWY</th>\n",
       "      <th>FUELCONSUMPTION_COMB</th>\n",
       "      <th>FUELCONSUMPTION_COMB_MPG</th>\n",
       "      <th>CO2EMISSIONS</th>\n",
       "    </tr>\n",
       "  </thead>\n",
       "  <tbody>\n",
       "    <tr>\n",
       "      <th>0</th>\n",
       "      <td>2014</td>\n",
       "      <td>ACURA</td>\n",
       "      <td>ILX</td>\n",
       "      <td>COMPACT</td>\n",
       "      <td>2.0</td>\n",
       "      <td>4</td>\n",
       "      <td>AS5</td>\n",
       "      <td>Z</td>\n",
       "      <td>9.9</td>\n",
       "      <td>6.7</td>\n",
       "      <td>8.5</td>\n",
       "      <td>33</td>\n",
       "      <td>196</td>\n",
       "    </tr>\n",
       "    <tr>\n",
       "      <th>1</th>\n",
       "      <td>2014</td>\n",
       "      <td>ACURA</td>\n",
       "      <td>ILX</td>\n",
       "      <td>COMPACT</td>\n",
       "      <td>2.4</td>\n",
       "      <td>4</td>\n",
       "      <td>M6</td>\n",
       "      <td>Z</td>\n",
       "      <td>11.2</td>\n",
       "      <td>7.7</td>\n",
       "      <td>9.6</td>\n",
       "      <td>29</td>\n",
       "      <td>221</td>\n",
       "    </tr>\n",
       "    <tr>\n",
       "      <th>2</th>\n",
       "      <td>2014</td>\n",
       "      <td>ACURA</td>\n",
       "      <td>ILX HYBRID</td>\n",
       "      <td>COMPACT</td>\n",
       "      <td>1.5</td>\n",
       "      <td>4</td>\n",
       "      <td>AV7</td>\n",
       "      <td>Z</td>\n",
       "      <td>6.0</td>\n",
       "      <td>5.8</td>\n",
       "      <td>5.9</td>\n",
       "      <td>48</td>\n",
       "      <td>136</td>\n",
       "    </tr>\n",
       "    <tr>\n",
       "      <th>3</th>\n",
       "      <td>2014</td>\n",
       "      <td>ACURA</td>\n",
       "      <td>MDX 4WD</td>\n",
       "      <td>SUV - SMALL</td>\n",
       "      <td>3.5</td>\n",
       "      <td>6</td>\n",
       "      <td>AS6</td>\n",
       "      <td>Z</td>\n",
       "      <td>12.7</td>\n",
       "      <td>9.1</td>\n",
       "      <td>11.1</td>\n",
       "      <td>25</td>\n",
       "      <td>255</td>\n",
       "    </tr>\n",
       "    <tr>\n",
       "      <th>4</th>\n",
       "      <td>2014</td>\n",
       "      <td>ACURA</td>\n",
       "      <td>RDX AWD</td>\n",
       "      <td>SUV - SMALL</td>\n",
       "      <td>3.5</td>\n",
       "      <td>6</td>\n",
       "      <td>AS6</td>\n",
       "      <td>Z</td>\n",
       "      <td>12.1</td>\n",
       "      <td>8.7</td>\n",
       "      <td>10.6</td>\n",
       "      <td>27</td>\n",
       "      <td>244</td>\n",
       "    </tr>\n",
       "  </tbody>\n",
       "</table>\n",
       "</div>"
      ],
      "text/plain": [
       "   MODELYEAR   MAKE       MODEL VEHICLECLASS  ENGINESIZE  CYLINDERS  \\\n",
       "0       2014  ACURA         ILX      COMPACT         2.0          4   \n",
       "1       2014  ACURA         ILX      COMPACT         2.4          4   \n",
       "2       2014  ACURA  ILX HYBRID      COMPACT         1.5          4   \n",
       "3       2014  ACURA     MDX 4WD  SUV - SMALL         3.5          6   \n",
       "4       2014  ACURA     RDX AWD  SUV - SMALL         3.5          6   \n",
       "\n",
       "  TRANSMISSION FUELTYPE  FUELCONSUMPTION_CITY  FUELCONSUMPTION_HWY  \\\n",
       "0          AS5        Z                   9.9                  6.7   \n",
       "1           M6        Z                  11.2                  7.7   \n",
       "2          AV7        Z                   6.0                  5.8   \n",
       "3          AS6        Z                  12.7                  9.1   \n",
       "4          AS6        Z                  12.1                  8.7   \n",
       "\n",
       "   FUELCONSUMPTION_COMB  FUELCONSUMPTION_COMB_MPG  CO2EMISSIONS  \n",
       "0                   8.5                        33           196  \n",
       "1                   9.6                        29           221  \n",
       "2                   5.9                        48           136  \n",
       "3                  11.1                        25           255  \n",
       "4                  10.6                        27           244  "
      ]
     },
     "execution_count": 4,
     "metadata": {},
     "output_type": "execute_result"
    }
   ],
   "source": [
    "df.head(5)"
   ]
  },
  {
   "cell_type": "code",
   "execution_count": 5,
   "id": "8d0a3bd1-6e13-4836-b768-de27c9e4a626",
   "metadata": {},
   "outputs": [
    {
     "data": {
      "text/plain": [
       "(1067, 13)"
      ]
     },
     "execution_count": 5,
     "metadata": {},
     "output_type": "execute_result"
    }
   ],
   "source": [
    "df.shape"
   ]
  },
  {
   "cell_type": "code",
   "execution_count": 6,
   "id": "87e1d255-a2b8-4f71-8bd2-9a8b073dd8ae",
   "metadata": {},
   "outputs": [
    {
     "data": {
      "text/plain": [
       "(1067, 13)"
      ]
     },
     "execution_count": 6,
     "metadata": {},
     "output_type": "execute_result"
    }
   ],
   "source": [
    "len(df) , len(df.columns)"
   ]
  },
  {
   "cell_type": "code",
   "execution_count": 7,
   "id": "7d18d8d1-fe23-4bef-84ff-4d86f91bf2fa",
   "metadata": {},
   "outputs": [
    {
     "data": {
      "text/html": [
       "<div>\n",
       "<style scoped>\n",
       "    .dataframe tbody tr th:only-of-type {\n",
       "        vertical-align: middle;\n",
       "    }\n",
       "\n",
       "    .dataframe tbody tr th {\n",
       "        vertical-align: top;\n",
       "    }\n",
       "\n",
       "    .dataframe thead th {\n",
       "        text-align: right;\n",
       "    }\n",
       "</style>\n",
       "<table border=\"1\" class=\"dataframe\">\n",
       "  <thead>\n",
       "    <tr style=\"text-align: right;\">\n",
       "      <th></th>\n",
       "      <th>MODELYEAR</th>\n",
       "      <th>MAKE</th>\n",
       "      <th>MODEL</th>\n",
       "      <th>VEHICLECLASS</th>\n",
       "      <th>ENGINESIZE</th>\n",
       "      <th>CYLINDERS</th>\n",
       "      <th>TRANSMISSION</th>\n",
       "      <th>FUELTYPE</th>\n",
       "      <th>FUELCONSUMPTION_CITY</th>\n",
       "      <th>FUELCONSUMPTION_HWY</th>\n",
       "      <th>FUELCONSUMPTION_COMB</th>\n",
       "      <th>FUELCONSUMPTION_COMB_MPG</th>\n",
       "      <th>CO2EMISSIONS</th>\n",
       "    </tr>\n",
       "  </thead>\n",
       "  <tbody>\n",
       "    <tr>\n",
       "      <th>0</th>\n",
       "      <td>False</td>\n",
       "      <td>False</td>\n",
       "      <td>False</td>\n",
       "      <td>False</td>\n",
       "      <td>False</td>\n",
       "      <td>False</td>\n",
       "      <td>False</td>\n",
       "      <td>False</td>\n",
       "      <td>False</td>\n",
       "      <td>False</td>\n",
       "      <td>False</td>\n",
       "      <td>False</td>\n",
       "      <td>False</td>\n",
       "    </tr>\n",
       "    <tr>\n",
       "      <th>1</th>\n",
       "      <td>False</td>\n",
       "      <td>False</td>\n",
       "      <td>False</td>\n",
       "      <td>False</td>\n",
       "      <td>False</td>\n",
       "      <td>False</td>\n",
       "      <td>False</td>\n",
       "      <td>False</td>\n",
       "      <td>False</td>\n",
       "      <td>False</td>\n",
       "      <td>False</td>\n",
       "      <td>False</td>\n",
       "      <td>False</td>\n",
       "    </tr>\n",
       "    <tr>\n",
       "      <th>2</th>\n",
       "      <td>False</td>\n",
       "      <td>False</td>\n",
       "      <td>False</td>\n",
       "      <td>False</td>\n",
       "      <td>False</td>\n",
       "      <td>False</td>\n",
       "      <td>False</td>\n",
       "      <td>False</td>\n",
       "      <td>False</td>\n",
       "      <td>False</td>\n",
       "      <td>False</td>\n",
       "      <td>False</td>\n",
       "      <td>False</td>\n",
       "    </tr>\n",
       "    <tr>\n",
       "      <th>3</th>\n",
       "      <td>False</td>\n",
       "      <td>False</td>\n",
       "      <td>False</td>\n",
       "      <td>False</td>\n",
       "      <td>False</td>\n",
       "      <td>False</td>\n",
       "      <td>False</td>\n",
       "      <td>False</td>\n",
       "      <td>False</td>\n",
       "      <td>False</td>\n",
       "      <td>False</td>\n",
       "      <td>False</td>\n",
       "      <td>False</td>\n",
       "    </tr>\n",
       "    <tr>\n",
       "      <th>4</th>\n",
       "      <td>False</td>\n",
       "      <td>False</td>\n",
       "      <td>False</td>\n",
       "      <td>False</td>\n",
       "      <td>False</td>\n",
       "      <td>False</td>\n",
       "      <td>False</td>\n",
       "      <td>False</td>\n",
       "      <td>False</td>\n",
       "      <td>False</td>\n",
       "      <td>False</td>\n",
       "      <td>False</td>\n",
       "      <td>False</td>\n",
       "    </tr>\n",
       "    <tr>\n",
       "      <th>...</th>\n",
       "      <td>...</td>\n",
       "      <td>...</td>\n",
       "      <td>...</td>\n",
       "      <td>...</td>\n",
       "      <td>...</td>\n",
       "      <td>...</td>\n",
       "      <td>...</td>\n",
       "      <td>...</td>\n",
       "      <td>...</td>\n",
       "      <td>...</td>\n",
       "      <td>...</td>\n",
       "      <td>...</td>\n",
       "      <td>...</td>\n",
       "    </tr>\n",
       "    <tr>\n",
       "      <th>1062</th>\n",
       "      <td>False</td>\n",
       "      <td>False</td>\n",
       "      <td>False</td>\n",
       "      <td>False</td>\n",
       "      <td>False</td>\n",
       "      <td>False</td>\n",
       "      <td>False</td>\n",
       "      <td>False</td>\n",
       "      <td>False</td>\n",
       "      <td>False</td>\n",
       "      <td>False</td>\n",
       "      <td>False</td>\n",
       "      <td>False</td>\n",
       "    </tr>\n",
       "    <tr>\n",
       "      <th>1063</th>\n",
       "      <td>False</td>\n",
       "      <td>False</td>\n",
       "      <td>False</td>\n",
       "      <td>False</td>\n",
       "      <td>False</td>\n",
       "      <td>False</td>\n",
       "      <td>False</td>\n",
       "      <td>False</td>\n",
       "      <td>False</td>\n",
       "      <td>False</td>\n",
       "      <td>False</td>\n",
       "      <td>False</td>\n",
       "      <td>False</td>\n",
       "    </tr>\n",
       "    <tr>\n",
       "      <th>1064</th>\n",
       "      <td>False</td>\n",
       "      <td>False</td>\n",
       "      <td>False</td>\n",
       "      <td>False</td>\n",
       "      <td>False</td>\n",
       "      <td>False</td>\n",
       "      <td>False</td>\n",
       "      <td>False</td>\n",
       "      <td>False</td>\n",
       "      <td>False</td>\n",
       "      <td>False</td>\n",
       "      <td>False</td>\n",
       "      <td>False</td>\n",
       "    </tr>\n",
       "    <tr>\n",
       "      <th>1065</th>\n",
       "      <td>False</td>\n",
       "      <td>False</td>\n",
       "      <td>False</td>\n",
       "      <td>False</td>\n",
       "      <td>False</td>\n",
       "      <td>False</td>\n",
       "      <td>False</td>\n",
       "      <td>False</td>\n",
       "      <td>False</td>\n",
       "      <td>False</td>\n",
       "      <td>False</td>\n",
       "      <td>False</td>\n",
       "      <td>False</td>\n",
       "    </tr>\n",
       "    <tr>\n",
       "      <th>1066</th>\n",
       "      <td>False</td>\n",
       "      <td>False</td>\n",
       "      <td>False</td>\n",
       "      <td>False</td>\n",
       "      <td>False</td>\n",
       "      <td>False</td>\n",
       "      <td>False</td>\n",
       "      <td>False</td>\n",
       "      <td>False</td>\n",
       "      <td>False</td>\n",
       "      <td>False</td>\n",
       "      <td>False</td>\n",
       "      <td>False</td>\n",
       "    </tr>\n",
       "  </tbody>\n",
       "</table>\n",
       "<p>1067 rows × 13 columns</p>\n",
       "</div>"
      ],
      "text/plain": [
       "      MODELYEAR   MAKE  MODEL  VEHICLECLASS  ENGINESIZE  CYLINDERS  \\\n",
       "0         False  False  False         False       False      False   \n",
       "1         False  False  False         False       False      False   \n",
       "2         False  False  False         False       False      False   \n",
       "3         False  False  False         False       False      False   \n",
       "4         False  False  False         False       False      False   \n",
       "...         ...    ...    ...           ...         ...        ...   \n",
       "1062      False  False  False         False       False      False   \n",
       "1063      False  False  False         False       False      False   \n",
       "1064      False  False  False         False       False      False   \n",
       "1065      False  False  False         False       False      False   \n",
       "1066      False  False  False         False       False      False   \n",
       "\n",
       "      TRANSMISSION  FUELTYPE  FUELCONSUMPTION_CITY  FUELCONSUMPTION_HWY  \\\n",
       "0            False     False                 False                False   \n",
       "1            False     False                 False                False   \n",
       "2            False     False                 False                False   \n",
       "3            False     False                 False                False   \n",
       "4            False     False                 False                False   \n",
       "...            ...       ...                   ...                  ...   \n",
       "1062         False     False                 False                False   \n",
       "1063         False     False                 False                False   \n",
       "1064         False     False                 False                False   \n",
       "1065         False     False                 False                False   \n",
       "1066         False     False                 False                False   \n",
       "\n",
       "      FUELCONSUMPTION_COMB  FUELCONSUMPTION_COMB_MPG  CO2EMISSIONS  \n",
       "0                    False                     False         False  \n",
       "1                    False                     False         False  \n",
       "2                    False                     False         False  \n",
       "3                    False                     False         False  \n",
       "4                    False                     False         False  \n",
       "...                    ...                       ...           ...  \n",
       "1062                 False                     False         False  \n",
       "1063                 False                     False         False  \n",
       "1064                 False                     False         False  \n",
       "1065                 False                     False         False  \n",
       "1066                 False                     False         False  \n",
       "\n",
       "[1067 rows x 13 columns]"
      ]
     },
     "execution_count": 7,
     "metadata": {},
     "output_type": "execute_result"
    }
   ],
   "source": [
    "df.isna() "
   ]
  },
  {
   "cell_type": "code",
   "execution_count": 8,
   "id": "8248b64e-ff25-4aaa-9326-e1ec3b4b3d27",
   "metadata": {},
   "outputs": [
    {
     "data": {
      "text/plain": [
       "MODELYEAR                   0\n",
       "MAKE                        0\n",
       "MODEL                       0\n",
       "VEHICLECLASS                0\n",
       "ENGINESIZE                  0\n",
       "CYLINDERS                   0\n",
       "TRANSMISSION                0\n",
       "FUELTYPE                    0\n",
       "FUELCONSUMPTION_CITY        0\n",
       "FUELCONSUMPTION_HWY         0\n",
       "FUELCONSUMPTION_COMB        0\n",
       "FUELCONSUMPTION_COMB_MPG    0\n",
       "CO2EMISSIONS                0\n",
       "dtype: int64"
      ]
     },
     "execution_count": 8,
     "metadata": {},
     "output_type": "execute_result"
    }
   ],
   "source": [
    "df.isna().sum()"
   ]
  },
  {
   "cell_type": "code",
   "execution_count": 9,
   "id": "a0a082b2-b5c9-4434-a110-1c1fd4b88e96",
   "metadata": {},
   "outputs": [
    {
     "name": "stdout",
     "output_type": "stream",
     "text": [
      "<class 'pandas.core.frame.DataFrame'>\n",
      "RangeIndex: 1067 entries, 0 to 1066\n",
      "Data columns (total 13 columns):\n",
      " #   Column                    Non-Null Count  Dtype  \n",
      "---  ------                    --------------  -----  \n",
      " 0   MODELYEAR                 1067 non-null   int64  \n",
      " 1   MAKE                      1067 non-null   object \n",
      " 2   MODEL                     1067 non-null   object \n",
      " 3   VEHICLECLASS              1067 non-null   object \n",
      " 4   ENGINESIZE                1067 non-null   float64\n",
      " 5   CYLINDERS                 1067 non-null   int64  \n",
      " 6   TRANSMISSION              1067 non-null   object \n",
      " 7   FUELTYPE                  1067 non-null   object \n",
      " 8   FUELCONSUMPTION_CITY      1067 non-null   float64\n",
      " 9   FUELCONSUMPTION_HWY       1067 non-null   float64\n",
      " 10  FUELCONSUMPTION_COMB      1067 non-null   float64\n",
      " 11  FUELCONSUMPTION_COMB_MPG  1067 non-null   int64  \n",
      " 12  CO2EMISSIONS              1067 non-null   int64  \n",
      "dtypes: float64(4), int64(4), object(5)\n",
      "memory usage: 108.5+ KB\n"
     ]
    }
   ],
   "source": [
    "df.info()"
   ]
  },
  {
   "cell_type": "code",
   "execution_count": 10,
   "id": "1868bf5d-1dde-4c27-ba37-a8384c20d792",
   "metadata": {},
   "outputs": [
    {
     "data": {
      "text/plain": [
       "108.4921875"
      ]
     },
     "execution_count": 10,
     "metadata": {},
     "output_type": "execute_result"
    }
   ],
   "source": [
    "df.memory_usage().sum()/1024"
   ]
  },
  {
   "cell_type": "code",
   "execution_count": 11,
   "id": "39b5ae8d-8e21-4e9d-b215-7241ce34e534",
   "metadata": {},
   "outputs": [
    {
     "data": {
      "text/html": [
       "<div>\n",
       "<style scoped>\n",
       "    .dataframe tbody tr th:only-of-type {\n",
       "        vertical-align: middle;\n",
       "    }\n",
       "\n",
       "    .dataframe tbody tr th {\n",
       "        vertical-align: top;\n",
       "    }\n",
       "\n",
       "    .dataframe thead th {\n",
       "        text-align: right;\n",
       "    }\n",
       "</style>\n",
       "<table border=\"1\" class=\"dataframe\">\n",
       "  <thead>\n",
       "    <tr style=\"text-align: right;\">\n",
       "      <th></th>\n",
       "      <th>MODELYEAR</th>\n",
       "      <th>ENGINESIZE</th>\n",
       "      <th>CYLINDERS</th>\n",
       "      <th>FUELCONSUMPTION_CITY</th>\n",
       "      <th>FUELCONSUMPTION_HWY</th>\n",
       "      <th>FUELCONSUMPTION_COMB</th>\n",
       "      <th>FUELCONSUMPTION_COMB_MPG</th>\n",
       "      <th>CO2EMISSIONS</th>\n",
       "    </tr>\n",
       "  </thead>\n",
       "  <tbody>\n",
       "    <tr>\n",
       "      <th>count</th>\n",
       "      <td>1067.0</td>\n",
       "      <td>1067.000000</td>\n",
       "      <td>1067.000000</td>\n",
       "      <td>1067.000000</td>\n",
       "      <td>1067.000000</td>\n",
       "      <td>1067.000000</td>\n",
       "      <td>1067.000000</td>\n",
       "      <td>1067.000000</td>\n",
       "    </tr>\n",
       "    <tr>\n",
       "      <th>mean</th>\n",
       "      <td>2014.0</td>\n",
       "      <td>3.346298</td>\n",
       "      <td>5.794752</td>\n",
       "      <td>13.296532</td>\n",
       "      <td>9.474602</td>\n",
       "      <td>11.580881</td>\n",
       "      <td>26.441425</td>\n",
       "      <td>256.228679</td>\n",
       "    </tr>\n",
       "    <tr>\n",
       "      <th>std</th>\n",
       "      <td>0.0</td>\n",
       "      <td>1.415895</td>\n",
       "      <td>1.797447</td>\n",
       "      <td>4.101253</td>\n",
       "      <td>2.794510</td>\n",
       "      <td>3.485595</td>\n",
       "      <td>7.468702</td>\n",
       "      <td>63.372304</td>\n",
       "    </tr>\n",
       "    <tr>\n",
       "      <th>min</th>\n",
       "      <td>2014.0</td>\n",
       "      <td>1.000000</td>\n",
       "      <td>3.000000</td>\n",
       "      <td>4.600000</td>\n",
       "      <td>4.900000</td>\n",
       "      <td>4.700000</td>\n",
       "      <td>11.000000</td>\n",
       "      <td>108.000000</td>\n",
       "    </tr>\n",
       "    <tr>\n",
       "      <th>25%</th>\n",
       "      <td>2014.0</td>\n",
       "      <td>2.000000</td>\n",
       "      <td>4.000000</td>\n",
       "      <td>10.250000</td>\n",
       "      <td>7.500000</td>\n",
       "      <td>9.000000</td>\n",
       "      <td>21.000000</td>\n",
       "      <td>207.000000</td>\n",
       "    </tr>\n",
       "    <tr>\n",
       "      <th>50%</th>\n",
       "      <td>2014.0</td>\n",
       "      <td>3.400000</td>\n",
       "      <td>6.000000</td>\n",
       "      <td>12.600000</td>\n",
       "      <td>8.800000</td>\n",
       "      <td>10.900000</td>\n",
       "      <td>26.000000</td>\n",
       "      <td>251.000000</td>\n",
       "    </tr>\n",
       "    <tr>\n",
       "      <th>75%</th>\n",
       "      <td>2014.0</td>\n",
       "      <td>4.300000</td>\n",
       "      <td>8.000000</td>\n",
       "      <td>15.550000</td>\n",
       "      <td>10.850000</td>\n",
       "      <td>13.350000</td>\n",
       "      <td>31.000000</td>\n",
       "      <td>294.000000</td>\n",
       "    </tr>\n",
       "    <tr>\n",
       "      <th>max</th>\n",
       "      <td>2014.0</td>\n",
       "      <td>8.400000</td>\n",
       "      <td>12.000000</td>\n",
       "      <td>30.200000</td>\n",
       "      <td>20.500000</td>\n",
       "      <td>25.800000</td>\n",
       "      <td>60.000000</td>\n",
       "      <td>488.000000</td>\n",
       "    </tr>\n",
       "  </tbody>\n",
       "</table>\n",
       "</div>"
      ],
      "text/plain": [
       "       MODELYEAR   ENGINESIZE    CYLINDERS  FUELCONSUMPTION_CITY  \\\n",
       "count     1067.0  1067.000000  1067.000000           1067.000000   \n",
       "mean      2014.0     3.346298     5.794752             13.296532   \n",
       "std          0.0     1.415895     1.797447              4.101253   \n",
       "min       2014.0     1.000000     3.000000              4.600000   \n",
       "25%       2014.0     2.000000     4.000000             10.250000   \n",
       "50%       2014.0     3.400000     6.000000             12.600000   \n",
       "75%       2014.0     4.300000     8.000000             15.550000   \n",
       "max       2014.0     8.400000    12.000000             30.200000   \n",
       "\n",
       "       FUELCONSUMPTION_HWY  FUELCONSUMPTION_COMB  FUELCONSUMPTION_COMB_MPG  \\\n",
       "count          1067.000000           1067.000000               1067.000000   \n",
       "mean              9.474602             11.580881                 26.441425   \n",
       "std               2.794510              3.485595                  7.468702   \n",
       "min               4.900000              4.700000                 11.000000   \n",
       "25%               7.500000              9.000000                 21.000000   \n",
       "50%               8.800000             10.900000                 26.000000   \n",
       "75%              10.850000             13.350000                 31.000000   \n",
       "max              20.500000             25.800000                 60.000000   \n",
       "\n",
       "       CO2EMISSIONS  \n",
       "count   1067.000000  \n",
       "mean     256.228679  \n",
       "std       63.372304  \n",
       "min      108.000000  \n",
       "25%      207.000000  \n",
       "50%      251.000000  \n",
       "75%      294.000000  \n",
       "max      488.000000  "
      ]
     },
     "execution_count": 11,
     "metadata": {},
     "output_type": "execute_result"
    }
   ],
   "source": [
    "df.describe()"
   ]
  },
  {
   "cell_type": "code",
   "execution_count": 12,
   "id": "4b021caa-7802-4d54-9c56-11abfacab4dd",
   "metadata": {},
   "outputs": [
    {
     "data": {
      "text/html": [
       "<div>\n",
       "<style scoped>\n",
       "    .dataframe tbody tr th:only-of-type {\n",
       "        vertical-align: middle;\n",
       "    }\n",
       "\n",
       "    .dataframe tbody tr th {\n",
       "        vertical-align: top;\n",
       "    }\n",
       "\n",
       "    .dataframe thead th {\n",
       "        text-align: right;\n",
       "    }\n",
       "</style>\n",
       "<table border=\"1\" class=\"dataframe\">\n",
       "  <thead>\n",
       "    <tr style=\"text-align: right;\">\n",
       "      <th></th>\n",
       "      <th>MAKE</th>\n",
       "      <th>MODEL</th>\n",
       "      <th>VEHICLECLASS</th>\n",
       "      <th>FUELTYPE</th>\n",
       "      <th>TRANSMISSION</th>\n",
       "    </tr>\n",
       "  </thead>\n",
       "  <tbody>\n",
       "    <tr>\n",
       "      <th>count</th>\n",
       "      <td>1067</td>\n",
       "      <td>1067</td>\n",
       "      <td>1067</td>\n",
       "      <td>1067</td>\n",
       "      <td>1067</td>\n",
       "    </tr>\n",
       "    <tr>\n",
       "      <th>unique</th>\n",
       "      <td>39</td>\n",
       "      <td>663</td>\n",
       "      <td>16</td>\n",
       "      <td>4</td>\n",
       "      <td>22</td>\n",
       "    </tr>\n",
       "    <tr>\n",
       "      <th>top</th>\n",
       "      <td>FORD</td>\n",
       "      <td>F150 FFV</td>\n",
       "      <td>MID-SIZE</td>\n",
       "      <td>X</td>\n",
       "      <td>A6</td>\n",
       "    </tr>\n",
       "    <tr>\n",
       "      <th>freq</th>\n",
       "      <td>90</td>\n",
       "      <td>8</td>\n",
       "      <td>178</td>\n",
       "      <td>514</td>\n",
       "      <td>222</td>\n",
       "    </tr>\n",
       "  </tbody>\n",
       "</table>\n",
       "</div>"
      ],
      "text/plain": [
       "        MAKE     MODEL VEHICLECLASS FUELTYPE TRANSMISSION\n",
       "count   1067      1067         1067     1067         1067\n",
       "unique    39       663           16        4           22\n",
       "top     FORD  F150 FFV     MID-SIZE        X           A6\n",
       "freq      90         8          178      514          222"
      ]
     },
     "execution_count": 12,
     "metadata": {},
     "output_type": "execute_result"
    }
   ],
   "source": [
    "df[['MAKE','MODEL','VEHICLECLASS','FUELTYPE','TRANSMISSION']].describe()"
   ]
  },
  {
   "cell_type": "markdown",
   "id": "4187f97f-1e7b-427e-b1b7-ede36cec9f98",
   "metadata": {},
   "source": [
    "### 3. Eploratory Data Analysis"
   ]
  },
  {
   "cell_type": "code",
   "execution_count": 13,
   "id": "0d23973c-ac33-4839-871c-6712b4f5f025",
   "metadata": {},
   "outputs": [
    {
     "data": {
      "text/plain": [
       "<seaborn.axisgrid.FacetGrid at 0x24957707a08>"
      ]
     },
     "execution_count": 13,
     "metadata": {},
     "output_type": "execute_result"
    },
    {
     "data": {
      "image/png": "[encoded data removed]",
      "text/plain": [
       "<Figure size 456.375x360 with 1 Axes>"
      ]
     },
     "metadata": {
      "needs_background": "light"
     },
     "output_type": "display_data"
    }
   ],
   "source": [
    "sns.displot(data = df[['ENGINESIZE']] )"
   ]
  },
  {
   "cell_type": "code",
   "execution_count": 14,
   "id": "fcf5be6c-8281-4f48-a751-58ed8ab42b83",
   "metadata": {},
   "outputs": [
    {
     "data": {
      "text/plain": [
       "<AxesSubplot:>"
      ]
     },
     "execution_count": 14,
     "metadata": {},
     "output_type": "execute_result"
    },
    {
     "data": {
      "image/png": "[encoded data removed]",
      "text/plain": [
       "<Figure size 432x288 with 1 Axes>"
      ]
     },
     "metadata": {
      "needs_background": "light"
     },
     "output_type": "display_data"
    }
   ],
   "source": [
    "sns.boxplot(data = df[['ENGINESIZE']] )"
   ]
  },
  {
   "cell_type": "code",
   "execution_count": 15,
   "id": "84fe5d32-09f3-4a5e-96dd-64adebe2ebe8",
   "metadata": {},
   "outputs": [
    {
     "data": {
      "text/plain": [
       "<AxesSubplot:>"
      ]
     },
     "execution_count": 15,
     "metadata": {},
     "output_type": "execute_result"
    },
    {
     "data": {
      "image/png": "[encoded data removed]",
      "text/plain": [
       "<Figure size 432x288 with 1 Axes>"
      ]
     },
     "metadata": {
      "needs_background": "light"
     },
     "output_type": "display_data"
    }
   ],
   "source": [
    "sns.violinplot(data = df[['ENGINESIZE']] )"
   ]
  },
  {
   "cell_type": "code",
   "execution_count": 16,
   "id": "9331878f-df01-4b36-9ae9-0ce76a3f01d6",
   "metadata": {},
   "outputs": [
    {
     "data": {
      "image/png": "[encoded data removed]",
      "text/plain": [
       "<Figure size 1440x504 with 1 Axes>"
      ]
     },
     "metadata": {
      "needs_background": "light"
     },
     "output_type": "display_data"
    }
   ],
   "source": [
    "plt.figure(figsize=(20,7))\n",
    "sns.boxplot(data = df.drop(columns = ['MODELYEAR','CO2EMISSIONS']))\n",
    "plt.xticks(rotation=45)\n",
    "plt.show()"
   ]
  },
  {
   "cell_type": "markdown",
   "id": "c3451aec-37fb-4326-9a22-5f0c785ee5be",
   "metadata": {},
   "source": [
    "### 4. Feature selection"
   ]
  },
  {
   "cell_type": "code",
   "execution_count": 17,
   "id": "8cd3b256-390e-4f7d-a05f-85ad37693a44",
   "metadata": {},
   "outputs": [
    {
     "data": {
      "text/html": [
       "<div>\n",
       "<style scoped>\n",
       "    .dataframe tbody tr th:only-of-type {\n",
       "        vertical-align: middle;\n",
       "    }\n",
       "\n",
       "    .dataframe tbody tr th {\n",
       "        vertical-align: top;\n",
       "    }\n",
       "\n",
       "    .dataframe thead th {\n",
       "        text-align: right;\n",
       "    }\n",
       "</style>\n",
       "<table border=\"1\" class=\"dataframe\">\n",
       "  <thead>\n",
       "    <tr style=\"text-align: right;\">\n",
       "      <th></th>\n",
       "      <th>MODELYEAR</th>\n",
       "      <th>ENGINESIZE</th>\n",
       "      <th>CYLINDERS</th>\n",
       "      <th>FUELCONSUMPTION_CITY</th>\n",
       "      <th>FUELCONSUMPTION_HWY</th>\n",
       "      <th>FUELCONSUMPTION_COMB</th>\n",
       "      <th>FUELCONSUMPTION_COMB_MPG</th>\n",
       "      <th>CO2EMISSIONS</th>\n",
       "    </tr>\n",
       "  </thead>\n",
       "  <tbody>\n",
       "    <tr>\n",
       "      <th>MODELYEAR</th>\n",
       "      <td>NaN</td>\n",
       "      <td>NaN</td>\n",
       "      <td>NaN</td>\n",
       "      <td>NaN</td>\n",
       "      <td>NaN</td>\n",
       "      <td>NaN</td>\n",
       "      <td>NaN</td>\n",
       "      <td>NaN</td>\n",
       "    </tr>\n",
       "    <tr>\n",
       "      <th>ENGINESIZE</th>\n",
       "      <td>NaN</td>\n",
       "      <td>1.000000</td>\n",
       "      <td>0.934011</td>\n",
       "      <td>0.832225</td>\n",
       "      <td>0.778746</td>\n",
       "      <td>0.819482</td>\n",
       "      <td>-0.808554</td>\n",
       "      <td>0.874154</td>\n",
       "    </tr>\n",
       "    <tr>\n",
       "      <th>CYLINDERS</th>\n",
       "      <td>NaN</td>\n",
       "      <td>0.934011</td>\n",
       "      <td>1.000000</td>\n",
       "      <td>0.796473</td>\n",
       "      <td>0.724594</td>\n",
       "      <td>0.776788</td>\n",
       "      <td>-0.770430</td>\n",
       "      <td>0.849685</td>\n",
       "    </tr>\n",
       "    <tr>\n",
       "      <th>FUELCONSUMPTION_CITY</th>\n",
       "      <td>NaN</td>\n",
       "      <td>0.832225</td>\n",
       "      <td>0.796473</td>\n",
       "      <td>1.000000</td>\n",
       "      <td>0.965718</td>\n",
       "      <td>0.995542</td>\n",
       "      <td>-0.935613</td>\n",
       "      <td>0.898039</td>\n",
       "    </tr>\n",
       "    <tr>\n",
       "      <th>FUELCONSUMPTION_HWY</th>\n",
       "      <td>NaN</td>\n",
       "      <td>0.778746</td>\n",
       "      <td>0.724594</td>\n",
       "      <td>0.965718</td>\n",
       "      <td>1.000000</td>\n",
       "      <td>0.985804</td>\n",
       "      <td>-0.893809</td>\n",
       "      <td>0.861748</td>\n",
       "    </tr>\n",
       "    <tr>\n",
       "      <th>FUELCONSUMPTION_COMB</th>\n",
       "      <td>NaN</td>\n",
       "      <td>0.819482</td>\n",
       "      <td>0.776788</td>\n",
       "      <td>0.995542</td>\n",
       "      <td>0.985804</td>\n",
       "      <td>1.000000</td>\n",
       "      <td>-0.927965</td>\n",
       "      <td>0.892129</td>\n",
       "    </tr>\n",
       "    <tr>\n",
       "      <th>FUELCONSUMPTION_COMB_MPG</th>\n",
       "      <td>NaN</td>\n",
       "      <td>-0.808554</td>\n",
       "      <td>-0.770430</td>\n",
       "      <td>-0.935613</td>\n",
       "      <td>-0.893809</td>\n",
       "      <td>-0.927965</td>\n",
       "      <td>1.000000</td>\n",
       "      <td>-0.906394</td>\n",
       "    </tr>\n",
       "    <tr>\n",
       "      <th>CO2EMISSIONS</th>\n",
       "      <td>NaN</td>\n",
       "      <td>0.874154</td>\n",
       "      <td>0.849685</td>\n",
       "      <td>0.898039</td>\n",
       "      <td>0.861748</td>\n",
       "      <td>0.892129</td>\n",
       "      <td>-0.906394</td>\n",
       "      <td>1.000000</td>\n",
       "    </tr>\n",
       "  </tbody>\n",
       "</table>\n",
       "</div>"
      ],
      "text/plain": [
       "                          MODELYEAR  ENGINESIZE  CYLINDERS  \\\n",
       "MODELYEAR                       NaN         NaN        NaN   \n",
       "ENGINESIZE                      NaN    1.000000   0.934011   \n",
       "CYLINDERS                       NaN    0.934011   1.000000   \n",
       "FUELCONSUMPTION_CITY            NaN    0.832225   0.796473   \n",
       "FUELCONSUMPTION_HWY             NaN    0.778746   0.724594   \n",
       "FUELCONSUMPTION_COMB            NaN    0.819482   0.776788   \n",
       "FUELCONSUMPTION_COMB_MPG        NaN   -0.808554  -0.770430   \n",
       "CO2EMISSIONS                    NaN    0.874154   0.849685   \n",
       "\n",
       "                          FUELCONSUMPTION_CITY  FUELCONSUMPTION_HWY  \\\n",
       "MODELYEAR                                  NaN                  NaN   \n",
       "ENGINESIZE                            0.832225             0.778746   \n",
       "CYLINDERS                             0.796473             0.724594   \n",
       "FUELCONSUMPTION_CITY                  1.000000             0.965718   \n",
       "FUELCONSUMPTION_HWY                   0.965718             1.000000   \n",
       "FUELCONSUMPTION_COMB                  0.995542             0.985804   \n",
       "FUELCONSUMPTION_COMB_MPG             -0.935613            -0.893809   \n",
       "CO2EMISSIONS                          0.898039             0.861748   \n",
       "\n",
       "                          FUELCONSUMPTION_COMB  FUELCONSUMPTION_COMB_MPG  \\\n",
       "MODELYEAR                                  NaN                       NaN   \n",
       "ENGINESIZE                            0.819482                 -0.808554   \n",
       "CYLINDERS                             0.776788                 -0.770430   \n",
       "FUELCONSUMPTION_CITY                  0.995542                 -0.935613   \n",
       "FUELCONSUMPTION_HWY                   0.985804                 -0.893809   \n",
       "FUELCONSUMPTION_COMB                  1.000000                 -0.927965   \n",
       "FUELCONSUMPTION_COMB_MPG             -0.927965                  1.000000   \n",
       "CO2EMISSIONS                          0.892129                 -0.906394   \n",
       "\n",
       "                          CO2EMISSIONS  \n",
       "MODELYEAR                          NaN  \n",
       "ENGINESIZE                    0.874154  \n",
       "CYLINDERS                     0.849685  \n",
       "FUELCONSUMPTION_CITY          0.898039  \n",
       "FUELCONSUMPTION_HWY           0.861748  \n",
       "FUELCONSUMPTION_COMB          0.892129  \n",
       "FUELCONSUMPTION_COMB_MPG     -0.906394  \n",
       "CO2EMISSIONS                  1.000000  "
      ]
     },
     "execution_count": 17,
     "metadata": {},
     "output_type": "execute_result"
    }
   ],
   "source": [
    "df.corr()"
   ]
  },
  {
   "cell_type": "code",
   "execution_count": 28,
   "id": "34f93345-7a93-48f2-9586-d64506dff6f0",
   "metadata": {},
   "outputs": [
    {
     "data": {
      "image/png": "[encoded data removed]",
      "text/plain": [
       "<Figure size 432x288 with 2 Axes>"
      ]
     },
     "metadata": {
      "needs_background": "light"
     },
     "output_type": "display_data"
    }
   ],
   "source": [
    "sns.heatmap(df.drop(columns ='MODELYEAR').corr(), annot=True, linewidths = 0.01, linecolor = 'black')\n",
    "plt.show()"
   ]
  },
  {
   "cell_type": "code",
   "execution_count": 31,
   "id": "f6c31a44-1c27-4dc7-ab72-f1d4cc9e4518",
   "metadata": {},
   "outputs": [
    {
     "data": {
      "image/png": "[encoded data removed]",
      "text/plain": [
       "<Figure size 1440x432 with 3 Axes>"
      ]
     },
     "metadata": {
      "needs_background": "light"
     },
     "output_type": "display_data"
    }
   ],
   "source": [
    "fig, ax = plt.subplots(1,3, figsize = (20,6))\n",
    "ax[0].scatter(df.ENGINESIZE , df.CO2EMISSIONS)\n",
    "ax[0].set(xlabel='ENGINESIZE', ylabel='CO2EMISSIONS')\n",
    "\n",
    "ax[1].scatter(df.CYLINDERS , df.CO2EMISSIONS)\n",
    "ax[1].set(xlabel='CYLINDERS', ylabel='CO2EMISSIONS')\n",
    "\n",
    "ax[2].scatter(df.FUELCONSUMPTION_CITY , df.CO2EMISSIONS)\n",
    "ax[2].set(xlabel='FUELCONSUMPTION_CITY', ylabel='CO2EMISSIONS')\n",
    "\n",
    "plt.show()"
   ]
  },
  {
   "cell_type": "code",
   "execution_count": null,
   "id": "ead24172-3912-47cd-b535-67deaba57aca",
   "metadata": {},
   "outputs": [],
   "source": []
  },
  {
   "cell_type": "markdown",
   "id": "20d7dcc7-017d-4962-9b92-419e14456645",
   "metadata": {},
   "source": [
    "### 5. Train model"
   ]
  },
  {
   "cell_type": "markdown",
   "id": "bc932991-c9cb-479d-99bf-2f7cda7d7887",
   "metadata": {},
   "source": [
    "### Thói quen mua sắm của 100 khách hàng\n"
   ]
  },
  {
   "cell_type": "markdown",
   "id": "d2da62e7-c4de-4b81-8f59-f6367aae8756",
   "metadata": {},
   "source": [
    "### Tranning dựa trên 80% dữ liệu gốc và thử nghiệm 20%"
   ]
  },
  {
   "cell_type": "code",
   "execution_count": 22,
   "id": "ddfa3f74-19f2-4398-84df-5971857fb075",
   "metadata": {},
   "outputs": [
    {
     "data": {
      "image/png": "[encoded data removed]",
      "text/plain": [
       "<Figure size 432x288 with 1 Axes>"
      ]
     },
     "metadata": {
      "needs_background": "light"
     },
     "output_type": "display_data"
    }
   ],
   "source": [
    "import numpy\n",
    "import matplotlib.pyplot as plt\n",
    "numpy.random.seed(2)\n",
    "\n",
    "x = numpy.random.normal(3, 1, 100)\n",
    "y = numpy.random.normal(150, 40, 100) / x\n",
    "\n",
    "train_x = x[:80]\n",
    "train_y = y[:80]\n",
    "\n",
    "test_x = x[80:]\n",
    "test_y = y[80:]\n",
    "\n",
    "plt.scatter(test_x, test_y)\n",
    "plt.show()\n"
   ]
  },
  {
   "cell_type": "markdown",
   "id": "60ad1f6e-d546-4517-a6bf-7a7e092bd3a5",
   "metadata": {},
   "source": [
    "### Sử dụng plot() của Matplotlib để diễn tả tập dữ liệu"
   ]
  },
  {
   "cell_type": "code",
   "execution_count": 32,
   "id": "ec432918-62e7-401d-ba7c-5308cc23a556",
   "metadata": {},
   "outputs": [],
   "source": [
    "from sklearn.linear_model import LinearRegression"
   ]
  },
  {
   "cell_type": "code",
   "execution_count": 34,
   "id": "5cc6142c-5085-4990-ab75-3640f4be5996",
   "metadata": {},
   "outputs": [
    {
     "data": {
      "text/plain": [
       "LinearRegression()"
      ]
     },
     "execution_count": 34,
     "metadata": {},
     "output_type": "execute_result"
    }
   ],
   "source": [
    "model = LinearRegression()\n",
    "model.fit(df[['ENGINESIZE']], df['CO2EMISSIONS'])"
   ]
  },
  {
   "cell_type": "code",
   "execution_count": 35,
   "id": "ba7828b8-a064-4b2b-85c4-bd07b9a23e98",
   "metadata": {},
   "outputs": [
    {
     "data": {
      "text/plain": [
       "array([39.12519979])"
      ]
     },
     "execution_count": 35,
     "metadata": {},
     "output_type": "execute_result"
    }
   ],
   "source": [
    "model.coef_"
   ]
  },
  {
   "cell_type": "code",
   "execution_count": 36,
   "id": "965b21ec-3365-4efa-91c7-d43c451ce852",
   "metadata": {},
   "outputs": [
    {
     "data": {
      "text/plain": [
       "125.30409949535726"
      ]
     },
     "execution_count": 36,
     "metadata": {},
     "output_type": "execute_result"
    }
   ],
   "source": [
    "model.intercept_"
   ]
  },
  {
   "cell_type": "code",
   "execution_count": 38,
   "id": "0141b28a-410d-48f4-ba0c-b75084f1dd65",
   "metadata": {},
   "outputs": [
    {
     "data": {
      "text/plain": [
       "array([203.55449907, 219.20457898, 183.99189918, ..., 242.67969886,\n",
       "       250.50473881, 250.50473881])"
      ]
     },
     "execution_count": 38,
     "metadata": {},
     "output_type": "execute_result"
    }
   ],
   "source": [
    "predictions = model.predict(df[['ENGINESIZE']])\n",
    "predictions"
   ]
  },
  {
   "cell_type": "code",
   "execution_count": 39,
   "id": "ebd3eafb-4607-49bd-8405-4f6144ccc4b9",
   "metadata": {},
   "outputs": [],
   "source": [
    "# y =ax + b\n",
    "predictions1 =model.coef_[0]*df[['ENGINESIZE']] + model.intercept_\n"
   ]
  },
  {
   "cell_type": "code",
   "execution_count": 41,
   "id": "bd0a40a8-9036-45bd-9d72-bde1d21200b1",
   "metadata": {},
   "outputs": [
    {
     "data": {
      "text/html": [
       "<div>\n",
       "<style scoped>\n",
       "    .dataframe tbody tr th:only-of-type {\n",
       "        vertical-align: middle;\n",
       "    }\n",
       "\n",
       "    .dataframe tbody tr th {\n",
       "        vertical-align: top;\n",
       "    }\n",
       "\n",
       "    .dataframe thead th {\n",
       "        text-align: right;\n",
       "    }\n",
       "</style>\n",
       "<table border=\"1\" class=\"dataframe\">\n",
       "  <thead>\n",
       "    <tr style=\"text-align: right;\">\n",
       "      <th></th>\n",
       "      <th>ENGINESIZE</th>\n",
       "    </tr>\n",
       "  </thead>\n",
       "  <tbody>\n",
       "    <tr>\n",
       "      <th>0</th>\n",
       "      <td>203.554499</td>\n",
       "    </tr>\n",
       "    <tr>\n",
       "      <th>1</th>\n",
       "      <td>219.204579</td>\n",
       "    </tr>\n",
       "    <tr>\n",
       "      <th>2</th>\n",
       "      <td>183.991899</td>\n",
       "    </tr>\n",
       "    <tr>\n",
       "      <th>3</th>\n",
       "      <td>262.242299</td>\n",
       "    </tr>\n",
       "    <tr>\n",
       "      <th>4</th>\n",
       "      <td>262.242299</td>\n",
       "    </tr>\n",
       "    <tr>\n",
       "      <th>...</th>\n",
       "      <td>...</td>\n",
       "    </tr>\n",
       "    <tr>\n",
       "      <th>1062</th>\n",
       "      <td>242.679699</td>\n",
       "    </tr>\n",
       "    <tr>\n",
       "      <th>1063</th>\n",
       "      <td>250.504739</td>\n",
       "    </tr>\n",
       "    <tr>\n",
       "      <th>1064</th>\n",
       "      <td>242.679699</td>\n",
       "    </tr>\n",
       "    <tr>\n",
       "      <th>1065</th>\n",
       "      <td>250.504739</td>\n",
       "    </tr>\n",
       "    <tr>\n",
       "      <th>1066</th>\n",
       "      <td>250.504739</td>\n",
       "    </tr>\n",
       "  </tbody>\n",
       "</table>\n",
       "<p>1067 rows × 1 columns</p>\n",
       "</div>"
      ],
      "text/plain": [
       "      ENGINESIZE\n",
       "0     203.554499\n",
       "1     219.204579\n",
       "2     183.991899\n",
       "3     262.242299\n",
       "4     262.242299\n",
       "...          ...\n",
       "1062  242.679699\n",
       "1063  250.504739\n",
       "1064  242.679699\n",
       "1065  250.504739\n",
       "1066  250.504739\n",
       "\n",
       "[1067 rows x 1 columns]"
      ]
     },
     "execution_count": 41,
     "metadata": {},
     "output_type": "execute_result"
    }
   ],
   "source": [
    "predictions1"
   ]
  },
  {
   "cell_type": "code",
   "execution_count": 42,
   "id": "0bcb2c33-e83c-4fc4-9ffe-b26fe2f32b66",
   "metadata": {},
   "outputs": [
    {
     "data": {
      "text/html": [
       "<div>\n",
       "<style scoped>\n",
       "    .dataframe tbody tr th:only-of-type {\n",
       "        vertical-align: middle;\n",
       "    }\n",
       "\n",
       "    .dataframe tbody tr th {\n",
       "        vertical-align: top;\n",
       "    }\n",
       "\n",
       "    .dataframe thead th {\n",
       "        text-align: right;\n",
       "    }\n",
       "</style>\n",
       "<table border=\"1\" class=\"dataframe\">\n",
       "  <thead>\n",
       "    <tr style=\"text-align: right;\">\n",
       "      <th></th>\n",
       "      <th>auto</th>\n",
       "      <th>manual</th>\n",
       "    </tr>\n",
       "  </thead>\n",
       "  <tbody>\n",
       "    <tr>\n",
       "      <th>0</th>\n",
       "      <td>203.554499</td>\n",
       "      <td>203.554499</td>\n",
       "    </tr>\n",
       "    <tr>\n",
       "      <th>1</th>\n",
       "      <td>219.204579</td>\n",
       "      <td>219.204579</td>\n",
       "    </tr>\n",
       "    <tr>\n",
       "      <th>2</th>\n",
       "      <td>183.991899</td>\n",
       "      <td>183.991899</td>\n",
       "    </tr>\n",
       "    <tr>\n",
       "      <th>3</th>\n",
       "      <td>262.242299</td>\n",
       "      <td>262.242299</td>\n",
       "    </tr>\n",
       "    <tr>\n",
       "      <th>4</th>\n",
       "      <td>262.242299</td>\n",
       "      <td>262.242299</td>\n",
       "    </tr>\n",
       "    <tr>\n",
       "      <th>...</th>\n",
       "      <td>...</td>\n",
       "      <td>...</td>\n",
       "    </tr>\n",
       "    <tr>\n",
       "      <th>1062</th>\n",
       "      <td>242.679699</td>\n",
       "      <td>242.679699</td>\n",
       "    </tr>\n",
       "    <tr>\n",
       "      <th>1063</th>\n",
       "      <td>250.504739</td>\n",
       "      <td>250.504739</td>\n",
       "    </tr>\n",
       "    <tr>\n",
       "      <th>1064</th>\n",
       "      <td>242.679699</td>\n",
       "      <td>242.679699</td>\n",
       "    </tr>\n",
       "    <tr>\n",
       "      <th>1065</th>\n",
       "      <td>250.504739</td>\n",
       "      <td>250.504739</td>\n",
       "    </tr>\n",
       "    <tr>\n",
       "      <th>1066</th>\n",
       "      <td>250.504739</td>\n",
       "      <td>250.504739</td>\n",
       "    </tr>\n",
       "  </tbody>\n",
       "</table>\n",
       "<p>1067 rows × 2 columns</p>\n",
       "</div>"
      ],
      "text/plain": [
       "            auto      manual\n",
       "0     203.554499  203.554499\n",
       "1     219.204579  219.204579\n",
       "2     183.991899  183.991899\n",
       "3     262.242299  262.242299\n",
       "4     262.242299  262.242299\n",
       "...          ...         ...\n",
       "1062  242.679699  242.679699\n",
       "1063  250.504739  250.504739\n",
       "1064  242.679699  242.679699\n",
       "1065  250.504739  250.504739\n",
       "1066  250.504739  250.504739\n",
       "\n",
       "[1067 rows x 2 columns]"
      ]
     },
     "execution_count": 42,
     "metadata": {},
     "output_type": "execute_result"
    }
   ],
   "source": [
    "pd.DataFrame({'auto': predictions,\n",
    "             'manual': predictions1.ENGINESIZE.to_list()})"
   ]
  },
  {
   "cell_type": "code",
   "execution_count": 44,
   "id": "e14c9a6d-0e03-4220-85f6-b99da1169cc3",
   "metadata": {},
   "outputs": [],
   "source": [
    "from sklearn.model_selection import train_test_split\n"
   ]
  },
  {
   "cell_type": "code",
   "execution_count": 45,
   "id": "ae3b802e-7a61-448a-9762-4847148c8fa2",
   "metadata": {},
   "outputs": [],
   "source": [
    "x_train, x_test, y_train, y_test = train_test_split(df[['ENGINESIZE']], df.CO2EMISSIONS, test_size =0.2)"
   ]
  },
  {
   "cell_type": "code",
   "execution_count": 47,
   "id": "10174dd2-19f2-43ce-8a6d-fb2017d4b2ee",
   "metadata": {},
   "outputs": [
    {
     "data": {
      "text/plain": [
       "((853, 1), (853,))"
      ]
     },
     "execution_count": 47,
     "metadata": {},
     "output_type": "execute_result"
    }
   ],
   "source": [
    "x_train.shape ,y_train.shape"
   ]
  },
  {
   "cell_type": "code",
   "execution_count": 48,
   "id": "57d82c5d-59f2-4c08-9c7e-a0b0980d4ded",
   "metadata": {},
   "outputs": [
    {
     "data": {
      "text/plain": [
       "((214, 1), (214, 1))"
      ]
     },
     "execution_count": 48,
     "metadata": {},
     "output_type": "execute_result"
    }
   ],
   "source": [
    "x_test.shape, x_test.shape"
   ]
  },
  {
   "cell_type": "code",
   "execution_count": 49,
   "id": "ef8996ce-700e-4355-9f0f-6cbb4b7cecbb",
   "metadata": {},
   "outputs": [
    {
     "data": {
      "text/plain": [
       "LinearRegression()"
      ]
     },
     "execution_count": 49,
     "metadata": {},
     "output_type": "execute_result"
    }
   ],
   "source": [
    "model = LinearRegression()\n",
    "model.fit(x_train,y_train)"
   ]
  },
  {
   "cell_type": "code",
   "execution_count": 52,
   "id": "2f3db716-1899-4247-999c-27981ebc64fd",
   "metadata": {},
   "outputs": [],
   "source": [
    "predictions2 = model.predict(x_test)\n"
   ]
  },
  {
   "cell_type": "code",
   "execution_count": 53,
   "id": "2043a491-c5af-4e08-9c00-8baec93b10ad",
   "metadata": {},
   "outputs": [
    {
     "data": {
      "text/html": [
       "<div>\n",
       "<style scoped>\n",
       "    .dataframe tbody tr th:only-of-type {\n",
       "        vertical-align: middle;\n",
       "    }\n",
       "\n",
       "    .dataframe tbody tr th {\n",
       "        vertical-align: top;\n",
       "    }\n",
       "\n",
       "    .dataframe thead th {\n",
       "        text-align: right;\n",
       "    }\n",
       "</style>\n",
       "<table border=\"1\" class=\"dataframe\">\n",
       "  <thead>\n",
       "    <tr style=\"text-align: right;\">\n",
       "      <th></th>\n",
       "      <th>prediction</th>\n",
       "      <th>groundtruth</th>\n",
       "    </tr>\n",
       "  </thead>\n",
       "  <tbody>\n",
       "    <tr>\n",
       "      <th>614</th>\n",
       "      <td>219.138926</td>\n",
       "      <td>200</td>\n",
       "    </tr>\n",
       "    <tr>\n",
       "      <th>965</th>\n",
       "      <td>281.740703</td>\n",
       "      <td>297</td>\n",
       "    </tr>\n",
       "    <tr>\n",
       "      <th>45</th>\n",
       "      <td>289.565926</td>\n",
       "      <td>407</td>\n",
       "    </tr>\n",
       "    <tr>\n",
       "      <th>407</th>\n",
       "      <td>203.488481</td>\n",
       "      <td>166</td>\n",
       "    </tr>\n",
       "    <tr>\n",
       "      <th>87</th>\n",
       "      <td>242.614592</td>\n",
       "      <td>230</td>\n",
       "    </tr>\n",
       "    <tr>\n",
       "      <th>...</th>\n",
       "      <td>...</td>\n",
       "      <td>...</td>\n",
       "    </tr>\n",
       "    <tr>\n",
       "      <th>169</th>\n",
       "      <td>242.614592</td>\n",
       "      <td>253</td>\n",
       "    </tr>\n",
       "    <tr>\n",
       "      <th>102</th>\n",
       "      <td>242.614592</td>\n",
       "      <td>246</td>\n",
       "    </tr>\n",
       "    <tr>\n",
       "      <th>119</th>\n",
       "      <td>297.391148</td>\n",
       "      <td>317</td>\n",
       "    </tr>\n",
       "    <tr>\n",
       "      <th>785</th>\n",
       "      <td>187.838037</td>\n",
       "      <td>179</td>\n",
       "    </tr>\n",
       "    <tr>\n",
       "      <th>997</th>\n",
       "      <td>230.876759</td>\n",
       "      <td>235</td>\n",
       "    </tr>\n",
       "  </tbody>\n",
       "</table>\n",
       "<p>214 rows × 2 columns</p>\n",
       "</div>"
      ],
      "text/plain": [
       "     prediction  groundtruth\n",
       "614  219.138926          200\n",
       "965  281.740703          297\n",
       "45   289.565926          407\n",
       "407  203.488481          166\n",
       "87   242.614592          230\n",
       "..          ...          ...\n",
       "169  242.614592          253\n",
       "102  242.614592          246\n",
       "119  297.391148          317\n",
       "785  187.838037          179\n",
       "997  230.876759          235\n",
       "\n",
       "[214 rows x 2 columns]"
      ]
     },
     "execution_count": 53,
     "metadata": {},
     "output_type": "execute_result"
    }
   ],
   "source": [
    "pd.DataFrame({'prediction': predictions2,\n",
    "             'groundtruth': y_test})"
   ]
  },
  {
   "cell_type": "code",
   "execution_count": 23,
   "id": "ebfb0cad-9092-4891-807e-393199130d57",
   "metadata": {},
   "outputs": [
    {
     "data": {
      "image/png": "[encoded data removed]",
      "text/plain": [
       "<Figure size 432x288 with 1 Axes>"
      ]
     },
     "metadata": {
      "needs_background": "light"
     },
     "output_type": "display_data"
    }
   ],
   "source": [
    "import numpy\n",
    "import matplotlib.pyplot as plt\n",
    "numpy.random.seed(2)\n",
    "\n",
    "x = numpy.random.normal(3, 1, 100)\n",
    "y = numpy.random.normal(150, 40, 100) / x\n",
    "\n",
    "train_x = x[:80]\n",
    "train_y = y[:80]\n",
    "\n",
    "test_x = x[80:]\n",
    "test_y = y[80:]\n",
    "\n",
    "Model_1 = numpy.poly1d(numpy.polyfit(train_x, train_y,4))\n",
    "\n",
    "Line_1 = numpy.linspace(0, 6, 100)\n",
    "\n",
    "plt.scatter(train_x, train_y)\n",
    "plt.plot(Line_1, Model_1(Line_1))\n",
    "plt.show()"
   ]
  },
  {
   "cell_type": "markdown",
   "id": "e492020b-e40a-42cc-b781-2161ff89e9ad",
   "metadata": {},
   "source": [
    "### Test Model"
   ]
  },
  {
   "cell_type": "code",
   "execution_count": 24,
   "id": "6f98d12b-f589-4c22-9e97-69e66a0e52b5",
   "metadata": {},
   "outputs": [
    {
     "name": "stdout",
     "output_type": "stream",
     "text": [
      "Requirement already satisfied: sklearn in c:\\users\\ducma\\anaconda3\\envs\\python_2\\lib\\site-packages (0.0)\n",
      "Requirement already satisfied: scikit-learn in c:\\users\\ducma\\anaconda3\\envs\\python_2\\lib\\site-packages (from sklearn) (1.0.2)\n",
      "Requirement already satisfied: numpy>=1.14.6 in c:\\users\\ducma\\anaconda3\\envs\\python_2\\lib\\site-packages (from scikit-learn->sklearn) (1.21.5)\n",
      "Requirement already satisfied: threadpoolctl>=2.0.0 in c:\\users\\ducma\\anaconda3\\envs\\python_2\\lib\\site-packages (from scikit-learn->sklearn) (3.0.0)\n",
      "Requirement already satisfied: joblib>=0.11 in c:\\users\\ducma\\anaconda3\\envs\\python_2\\lib\\site-packages (from scikit-learn->sklearn) (1.1.0)\n",
      "Requirement already satisfied: scipy>=1.1.0 in c:\\users\\ducma\\anaconda3\\envs\\python_2\\lib\\site-packages (from scikit-learn->sklearn) (1.7.3)\n"
     ]
    }
   ],
   "source": [
    "!pip install sklearn"
   ]
  },
  {
   "cell_type": "code",
   "execution_count": 25,
   "id": "71381449-4883-42fe-99e2-c402762c1cac",
   "metadata": {},
   "outputs": [
    {
     "name": "stdout",
     "output_type": "stream",
     "text": [
      "0.8086921460343581\n"
     ]
    }
   ],
   "source": [
    "import numpy\n",
    "from sklearn.metrics import r2_score\n",
    "numpy.random.seed(2)\n",
    "x = numpy.random.normal(3, 1, 100)\n",
    "y = numpy.random.normal(150, 40, 100) / x\n",
    "\n",
    "train_x = x[:80]\n",
    "train_y = y[:80]\n",
    "\n",
    "test_x = x[80:]\n",
    "test_y = y[80:]\n",
    "\n",
    "Model_1 = numpy.poly1d(numpy.polyfit(train_x, train_y, 4))\n",
    "\n",
    "r2 = r2_score(test_y, Model_1(test_x))\n",
    "\n",
    "print(r2)"
   ]
  },
  {
   "cell_type": "markdown",
   "id": "0d2df350-b36f-49cc-a77c-4b04bb921a1e",
   "metadata": {},
   "source": [
    "### Dự đoán giá trị\n",
    "\n",
    "#### Dự đoán khách sẽ bỏ ra bao nhiêu tiền khi ở lại cửa hàng trong 5 phút "
   ]
  },
  {
   "cell_type": "code",
   "execution_count": 26,
   "id": "097decb7-808b-473d-9587-c98ee0d814d1",
   "metadata": {},
   "outputs": [
    {
     "name": "stdout",
     "output_type": "stream",
     "text": [
      "22.87962591811811\n"
     ]
    }
   ],
   "source": [
    "import numpy\n",
    "from sklearn.metrics import r2_score\n",
    "numpy.random.seed(2)\n",
    "\n",
    "x = numpy.random.normal(3, 1, 100)\n",
    "y = numpy.random.normal(150, 40, 100) / x\n",
    "\n",
    "train_x = x[:80]\n",
    "train_y = y[:80]\n",
    "\n",
    "test_x = x[80:]\n",
    "test_y = y[80:]\n",
    "\n",
    "Model_1 = numpy.poly1d(numpy.polyfit(train_x, train_y, 4))\n",
    "\n",
    "print(Model_1(5))\n"
   ]
  },
  {
   "cell_type": "markdown",
   "id": "0e8a26ce-c327-4f5f-b06f-d481e5334a4c",
   "metadata": {
    "tags": []
   },
   "source": [
    "- Khách hàng ở lại 5 phút tiêu 22.8$ "
   ]
  },
  {
   "cell_type": "code",
   "execution_count": 27,
   "id": "dafe1fc9-2c1e-45a1-b2fe-12edd74a3237",
   "metadata": {},
   "outputs": [
    {
     "name": "stdout",
     "output_type": "stream",
     "text": [
      "10668.566758263798\n"
     ]
    }
   ],
   "source": [
    "print(Model_1(10))"
   ]
  },
  {
   "cell_type": "markdown",
   "id": "b15a9700-fcb4-4290-ab3c-2111927fcb5e",
   "metadata": {},
   "source": [
    "<p>\n",
    "   - Ta thử với 10 phút khách hàng ở lại sẽ tiêu bao nhiêu tiền?\n",
    "    </p>\n",
    "    <b>\n",
    "    10668.56 $ là số tiền mô hình dự đoán nếu khách hàng ở lại 10 phút\n",
    "</b>"
   ]
  },
  {
   "cell_type": "markdown",
   "id": "7e6c5329-2489-48dd-bea4-dd12910da06d",
   "metadata": {},
   "source": [
    "### 6. Evaluation"
   ]
  },
  {
   "cell_type": "markdown",
   "id": "f90477f2-3c5b-4b2b-86b6-96bfc61c3086",
   "metadata": {},
   "source": [
    "![](data:image/png;base64,iVBORw0KGgoAAAANSUhEUgAAAPoAAADKCAMAAAC7SK2iAAABp1BMVEX////937vX19dNnNBNs335tGH7+/sAAADz8/Pl5eXPz8//47/g4ODuycrlr7D0+Pi3vLy0UlXRjpDy+vbHOj/T2dYAiz7HXF/y2tqwqanGx8e4s7fu0a8hJy2znYEQk0uIioyQzKvP59mn0rfD4c+IuJdHk2GSj4wpZ46seTopeFB5eXlNjsjb5/Ntb3LJsJKioqLVu5sAAB4uEQAuMzhiW18AIjtePAYAEABVWFz4nj/+9OoeWHuKXyhkZGREo3FEjr7kpFcaPCp4alk1KTAmWT41LCR1dXVFRUVYTkE5hV0iIiI7eKBeRCVAQEAlS2SRgGsnJyf5tHPJkU6ccT3/wWj5q14vbUwgQVcZMkMAYraolHxMQzj/8cpTPCBzUy3TmVL4p1X6vIT2iwCFYDQYOCdTwYfQeHrBHSTKfH6/BxTMr7AWAAAwYoJTqN8zJxamw+F4ptMrfsLA1OkAb7uEdWIAYLYAUJKJtN33ligAABIQGB7/z6H7xpVFMhsuIRIuBwCyeHoAhiQ9oGNxt4uGsZbXegBXJwBRcWMARScPJBkTXzqCoo4nmvbPAAASxUlEQVR4nO2di2PaRp7HhQyMXtmoj91WA6VqmkPBamHY8+2uLjkBZilP2zjYsR3s4K0dZ7d7dm/b+O5y3UvvNuk9svdH34wwNg89kQTYydcYJCwsPvrNzO830ug3FPVO77QQioeqedPZKE7dDlPMAsN//Oyj8PTsjwzDLCr7z35/6+PwdOvDP7DsYrLHP/4m5D18+EdhQdnffz/kHdx69nNhEdHj8fd/FvIubr0HaXYR0W9Pg04jyUIITmx86z2RXsQSf4nO0BQlcDRi3HxK+dUDKwF5fGOMzi00uoakuC6oEpRdfEq5d7ZkruJX6/rYxouODkVKlzRVl6DIIJViVVvrK/csyDE6p62Pbrzo6BJH1VhESyLUWVnkdEq1+5QdOoRVMHLcFh1dhJSO0RFBRxDWkGj3KXt0KANhaONFR2eqrMwqBrqgQDheX8fkgA4R4K42XnR0SpQpBrIcLUgMFARWpu0+5YQOEyBxufHCo3uSIzoUgTLY+G1Dh3Aze7HxtUFn5MtF65bO1rldoHNarb/xNUGP4/au/0qtU/2myszB26D/oz5QFWwavIuOHq9mRYhbeC2uKoxGSRrbpDVK16lmNTH5KWv0pXtXagGWbLzo6KKs07JKwU1GRYxO0TVWozSREzmNqk5+ygZ9SGe/vBboCTFOqTIUdQZbPUsrClt7W9AZTaRkEco/MFWoNoVsjcU/DC7w65RJeHOj0Kk4S9o2FrdzxlM8HmcY/IJXTdq5m4XuSe/Qi8bD+O0/vT3oe0v3WmdLxY1TzL17hvGLrdZbgr5R3CietvBTsfVgo/iguLFbLOKX4unpjUdvtXaXzvaI1fETNnyrRd7Zbd3bKN509OIGtjtBbz1Y2mht7BH0vTN8BB7cePSzT1qnxV1idfy0e9ZHJ8a/+VZfOi0S7lar2DrFpr6HKz+p+Xh19uisnHUt1bhYcFP8egJ0c66V+pZEqPNGZ2nSt6dZH9REDEjyXrQvBYy+4QldQDoAzXUNd+1rmwBoiu3pQHuhNh/xID6/EgT61XWYs72ljTOX6KwMmlXECZfiJHUFVKell1Oe0CPJT4JA/+H0lDTyLdzY77X2WrstF+isBlQoCPSIML4CNjnzPS4k+h52aqd7Swb60oPi7pkzugqUce4BvQRqri54LgT67tJesbi010ffOGttOKEzQKdNwfv0MpjC8POzerG1W9zdw+h7RUd0FpvcEpywi2DyGv1iouPopWV0X4v4GXdknJo5gGzJMTscuWS3wOjWMkWv6g7kmB2Bm4jOACdwwr5ie533mqIjZ6NjIW2B0P/0T8Ggq4oLcprzWuJDRX/83ZdBoGeRG3R6dujff+Gk754/f/zFbf/osr1nuxCcHfrtL5209Pzxd98HYHW55gIdhzV+0Hnnw+CtwA9Xdh/oQHSBDvygJ9sXK8PPPtC/vz285gNdazr7dV33gc7nuu2c0Slvkz588vyqlz4d+qh8oKOqU5EX5KafZo7PpXKperddTu638+Vu7qtUN5fbr+fz5eGSMRd0Vt/k7OCFKvDVwvO5ejmyz5cj5+1kma9Hzg/K7WQ9UsaHYt7otKDYhPGC2NRon+ipg0gdUxPiA7xwcH7O4zVs93kXeNI/WW8isw67IIha/7D4q+t8BDOnUu1UO1eP7EdS53wzhRuA5HzRVSOkERI1UBWFYXy8ApXNQYfWVwuPEfN8MsdHcnwOH4lkNx+p44YvN2erqxfRnMDJK6CmIpEzJCJZAyArDo5FACENTx7kKVnnI2V+1MvNE52YmU7Ieg0YWtFUco7ysgwEGs2Z/MkPutV4ePfoF6X8UiO13j963+L4kUphj14PDF0Gv3Ijk8Fj6oy6L/lcMkXqOZ/vpvgUdnVBoccFaw0blZoBevz5l5PofDPXTLW7OezbznPlXDc4dCFhqcnTqWFb/Z8f/+m2Mo5ePyjz59ibp3K53FftdnDo8q//wUpXI6L9oP+LYy/6Ss9xf/rBBDpPAjjs1DB7/eAgQPTMdsxcpU/Wx4cYmqJz+GES1Ay6db907EVf6fHzx/86UeDLJJJNlrt8vZxLlfPnAaJbkGN0rlZzRhd0iMhpOiHBGatQNo6DsCJMUeC/+HKymeP7P+RBumzj7X846JDTmyMX2MzROQkhQU6sV2lZhCgh4WUkC+ve0ePkDMrszsjaopPbfoavl5uiV7Ua0iRFqIqqWBNrMEuCezlRm8LqVMjoo9eIHdAhAkNXiy2trgk1qEKN1pHCVTVaUDVpEdEffu0FHUrg6iKCZV3XBEFTYZbTEjJX1SGsIjRFgQ8d/eujo4gHdCgCZIdOK5yYkMVqQsxyWSQiTuF0SVVFdebokRd/76AXL14cvbjvHh3C5uD+SEu/LpBrzcLggrNAOjQB9tzcWv2+kx4eHT26f7UnO+c2uO2npjmg22iRCvzDF/zwnqzR/+1qeBpYcUZHomHwRUbnR9as0WOZK3Wce26CgnCPR1to9LE9WaMPaftvndC52noCaWJTkXR0DdFLW7FYZ6vT65Qm2B3RlYQi0VmEfboyevH5eqA/Ka1tP9leK21NlgQTdF0aLu6yiCSNOHgtcQ3RS8fba51vt15mtrZKa2uHpV7GPTot6hrSVKSLNXQN0Ttb22uxXuy4tHVcwqbvxZ54QKdFyEH8K3Ii9FXXla439OkHio5ZHaP3CDp+Wst0bNHdDS3wPKqCBREvo4MP6iiQut7pxdYIeg+jH28Nt3Ym6LLsZmiBWLPbu5kQSOVdK7dP/n8ALTxe7sQOY4eH5CmWObRF51bcDC1QJ85yOYquaiZa/8HsXd24QzlMv26GTrkZWkCDacbJDun+ny8WoE2ilZmjc84D5wTNu9GvdP/PuL/x4mIlfPS1QeGPHTuhU0rTiby6br1nF3p09OJocHYhNPQSVqx0WMItPF7Alf3H0mGMPDo26JQCoG19H89m5Fkvjo4GXY7Q0Hu9w+NM5/BJrJfpHJcOe4cvS3i5V3qZ6dmgUyKQzYfDE5MnJvN3edSjhw+PBsthoXdw9NY7jm29LBnombXOGo7sMp0Mjmzt0ClGB4rZkHhBkFaaPu6AMfToEUX9+2AlNPTMduz4uJM5JuhbnePOBXpnLWaPjkOQKtAQPXyFDi+LKqh5Hwo/pkcPh9dCK/Brx7EMjtyf4Fjm5cvSWq9znMHBDYlw1hzQsUQdNHUZ4TAWx7KSUl0HNXfJ7mw1Sr5Yzm1YrKhktU0AmjVdlvwWdEMPR8kXFz1wjZOHio7j1qH+SiwzV/QJ8jDRD3EI08tc9lj6LfvxnNAfTZCHhn6Ie2qYtdfpZEq4ncchTu/H2PHWIehs2fr1kDRp8/DQn2yvHeKF3tYh8euZznYv9nIb996fbG9vdWaObkYeIvqTTh/9+PhwbasUWyNnLYhT7x3PHN2ktFPhoWPOC3Tszte28VLpRxLPvCRnLGaMbk4eGnrpmPRVYp3DEu6vdEjjtpUhj8xhpt/yzQ7dgvwt8OtW5Dcf3ZL8xqNbk990dBvyG45uR36z0W3JbzS6PflNRncgv8HoTuQ3F92R/MaiO5PfVHQX5KGgW42HH5bZMKLg5IY8DPT/+LUbhZkz2hV5COgM53DJ8ELGxqGguyMPAd2TwkB3Se6AfuujYL6NpZ79Z+ATHbklt0dnmI/+EMjXsdL7vxdhwOiuyW3RMbvw7JsPw9M370kiF+ykZu7JndBZgUskrGbq8i1RhFywRvdAbo9usNODQewhiKODncTPC7kTOmZn3Qxmm1ICmboxOHRP5A7ohF34eWgi5AEa/XeeyB2t/vovn4anvxSEANl/97XzNsOyb+bir177+jZO+vwXQmAl3iu5A/rdV36+jAu9/imoFt4zuQP633zu48u40d10QH7dO7l9NDcL9GCiuSnI54+eMEdnoKKv9DOUbOqy6JAyewpygUY6bZmVNs7MAt2k5ybITaDJCBrdXw5Ksg6AapM8dyqbk6NqMllRX3NCh5tAhpPZiJpXd8KOaRpyitIwumVNmws6/cOmZJ6DCmrANI/qdOQUC4Bk+cd5oMsOmccm/8WU5BSlrFj/bTp0BCy1OTHYcxxdW7HJlo3hsxP3QLghh9qKmX4we7OGpkeXl6MWKoCJhM9j6LpzlsGx+53ckMs/5pKulS+vTI2uWKP/VhpPcj6KngBuckt6JReAizSil+IPykoY6FxirGkZRXd3289QyXFVz73e4pdcCQOdJGuQLdGhq5u95KsgzF0LN9WNnSGgQ7gyXGJH0N3d4neVPdhl27446HD41p0RdN1bwga3Xm2B0LkhDzWC7i5XxeCeVtf+fIHQhzMSjRb4rKv88MAb+WKhX01EPorualaAGvBGvijoYl+XGYnG0N3MBdEE3sgXA30opn3TL/Oj6KjplCFegIC08J7i9kVAH9bJb8zQaWDv3wQRJATgscdyPdAFelOzn+1HFGjwyFtfbT7ojUqFvOykKy6tTuhkc3hBQKBGztv8l8de6nzQV08qhXQDo6ej+CXasEc3/LrA6UbK6HFuTgErCePd//b4heaDXjnZKbxp7CynnxZWK4VKescZ3UgZ3QQ6gpf5g2lOUjevkkb7nAuCv1wawp3IGR0I+mq0spxeLSw3Gm92Km7QjZNRit4EYLOm69o6XtDkoXLgB53vlvMX00DkckNvnweO/vRkNXqBvtNorJ64KPBXRVzgYAIhSYT0aN5hX+gkhyw/yBdtGJtPYvuXA0dPr+6cVKI7jUKl0GikG5W0e3Rr+UTv5tvlfL18nst1z7v4SOTOu/kyCBzdWnNEz+2n2vWDOskcXE/l2vVcvcwHb/UFRD84T+Iiv99H34/s5+uRSD0k9KvVwszR468/GEfvlrGtk/vd81yq3W0fgEi3nU+dT1vgP7trhz5o3HBrP3urv4p+PurckkncuOX5/aQxHQKZDYHHbw1NguER/RU5uGPoO7hlS6exO6s00ssFvPabxk6UrFYaPtGXP3Mvsqv/MZkLonzh4drJyTkRhtDjTv//dTT66rPbo+jpHRy97hSiq4VKo7FTOKmkV09W08vEw626RFc42vRY/O8d98J7+kw1ieb4qzIQSVqjU07/H6NH745ZvYGNW8EBXKWPvrpD0ImDc40u6JBOXKST9VHg75hkCjdCOt6YAQcvlpPW6M4FfnizPnoBB247O41lYvWdVVwAGqukBJDg7qlrdEFTkCrq2tTTYMTJF5vID59r59tJ7N/51Hku2Y6YpsZ3iX73g+G1i7qeXo4WCtFGI5qOLjfwawFXfdyHOWlEXdZ1Ax2qWSTX/GUZnEDfTzaT5W6+njzv5spJ8wkR5urXDXQ6qypolNw/Og5lDurlyHnXmAvCfBqMOaOrSKOrCGooDPR2sp7rpizngggS/c1IROOmhedECI15IcSA0dvkJ1JO8eftfL6c74aCjms77rGkySvusZMXD+hW8p1M1c1cEH7RT0CDNO0Fw70VcDvvDR2a30UzkzyyAZygerOzU0kb6NFK3625Rifpsmla8uXX54mOI3gSyuwUnhYqJ9FVL82ckk0ghW4qosxdS3QcvOPH06eFp9E3OLi1RR9NoSvJWYlWJI2mxersEyfP2LmNpstWRZSQNezfkJ6dG3r/qzEOgzUDRscGV5BOZkFZp+eQLruPTmdr5LvRiuJqGG9Q6LSeFbNVCcmyKs8LPUtBkUO0gDhGlOOU4mD9wE5QCca8H/T4LH5wc3boNYpGWbYmIJldp5HC6PZ7mh494W7qefu7dQJF1yhaUimdoFcZRVccdj09OuVqaEHTZoh00Ogyi4QspRH0LCOrThXeBzrSnIcWKJ5zpPtAj2cRhXAVFyUGMRKjmg5PDgSdWncaPiaI3hOFXwe/jvfYVO2HFkjAe17V64FOhkZbT8UtCFngMrgYFmp7Qufz65Po8PKIMzbH3h86lQBVc3hBUIDXxr3/ZUHSy1wQ/LfiJLp0kbSZluLhoZNE6ZpEj40tEASoAn0KkxNB0E65Vtc4vhfoXFXMUllaxYGNRmmMrOC4WqGziNNrZq29b3SKEmugJie4wdgCWkQ6aPpIGs3gkNCtFGPg9QW6LmiIlimxKtIacfLrQoJBOqVzIjJzsfJf0y5UMBk8NqQ4p5Dbcpqbm5v4ZV0V/SfL9qRBNIePvk6rtIGuS1CjsZfTqCw0Rxf/zpU0A8YKvS+GZdkZZZQe0wU6ElkKUBrMipwu6QrcZLOsgsSqhdU9yR59fho0cxxLsVScZhmGoRmKZimOYSiOYgK4/3rR0UPUO/SQ9+Jd79DD1Dv0kPfiXXHmzqch7+LV/wWdiCkYxRnm9as7H4SnO9F0AtILSG4kI/rp1S/C06c/JYLOQRWUjBxUMBGiIBdsJqbg1M9BxYWUhQr/44BzUAUpXN1ZVghNwSZiClhxDB+mAky+FbzioWredO80T/0/UBtjWUwuSLgAAAAASUVORK5CYII=)"
   ]
  },
  {
   "attachments": {
    "6e2d9d73-fb9b-468a-ad11-dcdbed013a23.png": {
     "image/png": "[encoded data removed]"
    }
   },
   "cell_type": "markdown",
   "id": "490eeaee-7f57-4516-affb-506f4db0928d",
   "metadata": {},
   "source": [
    "![image.png](attachment:6e2d9d73-fb9b-468a-ad11-dcdbed013a23.png)"
   ]
  },
  {
   "cell_type": "code",
   "execution_count": 54,
   "id": "78a62586-246b-4b56-bfb4-1971e20790a9",
   "metadata": {},
   "outputs": [],
   "source": [
    "from sklearn.metrics import mean_absolute_error , mean_squared_error, r2_score"
   ]
  },
  {
   "cell_type": "code",
   "execution_count": 55,
   "id": "73b57679-720c-48e2-b190-46fa127ab9bd",
   "metadata": {},
   "outputs": [
    {
     "data": {
      "text/plain": [
       "23.548579601674067"
      ]
     },
     "execution_count": 55,
     "metadata": {},
     "output_type": "execute_result"
    }
   ],
   "source": [
    "mean_absolute_error(y_test, predictions2)"
   ]
  },
  {
   "cell_type": "code",
   "execution_count": 56,
   "id": "4a741e3e-8d71-48fe-bdd7-897a86023a2b",
   "metadata": {},
   "outputs": [
    {
     "data": {
      "text/plain": [
       "974.9128425322202"
      ]
     },
     "execution_count": 56,
     "metadata": {},
     "output_type": "execute_result"
    }
   ],
   "source": [
    "mean_squared_error(y_test, predictions2)"
   ]
  },
  {
   "cell_type": "code",
   "execution_count": 58,
   "id": "e9dbb572-7578-4c93-9afc-0a9b1368a506",
   "metadata": {},
   "outputs": [
    {
     "data": {
      "text/plain": [
       "0.7548672123765279"
      ]
     },
     "execution_count": 58,
     "metadata": {},
     "output_type": "execute_result"
    }
   ],
   "source": [
    "r2_score(y_test, predictions2)"
   ]
  },
  {
   "cell_type": "code",
   "execution_count": 61,
   "id": "9b27054c-9996-4ae8-91bc-5b49d8cdeced",
   "metadata": {},
   "outputs": [
    {
     "data": {
      "image/png": "[encoded data removed]",
      "text/plain": [
       "<Figure size 432x288 with 1 Axes>"
      ]
     },
     "metadata": {
      "needs_background": "light"
     },
     "output_type": "display_data"
    }
   ],
   "source": [
    "plt.scatter(x_test.ENGINESIZE, y_test, label='Groundtruth')\n",
    "plt.scatter(x_test.ENGINESIZE, predictions2, label='Prediction')\n",
    "plt.legend()\n",
    "plt.show()"
   ]
  },
  {
   "cell_type": "code",
   "execution_count": null,
   "id": "d48db827-ccec-4594-a288-4f0f97eb7979",
   "metadata": {},
   "outputs": [],
   "source": []
  }
 ],
 "metadata": {
  "kernelspec": {
   "display_name": "Python 3 (ipykernel)",
   "language": "python",
   "name": "python3"
  },
  "language_info": {
   "codemirror_mode": {
    "name": "ipython",
    "version": 3
   },
   "file_extension": ".py",
   "mimetype": "text/x-python",
   "name": "python",
   "nbconvert_exporter": "python",
   "pygments_lexer": "ipython3",
   "version": "3.9.7"
  }
 },
 "nbformat": 4,
 "nbformat_minor": 5
}
