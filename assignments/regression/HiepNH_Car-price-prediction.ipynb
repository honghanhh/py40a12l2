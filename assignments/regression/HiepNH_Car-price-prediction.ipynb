{
 "cells": [
  {
   "cell_type": "markdown",
   "metadata": {},
   "source": [
    "# Assignment 1: How much does your car cost?\n",
    "\n",
    "## Data\n",
    "\n",
    "The retail price of 2005 General Motors cars can be found in `car_data.csv`.\n",
    "\n",
    "**Data Descriptions**:\n",
    "\n",
    "||Features|Descriptions\n",
    "|-|-|-|\n",
    "|1| Price   | suggested retail price of the used 2005 GM car in excellent condition|\n",
    "|2| Mileage | number of miles the car has been driven|\n",
    "|3| Make    | manufacturer of the car such as Saturn, Pontiac, and Chevrolet|\n",
    "|4| Model   | specific models for each car manufacturer such as Ion, Vibe, Cavalier|\n",
    "|5| Trim (of car)| specific type of car model such as SE Sedan 4D, Quad Coupe 2D |         \n",
    "|6| Type    | body type such as sedan, coupe, etc |\n",
    "|7| Cylinder| number of cylinders in the engine    |    \n",
    "|8| Liter   | a more specific measure of engine size|     \n",
    "|9| Doors   | number of doors           |\n",
    "|10| Cruise | indicator variable representing whether the car has cruise control (1 = cruise)|\n",
    "|11| Sound  | indicator variable representing whether the car has upgraded speakers (1 = upgraded)|\n",
    "|12| Leather| indicator variable representing whether the car has leather seats (1 = leather)|"
   ]
  },
  {
   "cell_type": "markdown",
   "metadata": {},
   "source": [
    "#### 1 Import necessary libraries"
   ]
  },
  {
   "cell_type": "code",
   "execution_count": 1,
   "metadata": {},
   "outputs": [],
   "source": [
    "# Libraries to load data\n",
    "import pandas as pd\n",
    "\n",
    "# Libraries to visualize\n",
    "import seaborn as sns\n",
    "import matplotlib.pyplot as plt\n",
    "\n",
    "# Libraries to create and evaluate models\n",
    "from sklearn.linear_model import LinearRegression"
   ]
  },
  {
   "cell_type": "markdown",
   "metadata": {},
   "source": [
    "#### 2. Load the data from csv file to `pandas` dataframe"
   ]
  },
  {
   "cell_type": "code",
   "execution_count": 2,
   "metadata": {},
   "outputs": [],
   "source": [
    "df = pd.read_csv('car_data.csv')"
   ]
  },
  {
   "cell_type": "markdown",
   "metadata": {},
   "source": [
    "#### 3. Inspect the first 5 rows of the dataframe"
   ]
  },
  {
   "cell_type": "code",
   "execution_count": 3,
   "metadata": {},
   "outputs": [
    {
     "data": {
      "text/html": [
       "<div>\n",
       "<style scoped>\n",
       "    .dataframe tbody tr th:only-of-type {\n",
       "        vertical-align: middle;\n",
       "    }\n",
       "\n",
       "    .dataframe tbody tr th {\n",
       "        vertical-align: top;\n",
       "    }\n",
       "\n",
       "    .dataframe thead th {\n",
       "        text-align: right;\n",
       "    }\n",
       "</style>\n",
       "<table border=\"1\" class=\"dataframe\">\n",
       "  <thead>\n",
       "    <tr style=\"text-align: right;\">\n",
       "      <th></th>\n",
       "      <th>Price</th>\n",
       "      <th>Mileage</th>\n",
       "      <th>Make</th>\n",
       "      <th>Model</th>\n",
       "      <th>Trim</th>\n",
       "      <th>Type</th>\n",
       "      <th>Cylinder</th>\n",
       "      <th>Liter</th>\n",
       "      <th>Doors</th>\n",
       "      <th>Cruise</th>\n",
       "      <th>Sound</th>\n",
       "      <th>Leather</th>\n",
       "    </tr>\n",
       "  </thead>\n",
       "  <tbody>\n",
       "    <tr>\n",
       "      <th>0</th>\n",
       "      <td>17314.103129</td>\n",
       "      <td>8221</td>\n",
       "      <td>Buick</td>\n",
       "      <td>Century</td>\n",
       "      <td>Sedan 4D</td>\n",
       "      <td>Sedan</td>\n",
       "      <td>6</td>\n",
       "      <td>3.1</td>\n",
       "      <td>4</td>\n",
       "      <td>1</td>\n",
       "      <td>1</td>\n",
       "      <td>1</td>\n",
       "    </tr>\n",
       "    <tr>\n",
       "      <th>1</th>\n",
       "      <td>17542.036083</td>\n",
       "      <td>9135</td>\n",
       "      <td>Buick</td>\n",
       "      <td>Century</td>\n",
       "      <td>Sedan 4D</td>\n",
       "      <td>Sedan</td>\n",
       "      <td>6</td>\n",
       "      <td>3.1</td>\n",
       "      <td>4</td>\n",
       "      <td>1</td>\n",
       "      <td>1</td>\n",
       "      <td>0</td>\n",
       "    </tr>\n",
       "    <tr>\n",
       "      <th>2</th>\n",
       "      <td>16218.847862</td>\n",
       "      <td>13196</td>\n",
       "      <td>Buick</td>\n",
       "      <td>Century</td>\n",
       "      <td>Sedan 4D</td>\n",
       "      <td>Sedan</td>\n",
       "      <td>6</td>\n",
       "      <td>3.1</td>\n",
       "      <td>4</td>\n",
       "      <td>1</td>\n",
       "      <td>1</td>\n",
       "      <td>0</td>\n",
       "    </tr>\n",
       "    <tr>\n",
       "      <th>3</th>\n",
       "      <td>16336.913140</td>\n",
       "      <td>16342</td>\n",
       "      <td>Buick</td>\n",
       "      <td>Century</td>\n",
       "      <td>Sedan 4D</td>\n",
       "      <td>Sedan</td>\n",
       "      <td>6</td>\n",
       "      <td>3.1</td>\n",
       "      <td>4</td>\n",
       "      <td>1</td>\n",
       "      <td>0</td>\n",
       "      <td>0</td>\n",
       "    </tr>\n",
       "    <tr>\n",
       "      <th>4</th>\n",
       "      <td>16339.170324</td>\n",
       "      <td>19832</td>\n",
       "      <td>Buick</td>\n",
       "      <td>Century</td>\n",
       "      <td>Sedan 4D</td>\n",
       "      <td>Sedan</td>\n",
       "      <td>6</td>\n",
       "      <td>3.1</td>\n",
       "      <td>4</td>\n",
       "      <td>1</td>\n",
       "      <td>0</td>\n",
       "      <td>1</td>\n",
       "    </tr>\n",
       "  </tbody>\n",
       "</table>\n",
       "</div>"
      ],
      "text/plain": [
       "          Price  Mileage   Make    Model      Trim   Type  Cylinder  Liter  \\\n",
       "0  17314.103129     8221  Buick  Century  Sedan 4D  Sedan         6    3.1   \n",
       "1  17542.036083     9135  Buick  Century  Sedan 4D  Sedan         6    3.1   \n",
       "2  16218.847862    13196  Buick  Century  Sedan 4D  Sedan         6    3.1   \n",
       "3  16336.913140    16342  Buick  Century  Sedan 4D  Sedan         6    3.1   \n",
       "4  16339.170324    19832  Buick  Century  Sedan 4D  Sedan         6    3.1   \n",
       "\n",
       "   Doors  Cruise  Sound  Leather  \n",
       "0      4       1      1        1  \n",
       "1      4       1      1        0  \n",
       "2      4       1      1        0  \n",
       "3      4       1      0        0  \n",
       "4      4       1      0        1  "
      ]
     },
     "execution_count": 3,
     "metadata": {},
     "output_type": "execute_result"
    }
   ],
   "source": [
    "df.head()"
   ]
  },
  {
   "cell_type": "markdown",
   "metadata": {},
   "source": [
    "#### 4. Check the number of rows and columns"
   ]
  },
  {
   "cell_type": "code",
   "execution_count": 4,
   "metadata": {},
   "outputs": [
    {
     "data": {
      "text/plain": [
       "(804, 12)"
      ]
     },
     "execution_count": 4,
     "metadata": {},
     "output_type": "execute_result"
    }
   ],
   "source": [
    "df.shape"
   ]
  },
  {
   "cell_type": "markdown",
   "metadata": {},
   "source": [
    "#### 5. Get some information about the dataset via `.info()`"
   ]
  },
  {
   "cell_type": "code",
   "execution_count": 5,
   "metadata": {},
   "outputs": [
    {
     "name": "stdout",
     "output_type": "stream",
     "text": [
      "<class 'pandas.core.frame.DataFrame'>\n",
      "RangeIndex: 804 entries, 0 to 803\n",
      "Data columns (total 12 columns):\n",
      " #   Column    Non-Null Count  Dtype  \n",
      "---  ------    --------------  -----  \n",
      " 0   Price     804 non-null    float64\n",
      " 1   Mileage   804 non-null    int64  \n",
      " 2   Make      804 non-null    object \n",
      " 3   Model     804 non-null    object \n",
      " 4   Trim      804 non-null    object \n",
      " 5   Type      804 non-null    object \n",
      " 6   Cylinder  804 non-null    int64  \n",
      " 7   Liter     804 non-null    float64\n",
      " 8   Doors     804 non-null    int64  \n",
      " 9   Cruise    804 non-null    int64  \n",
      " 10  Sound     804 non-null    int64  \n",
      " 11  Leather   804 non-null    int64  \n",
      "dtypes: float64(2), int64(6), object(4)\n",
      "memory usage: 75.5+ KB\n"
     ]
    }
   ],
   "source": [
    "df.info()"
   ]
  },
  {
   "cell_type": "markdown",
   "metadata": {},
   "source": [
    "#### 6. Check number of missing values per columns"
   ]
  },
  {
   "cell_type": "code",
   "execution_count": 6,
   "metadata": {},
   "outputs": [
    {
     "data": {
      "text/plain": [
       "Price       0\n",
       "Mileage     0\n",
       "Make        0\n",
       "Model       0\n",
       "Trim        0\n",
       "Type        0\n",
       "Cylinder    0\n",
       "Liter       0\n",
       "Doors       0\n",
       "Cruise      0\n",
       "Sound       0\n",
       "Leather     0\n",
       "dtype: int64"
      ]
     },
     "execution_count": 6,
     "metadata": {},
     "output_type": "execute_result"
    }
   ],
   "source": [
    "df.isna().sum()"
   ]
  },
  {
   "cell_type": "markdown",
   "metadata": {},
   "source": [
    "#### 7. Get table of distributions each features and visualize this distribution."
   ]
  },
  {
   "cell_type": "code",
   "execution_count": 7,
   "metadata": {},
   "outputs": [
    {
     "data": {
      "text/html": [
       "<div>\n",
       "<style scoped>\n",
       "    .dataframe tbody tr th:only-of-type {\n",
       "        vertical-align: middle;\n",
       "    }\n",
       "\n",
       "    .dataframe tbody tr th {\n",
       "        vertical-align: top;\n",
       "    }\n",
       "\n",
       "    .dataframe thead th {\n",
       "        text-align: right;\n",
       "    }\n",
       "</style>\n",
       "<table border=\"1\" class=\"dataframe\">\n",
       "  <thead>\n",
       "    <tr style=\"text-align: right;\">\n",
       "      <th></th>\n",
       "      <th>Price</th>\n",
       "      <th>Mileage</th>\n",
       "      <th>Cylinder</th>\n",
       "      <th>Liter</th>\n",
       "      <th>Doors</th>\n",
       "      <th>Cruise</th>\n",
       "      <th>Sound</th>\n",
       "      <th>Leather</th>\n",
       "    </tr>\n",
       "  </thead>\n",
       "  <tbody>\n",
       "    <tr>\n",
       "      <th>count</th>\n",
       "      <td>804.000000</td>\n",
       "      <td>804.000000</td>\n",
       "      <td>804.000000</td>\n",
       "      <td>804.000000</td>\n",
       "      <td>804.000000</td>\n",
       "      <td>804.000000</td>\n",
       "      <td>804.000000</td>\n",
       "      <td>804.000000</td>\n",
       "    </tr>\n",
       "    <tr>\n",
       "      <th>mean</th>\n",
       "      <td>21343.143767</td>\n",
       "      <td>19831.934080</td>\n",
       "      <td>5.268657</td>\n",
       "      <td>3.037313</td>\n",
       "      <td>3.527363</td>\n",
       "      <td>0.752488</td>\n",
       "      <td>0.679104</td>\n",
       "      <td>0.723881</td>\n",
       "    </tr>\n",
       "    <tr>\n",
       "      <th>std</th>\n",
       "      <td>9884.852801</td>\n",
       "      <td>8196.319707</td>\n",
       "      <td>1.387531</td>\n",
       "      <td>1.105562</td>\n",
       "      <td>0.850169</td>\n",
       "      <td>0.431836</td>\n",
       "      <td>0.467111</td>\n",
       "      <td>0.447355</td>\n",
       "    </tr>\n",
       "    <tr>\n",
       "      <th>min</th>\n",
       "      <td>8638.930895</td>\n",
       "      <td>266.000000</td>\n",
       "      <td>4.000000</td>\n",
       "      <td>1.600000</td>\n",
       "      <td>2.000000</td>\n",
       "      <td>0.000000</td>\n",
       "      <td>0.000000</td>\n",
       "      <td>0.000000</td>\n",
       "    </tr>\n",
       "    <tr>\n",
       "      <th>25%</th>\n",
       "      <td>14273.073870</td>\n",
       "      <td>14623.500000</td>\n",
       "      <td>4.000000</td>\n",
       "      <td>2.200000</td>\n",
       "      <td>4.000000</td>\n",
       "      <td>1.000000</td>\n",
       "      <td>0.000000</td>\n",
       "      <td>0.000000</td>\n",
       "    </tr>\n",
       "    <tr>\n",
       "      <th>50%</th>\n",
       "      <td>18024.995019</td>\n",
       "      <td>20913.500000</td>\n",
       "      <td>6.000000</td>\n",
       "      <td>2.800000</td>\n",
       "      <td>4.000000</td>\n",
       "      <td>1.000000</td>\n",
       "      <td>1.000000</td>\n",
       "      <td>1.000000</td>\n",
       "    </tr>\n",
       "    <tr>\n",
       "      <th>75%</th>\n",
       "      <td>26717.316636</td>\n",
       "      <td>25213.000000</td>\n",
       "      <td>6.000000</td>\n",
       "      <td>3.800000</td>\n",
       "      <td>4.000000</td>\n",
       "      <td>1.000000</td>\n",
       "      <td>1.000000</td>\n",
       "      <td>1.000000</td>\n",
       "    </tr>\n",
       "    <tr>\n",
       "      <th>max</th>\n",
       "      <td>70755.466717</td>\n",
       "      <td>50387.000000</td>\n",
       "      <td>8.000000</td>\n",
       "      <td>6.000000</td>\n",
       "      <td>4.000000</td>\n",
       "      <td>1.000000</td>\n",
       "      <td>1.000000</td>\n",
       "      <td>1.000000</td>\n",
       "    </tr>\n",
       "  </tbody>\n",
       "</table>\n",
       "</div>"
      ],
      "text/plain": [
       "              Price       Mileage    Cylinder       Liter       Doors  \\\n",
       "count    804.000000    804.000000  804.000000  804.000000  804.000000   \n",
       "mean   21343.143767  19831.934080    5.268657    3.037313    3.527363   \n",
       "std     9884.852801   8196.319707    1.387531    1.105562    0.850169   \n",
       "min     8638.930895    266.000000    4.000000    1.600000    2.000000   \n",
       "25%    14273.073870  14623.500000    4.000000    2.200000    4.000000   \n",
       "50%    18024.995019  20913.500000    6.000000    2.800000    4.000000   \n",
       "75%    26717.316636  25213.000000    6.000000    3.800000    4.000000   \n",
       "max    70755.466717  50387.000000    8.000000    6.000000    4.000000   \n",
       "\n",
       "           Cruise       Sound     Leather  \n",
       "count  804.000000  804.000000  804.000000  \n",
       "mean     0.752488    0.679104    0.723881  \n",
       "std      0.431836    0.467111    0.447355  \n",
       "min      0.000000    0.000000    0.000000  \n",
       "25%      1.000000    0.000000    0.000000  \n",
       "50%      1.000000    1.000000    1.000000  \n",
       "75%      1.000000    1.000000    1.000000  \n",
       "max      1.000000    1.000000    1.000000  "
      ]
     },
     "execution_count": 7,
     "metadata": {},
     "output_type": "execute_result"
    }
   ],
   "source": [
    "df.describe()"
   ]
  },
  {
   "cell_type": "markdown",
   "metadata": {},
   "source": [
    "#### 8. Visualize correlation coefficient between features and label."
   ]
  },
  {
   "cell_type": "code",
   "execution_count": 8,
   "metadata": {},
   "outputs": [
    {
     "data": {
      "image/png": "[encoded data removed]",
      "text/plain": [
       "<Figure size 432x288 with 2 Axes>"
      ]
     },
     "metadata": {
      "needs_background": "light"
     },
     "output_type": "display_data"
    }
   ],
   "source": [
    "sns.heatmap(df.corr(), annot = True, linewidths = 0.01, linecolor = 'black')\n",
    "plt.show()"
   ]
  },
  {
   "cell_type": "markdown",
   "metadata": {},
   "source": [
    "#### 9. Split the dataset into train and test set with ratio 90:10 with random seeds of 42."
   ]
  },
  {
   "cell_type": "code",
   "execution_count": 9,
   "metadata": {},
   "outputs": [],
   "source": [
    "from sklearn.linear_model import LinearRegression"
   ]
  },
  {
   "cell_type": "code",
   "execution_count": 10,
   "metadata": {},
   "outputs": [
    {
     "data": {
      "text/plain": [
       "LinearRegression()"
      ]
     },
     "execution_count": 10,
     "metadata": {},
     "output_type": "execute_result"
    }
   ],
   "source": [
    "model = LinearRegression()\n",
    "model.fit(df[['Liter']], df['Price'])"
   ]
  },
  {
   "cell_type": "code",
   "execution_count": 11,
   "metadata": {},
   "outputs": [],
   "source": [
    "from sklearn.model_selection import train_test_split"
   ]
  },
  {
   "cell_type": "code",
   "execution_count": 12,
   "metadata": {},
   "outputs": [],
   "source": [
    "X_train, X_test, y_train, y_test = train_test_split(df[['Liter']], df.Price, test_size = 0.1)"
   ]
  },
  {
   "cell_type": "markdown",
   "metadata": {},
   "source": [
    "#### 10. Find the best combination of factors to predict price with linear regression classifier.\n",
    "\n",
    "E.g:\n",
    "- Use mileage to find the linear regression equation.\n",
    "- Use mileage, cylinders, liters, doors, cruise, sound, and leather to find the linear regression equation."
   ]
  },
  {
   "cell_type": "code",
   "execution_count": 13,
   "metadata": {},
   "outputs": [
    {
     "data": {
      "text/plain": [
       "array([21655.97440199, 21655.97440199, 21655.97440199, 21655.97440199,\n",
       "       21655.97440199, 21655.97440199, 21655.97440199, 21655.97440199,\n",
       "       21655.97440199, 21655.97440199, 24151.1711309 , 24151.1711309 ,\n",
       "       24151.1711309 , 24151.1711309 , 24151.1711309 , 24151.1711309 ,\n",
       "       24151.1711309 , 24151.1711309 , 24151.1711309 , 24151.1711309 ,\n",
       "       24151.1711309 , 24151.1711309 , 24151.1711309 , 24151.1711309 ,\n",
       "       24151.1711309 , 24151.1711309 , 24151.1711309 , 24151.1711309 ,\n",
       "       24151.1711309 , 24151.1711309 , 25149.24982246, 25149.24982246,\n",
       "       25149.24982246, 25149.24982246, 25149.24982246, 25149.24982246,\n",
       "       25149.24982246, 25149.24982246, 25149.24982246, 25149.24982246,\n",
       "       25149.24982246, 25149.24982246, 25149.24982246, 25149.24982246,\n",
       "       25149.24982246, 25149.24982246, 25149.24982246, 25149.24982246,\n",
       "       25149.24982246, 25149.24982246, 25149.24982246, 25149.24982246,\n",
       "       25149.24982246, 25149.24982246, 25149.24982246, 25149.24982246,\n",
       "       25149.24982246, 25149.24982246, 25149.24982246, 25149.24982246,\n",
       "       25149.24982246, 25149.24982246, 25149.24982246, 25149.24982246,\n",
       "       25149.24982246, 25149.24982246, 25149.24982246, 25149.24982246,\n",
       "       25149.24982246, 25149.24982246, 25149.24982246, 25149.24982246,\n",
       "       25149.24982246, 25149.24982246, 25149.24982246, 25149.24982246,\n",
       "       25149.24982246, 25149.24982246, 25149.24982246, 25149.24982246,\n",
       "       34630.9973923 , 34630.9973923 , 34630.9973923 , 34630.9973923 ,\n",
       "       34630.9973923 , 34630.9973923 , 34630.9973923 , 34630.9973923 ,\n",
       "       34630.9973923 , 34630.9973923 , 20158.85636465, 20158.85636465,\n",
       "       20158.85636465, 20158.85636465, 20158.85636465, 20158.85636465,\n",
       "       20158.85636465, 20158.85636465, 20158.85636465, 20158.85636465,\n",
       "       29141.56458871, 29141.56458871, 29141.56458871, 29141.56458871,\n",
       "       29141.56458871, 29141.56458871, 29141.56458871, 29141.56458871,\n",
       "       29141.56458871, 29141.56458871, 29141.56458871, 29141.56458871,\n",
       "       29141.56458871, 29141.56458871, 29141.56458871, 29141.56458871,\n",
       "       29141.56458871, 29141.56458871, 29141.56458871, 29141.56458871,\n",
       "       29141.56458871, 29141.56458871, 29141.56458871, 29141.56458871,\n",
       "       29141.56458871, 29141.56458871, 29141.56458871, 29141.56458871,\n",
       "       29141.56458871, 29141.56458871, 24151.1711309 , 24151.1711309 ,\n",
       "       24151.1711309 , 24151.1711309 , 24151.1711309 , 24151.1711309 ,\n",
       "       24151.1711309 , 24151.1711309 , 24151.1711309 , 24151.1711309 ,\n",
       "       29141.56458871, 29141.56458871, 29141.56458871, 29141.56458871,\n",
       "       29141.56458871, 29141.56458871, 29141.56458871, 29141.56458871,\n",
       "       29141.56458871, 29141.56458871, 29141.56458871, 29141.56458871,\n",
       "       29141.56458871, 29141.56458871, 29141.56458871, 29141.56458871,\n",
       "       29141.56458871, 29141.56458871, 29141.56458871, 29141.56458871,\n",
       "       14170.38421528, 14170.38421528, 14170.38421528, 14170.38421528,\n",
       "       14170.38421528, 14170.38421528, 14170.38421528, 14170.38421528,\n",
       "       14170.38421528, 14170.38421528, 14170.38421528, 14170.38421528,\n",
       "       14170.38421528, 14170.38421528, 14170.38421528, 14170.38421528,\n",
       "       14170.38421528, 14170.38421528, 14170.38421528, 14170.38421528,\n",
       "       14170.38421528, 14170.38421528, 14170.38421528, 14170.38421528,\n",
       "       14170.38421528, 14170.38421528, 14170.38421528, 14170.38421528,\n",
       "       14170.38421528, 14170.38421528, 14170.38421528, 14170.38421528,\n",
       "       14170.38421528, 14170.38421528, 14170.38421528, 14170.38421528,\n",
       "       14170.38421528, 14170.38421528, 14170.38421528, 14170.38421528,\n",
       "       14170.38421528, 14170.38421528, 14170.38421528, 14170.38421528,\n",
       "       14170.38421528, 14170.38421528, 14170.38421528, 14170.38421528,\n",
       "       14170.38421528, 14170.38421528, 14170.38421528, 14170.38421528,\n",
       "       14170.38421528, 14170.38421528, 14170.38421528, 14170.38421528,\n",
       "       14170.38421528, 14170.38421528, 14170.38421528, 14170.38421528,\n",
       "       17164.62028996, 17164.62028996, 17164.62028996, 17164.62028996,\n",
       "       17164.62028996, 17164.62028996, 17164.62028996, 17164.62028996,\n",
       "       17164.62028996, 17164.62028996, 17164.62028996, 17164.62028996,\n",
       "       17164.62028996, 17164.62028996, 17164.62028996, 17164.62028996,\n",
       "       17164.62028996, 17164.62028996, 17164.62028996, 17164.62028996,\n",
       "       17164.62028996, 17164.62028996, 17164.62028996, 17164.62028996,\n",
       "       17164.62028996, 17164.62028996, 17164.62028996, 17164.62028996,\n",
       "       17164.62028996, 17164.62028996, 17164.62028996, 17164.62028996,\n",
       "       17164.62028996, 17164.62028996, 17164.62028996, 17164.62028996,\n",
       "       17164.62028996, 17164.62028996, 17164.62028996, 17164.62028996,\n",
       "       17164.62028996, 17164.62028996, 17164.62028996, 17164.62028996,\n",
       "       17164.62028996, 17164.62028996, 17164.62028996, 17164.62028996,\n",
       "       17164.62028996, 17164.62028996, 17164.62028996, 17164.62028996,\n",
       "       17164.62028996, 17164.62028996, 17164.62028996, 17164.62028996,\n",
       "       17164.62028996, 17164.62028996, 17164.62028996, 17164.62028996,\n",
       "       17164.62028996, 17164.62028996, 17164.62028996, 17164.62028996,\n",
       "       17164.62028996, 17164.62028996, 17164.62028996, 17164.62028996,\n",
       "       17164.62028996, 17164.62028996, 17164.62028996, 17164.62028996,\n",
       "       17164.62028996, 17164.62028996, 17164.62028996, 17164.62028996,\n",
       "       17164.62028996, 17164.62028996, 17164.62028996, 17164.62028996,\n",
       "       17164.62028996, 17164.62028996, 17164.62028996, 17164.62028996,\n",
       "       17164.62028996, 17164.62028996, 17164.62028996, 17164.62028996,\n",
       "       17164.62028996, 17164.62028996, 17164.62028996, 17164.62028996,\n",
       "       17164.62028996, 17164.62028996, 17164.62028996, 17164.62028996,\n",
       "       17164.62028996, 17164.62028996, 17164.62028996, 17164.62028996,\n",
       "       17164.62028996, 17164.62028996, 17164.62028996, 17164.62028996,\n",
       "       17164.62028996, 17164.62028996, 17164.62028996, 17164.62028996,\n",
       "       17164.62028996, 17164.62028996, 17164.62028996, 17164.62028996,\n",
       "       17164.62028996, 17164.62028996, 17164.62028996, 17164.62028996,\n",
       "       17164.62028996, 17164.62028996, 17164.62028996, 17164.62028996,\n",
       "       36128.11542965, 36128.11542965, 36128.11542965, 36128.11542965,\n",
       "       36128.11542965, 36128.11542965, 36128.11542965, 36128.11542965,\n",
       "       36128.11542965, 36128.11542965, 36128.11542965, 36128.11542965,\n",
       "       36128.11542965, 36128.11542965, 36128.11542965, 36128.11542965,\n",
       "       36128.11542965, 36128.11542965, 36128.11542965, 36128.11542965,\n",
       "       25149.24982246, 25149.24982246, 25149.24982246, 25149.24982246,\n",
       "       25149.24982246, 25149.24982246, 25149.24982246, 25149.24982246,\n",
       "       25149.24982246, 25149.24982246, 25149.24982246, 25149.24982246,\n",
       "       25149.24982246, 25149.24982246, 25149.24982246, 25149.24982246,\n",
       "       25149.24982246, 25149.24982246, 25149.24982246, 25149.24982246,\n",
       "       25149.24982246, 25149.24982246, 25149.24982246, 25149.24982246,\n",
       "       25149.24982246, 25149.24982246, 25149.24982246, 25149.24982246,\n",
       "       25149.24982246, 25149.24982246, 23652.13178512, 23652.13178512,\n",
       "       23652.13178512, 23652.13178512, 23652.13178512, 23652.13178512,\n",
       "       23652.13178512, 23652.13178512, 23652.13178512, 23652.13178512,\n",
       "       23652.13178512, 23652.13178512, 23652.13178512, 23652.13178512,\n",
       "       23652.13178512, 23652.13178512, 23652.13178512, 23652.13178512,\n",
       "       23652.13178512, 23652.13178512, 23652.13178512, 23652.13178512,\n",
       "       23652.13178512, 23652.13178512, 23652.13178512, 23652.13178512,\n",
       "       23652.13178512, 23652.13178512, 23652.13178512, 23652.13178512,\n",
       "       23652.13178512, 23652.13178512, 23652.13178512, 23652.13178512,\n",
       "       23652.13178512, 23652.13178512, 23652.13178512, 23652.13178512,\n",
       "       23652.13178512, 23652.13178512, 23652.13178512, 23652.13178512,\n",
       "       23652.13178512, 23652.13178512, 23652.13178512, 23652.13178512,\n",
       "       23652.13178512, 23652.13178512, 23652.13178512, 23652.13178512,\n",
       "       23652.13178512, 23652.13178512, 23652.13178512, 23652.13178512,\n",
       "       23652.13178512, 23652.13178512, 23652.13178512, 23652.13178512,\n",
       "       23652.13178512, 23652.13178512, 25149.24982246, 25149.24982246,\n",
       "       25149.24982246, 25149.24982246, 25149.24982246, 25149.24982246,\n",
       "       25149.24982246, 25149.24982246, 25149.24982246, 25149.24982246,\n",
       "       25149.24982246, 25149.24982246, 25149.24982246, 25149.24982246,\n",
       "       25149.24982246, 25149.24982246, 25149.24982246, 25149.24982246,\n",
       "       25149.24982246, 25149.24982246, 25149.24982246, 25149.24982246,\n",
       "       25149.24982246, 25149.24982246, 25149.24982246, 25149.24982246,\n",
       "       25149.24982246, 25149.24982246, 25149.24982246, 25149.24982246,\n",
       "       29141.56458871, 29141.56458871, 29141.56458871, 29141.56458871,\n",
       "       29141.56458871, 29141.56458871, 29141.56458871, 29141.56458871,\n",
       "       29141.56458871, 29141.56458871, 25149.24982246, 25149.24982246,\n",
       "       25149.24982246, 25149.24982246, 25149.24982246, 25149.24982246,\n",
       "       25149.24982246, 25149.24982246, 25149.24982246, 25149.24982246,\n",
       "       25149.24982246, 25149.24982246, 25149.24982246, 25149.24982246,\n",
       "       25149.24982246, 25149.24982246, 25149.24982246, 25149.24982246,\n",
       "       25149.24982246, 25149.24982246, 23652.13178512, 23652.13178512,\n",
       "       23652.13178512, 23652.13178512, 23652.13178512, 23652.13178512,\n",
       "       23652.13178512, 23652.13178512, 23652.13178512, 23652.13178512,\n",
       "       23652.13178512, 23652.13178512, 23652.13178512, 23652.13178512,\n",
       "       23652.13178512, 23652.13178512, 23652.13178512, 23652.13178512,\n",
       "       23652.13178512, 23652.13178512, 23153.09243934, 23153.09243934,\n",
       "       23153.09243934, 23153.09243934, 23153.09243934, 23153.09243934,\n",
       "       23153.09243934, 23153.09243934, 23153.09243934, 23153.09243934,\n",
       "       17164.62028996, 17164.62028996, 17164.62028996, 17164.62028996,\n",
       "       17164.62028996, 17164.62028996, 17164.62028996, 17164.62028996,\n",
       "       17164.62028996, 17164.62028996, 25149.24982246, 25149.24982246,\n",
       "       25149.24982246, 25149.24982246, 25149.24982246, 25149.24982246,\n",
       "       25149.24982246, 25149.24982246, 25149.24982246, 25149.24982246,\n",
       "       25149.24982246, 25149.24982246, 25149.24982246, 25149.24982246,\n",
       "       25149.24982246, 25149.24982246, 25149.24982246, 25149.24982246,\n",
       "       25149.24982246, 25149.24982246, 25149.24982246, 25149.24982246,\n",
       "       25149.24982246, 25149.24982246, 25149.24982246, 25149.24982246,\n",
       "       25149.24982246, 25149.24982246, 25149.24982246, 25149.24982246,\n",
       "       34630.9973923 , 34630.9973923 , 34630.9973923 , 34630.9973923 ,\n",
       "       34630.9973923 , 34630.9973923 , 34630.9973923 , 34630.9973923 ,\n",
       "       34630.9973923 , 34630.9973923 , 17164.62028996, 17164.62028996,\n",
       "       17164.62028996, 17164.62028996, 17164.62028996, 17164.62028996,\n",
       "       17164.62028996, 17164.62028996, 17164.62028996, 17164.62028996,\n",
       "       15168.46290684, 15168.46290684, 15168.46290684, 15168.46290684,\n",
       "       15168.46290684, 15168.46290684, 15168.46290684, 15168.46290684,\n",
       "       15168.46290684, 15168.46290684, 15168.46290684, 15168.46290684,\n",
       "       15168.46290684, 15168.46290684, 15168.46290684, 15168.46290684,\n",
       "       15168.46290684, 15168.46290684, 15168.46290684, 15168.46290684,\n",
       "       15168.46290684, 15168.46290684, 15168.46290684, 15168.46290684,\n",
       "       15168.46290684, 15168.46290684, 15168.46290684, 15168.46290684,\n",
       "       15168.46290684, 15168.46290684, 16166.5415984 , 16166.5415984 ,\n",
       "       16166.5415984 , 16166.5415984 , 16166.5415984 , 16166.5415984 ,\n",
       "       16166.5415984 , 16166.5415984 , 16166.5415984 , 16166.5415984 ,\n",
       "       16166.5415984 , 16166.5415984 , 16166.5415984 , 16166.5415984 ,\n",
       "       16166.5415984 , 16166.5415984 , 16166.5415984 , 16166.5415984 ,\n",
       "       16166.5415984 , 16166.5415984 , 16166.5415984 , 16166.5415984 ,\n",
       "       16166.5415984 , 16166.5415984 , 16166.5415984 , 16166.5415984 ,\n",
       "       16166.5415984 , 16166.5415984 , 16166.5415984 , 16166.5415984 ,\n",
       "       16166.5415984 , 16166.5415984 , 16166.5415984 , 16166.5415984 ,\n",
       "       16166.5415984 , 16166.5415984 , 16166.5415984 , 16166.5415984 ,\n",
       "       16166.5415984 , 16166.5415984 , 16166.5415984 , 16166.5415984 ,\n",
       "       16166.5415984 , 16166.5415984 , 16166.5415984 , 16166.5415984 ,\n",
       "       16166.5415984 , 16166.5415984 , 16166.5415984 , 16166.5415984 ,\n",
       "       16166.5415984 , 16166.5415984 , 16166.5415984 , 16166.5415984 ,\n",
       "       16166.5415984 , 16166.5415984 , 16166.5415984 , 16166.5415984 ,\n",
       "       16166.5415984 , 16166.5415984 , 17663.65963575, 17663.65963575,\n",
       "       17663.65963575, 17663.65963575, 17663.65963575, 17663.65963575,\n",
       "       17663.65963575, 17663.65963575, 17663.65963575, 17663.65963575,\n",
       "       17663.65963575, 17663.65963575, 17663.65963575, 17663.65963575,\n",
       "       17663.65963575, 17663.65963575, 17663.65963575, 17663.65963575,\n",
       "       17663.65963575, 17663.65963575, 17663.65963575, 17663.65963575,\n",
       "       17663.65963575, 17663.65963575, 17663.65963575, 17663.65963575,\n",
       "       17663.65963575, 17663.65963575, 17663.65963575, 17663.65963575,\n",
       "       17663.65963575, 17663.65963575, 17663.65963575, 17663.65963575,\n",
       "       17663.65963575, 17663.65963575, 17663.65963575, 17663.65963575,\n",
       "       17663.65963575, 17663.65963575, 17663.65963575, 17663.65963575,\n",
       "       17663.65963575, 17663.65963575, 17663.65963575, 17663.65963575,\n",
       "       17663.65963575, 17663.65963575, 17663.65963575, 17663.65963575,\n",
       "       18661.73832731, 18661.73832731, 18661.73832731, 18661.73832731,\n",
       "       17164.62028996, 17164.62028996, 17164.62028996, 17164.62028996,\n",
       "       17164.62028996, 17164.62028996, 17164.62028996, 17164.62028996,\n",
       "       17164.62028996, 17164.62028996, 17164.62028996, 17164.62028996,\n",
       "       17164.62028996, 17164.62028996, 17164.62028996, 17164.62028996,\n",
       "       17164.62028996, 17164.62028996, 17164.62028996, 17164.62028996,\n",
       "       17164.62028996, 17164.62028996, 17164.62028996, 17164.62028996,\n",
       "       17164.62028996, 17164.62028996, 17164.62028996, 17164.62028996,\n",
       "       17164.62028996, 17164.62028996, 17164.62028996, 17164.62028996,\n",
       "       17164.62028996, 17164.62028996, 17164.62028996, 17164.62028996,\n",
       "       17164.62028996, 17164.62028996, 17164.62028996, 17164.62028996,\n",
       "       17164.62028996, 17164.62028996, 17164.62028996, 17164.62028996,\n",
       "       17164.62028996, 17164.62028996, 17164.62028996, 17164.62028996,\n",
       "       17164.62028996, 17164.62028996, 21156.93505621, 21156.93505621,\n",
       "       21156.93505621, 21156.93505621, 21156.93505621, 21156.93505621,\n",
       "       21156.93505621, 21156.93505621, 21156.93505621, 21156.93505621])"
      ]
     },
     "execution_count": 13,
     "metadata": {},
     "output_type": "execute_result"
    }
   ],
   "source": [
    "predictions = model.predict(df[['Liter']])\n",
    "predictions"
   ]
  },
  {
   "cell_type": "code",
   "execution_count": 14,
   "metadata": {},
   "outputs": [
    {
     "data": {
      "text/html": [
       "<div>\n",
       "<style scoped>\n",
       "    .dataframe tbody tr th:only-of-type {\n",
       "        vertical-align: middle;\n",
       "    }\n",
       "\n",
       "    .dataframe tbody tr th {\n",
       "        vertical-align: top;\n",
       "    }\n",
       "\n",
       "    .dataframe thead th {\n",
       "        text-align: right;\n",
       "    }\n",
       "</style>\n",
       "<table border=\"1\" class=\"dataframe\">\n",
       "  <thead>\n",
       "    <tr style=\"text-align: right;\">\n",
       "      <th></th>\n",
       "      <th>Liter</th>\n",
       "    </tr>\n",
       "  </thead>\n",
       "  <tbody>\n",
       "    <tr>\n",
       "      <th>0</th>\n",
       "      <td>21655.974402</td>\n",
       "    </tr>\n",
       "    <tr>\n",
       "      <th>1</th>\n",
       "      <td>21655.974402</td>\n",
       "    </tr>\n",
       "    <tr>\n",
       "      <th>2</th>\n",
       "      <td>21655.974402</td>\n",
       "    </tr>\n",
       "    <tr>\n",
       "      <th>3</th>\n",
       "      <td>21655.974402</td>\n",
       "    </tr>\n",
       "    <tr>\n",
       "      <th>4</th>\n",
       "      <td>21655.974402</td>\n",
       "    </tr>\n",
       "    <tr>\n",
       "      <th>...</th>\n",
       "      <td>...</td>\n",
       "    </tr>\n",
       "    <tr>\n",
       "      <th>799</th>\n",
       "      <td>21156.935056</td>\n",
       "    </tr>\n",
       "    <tr>\n",
       "      <th>800</th>\n",
       "      <td>21156.935056</td>\n",
       "    </tr>\n",
       "    <tr>\n",
       "      <th>801</th>\n",
       "      <td>21156.935056</td>\n",
       "    </tr>\n",
       "    <tr>\n",
       "      <th>802</th>\n",
       "      <td>21156.935056</td>\n",
       "    </tr>\n",
       "    <tr>\n",
       "      <th>803</th>\n",
       "      <td>21156.935056</td>\n",
       "    </tr>\n",
       "  </tbody>\n",
       "</table>\n",
       "<p>804 rows × 1 columns</p>\n",
       "</div>"
      ],
      "text/plain": [
       "            Liter\n",
       "0    21655.974402\n",
       "1    21655.974402\n",
       "2    21655.974402\n",
       "3    21655.974402\n",
       "4    21655.974402\n",
       "..            ...\n",
       "799  21156.935056\n",
       "800  21156.935056\n",
       "801  21156.935056\n",
       "802  21156.935056\n",
       "803  21156.935056\n",
       "\n",
       "[804 rows x 1 columns]"
      ]
     },
     "execution_count": 14,
     "metadata": {},
     "output_type": "execute_result"
    }
   ],
   "source": [
    "predictions1 = model.coef_[0]*df[['Liter']] + model.intercept_\n",
    "predictions1"
   ]
  },
  {
   "cell_type": "code",
   "execution_count": 15,
   "metadata": {},
   "outputs": [
    {
     "data": {
      "text/html": [
       "<div>\n",
       "<style scoped>\n",
       "    .dataframe tbody tr th:only-of-type {\n",
       "        vertical-align: middle;\n",
       "    }\n",
       "\n",
       "    .dataframe tbody tr th {\n",
       "        vertical-align: top;\n",
       "    }\n",
       "\n",
       "    .dataframe thead th {\n",
       "        text-align: right;\n",
       "    }\n",
       "</style>\n",
       "<table border=\"1\" class=\"dataframe\">\n",
       "  <thead>\n",
       "    <tr style=\"text-align: right;\">\n",
       "      <th></th>\n",
       "      <th>auto</th>\n",
       "      <th>manual</th>\n",
       "    </tr>\n",
       "  </thead>\n",
       "  <tbody>\n",
       "    <tr>\n",
       "      <th>0</th>\n",
       "      <td>21655.974402</td>\n",
       "      <td>21655.974402</td>\n",
       "    </tr>\n",
       "    <tr>\n",
       "      <th>1</th>\n",
       "      <td>21655.974402</td>\n",
       "      <td>21655.974402</td>\n",
       "    </tr>\n",
       "    <tr>\n",
       "      <th>2</th>\n",
       "      <td>21655.974402</td>\n",
       "      <td>21655.974402</td>\n",
       "    </tr>\n",
       "    <tr>\n",
       "      <th>3</th>\n",
       "      <td>21655.974402</td>\n",
       "      <td>21655.974402</td>\n",
       "    </tr>\n",
       "    <tr>\n",
       "      <th>4</th>\n",
       "      <td>21655.974402</td>\n",
       "      <td>21655.974402</td>\n",
       "    </tr>\n",
       "    <tr>\n",
       "      <th>...</th>\n",
       "      <td>...</td>\n",
       "      <td>...</td>\n",
       "    </tr>\n",
       "    <tr>\n",
       "      <th>799</th>\n",
       "      <td>21156.935056</td>\n",
       "      <td>21156.935056</td>\n",
       "    </tr>\n",
       "    <tr>\n",
       "      <th>800</th>\n",
       "      <td>21156.935056</td>\n",
       "      <td>21156.935056</td>\n",
       "    </tr>\n",
       "    <tr>\n",
       "      <th>801</th>\n",
       "      <td>21156.935056</td>\n",
       "      <td>21156.935056</td>\n",
       "    </tr>\n",
       "    <tr>\n",
       "      <th>802</th>\n",
       "      <td>21156.935056</td>\n",
       "      <td>21156.935056</td>\n",
       "    </tr>\n",
       "    <tr>\n",
       "      <th>803</th>\n",
       "      <td>21156.935056</td>\n",
       "      <td>21156.935056</td>\n",
       "    </tr>\n",
       "  </tbody>\n",
       "</table>\n",
       "<p>804 rows × 2 columns</p>\n",
       "</div>"
      ],
      "text/plain": [
       "             auto        manual\n",
       "0    21655.974402  21655.974402\n",
       "1    21655.974402  21655.974402\n",
       "2    21655.974402  21655.974402\n",
       "3    21655.974402  21655.974402\n",
       "4    21655.974402  21655.974402\n",
       "..            ...           ...\n",
       "799  21156.935056  21156.935056\n",
       "800  21156.935056  21156.935056\n",
       "801  21156.935056  21156.935056\n",
       "802  21156.935056  21156.935056\n",
       "803  21156.935056  21156.935056\n",
       "\n",
       "[804 rows x 2 columns]"
      ]
     },
     "execution_count": 15,
     "metadata": {},
     "output_type": "execute_result"
    }
   ],
   "source": [
    "pd.DataFrame({'auto': predictions,\n",
    "             'manual': predictions1.Liter.to_list()})"
   ]
  },
  {
   "cell_type": "code",
   "execution_count": 16,
   "metadata": {},
   "outputs": [
    {
     "data": {
      "text/plain": [
       "LinearRegression()"
      ]
     },
     "execution_count": 16,
     "metadata": {},
     "output_type": "execute_result"
    }
   ],
   "source": [
    "model = LinearRegression()\n",
    "model.fit(X_train, y_train)"
   ]
  },
  {
   "cell_type": "code",
   "execution_count": 17,
   "metadata": {},
   "outputs": [],
   "source": [
    "predictions2 = model.predict(X_test)"
   ]
  },
  {
   "cell_type": "code",
   "execution_count": 18,
   "metadata": {},
   "outputs": [
    {
     "data": {
      "text/html": [
       "<div>\n",
       "<style scoped>\n",
       "    .dataframe tbody tr th:only-of-type {\n",
       "        vertical-align: middle;\n",
       "    }\n",
       "\n",
       "    .dataframe tbody tr th {\n",
       "        vertical-align: top;\n",
       "    }\n",
       "\n",
       "    .dataframe thead th {\n",
       "        text-align: right;\n",
       "    }\n",
       "</style>\n",
       "<table border=\"1\" class=\"dataframe\">\n",
       "  <thead>\n",
       "    <tr style=\"text-align: right;\">\n",
       "      <th></th>\n",
       "      <th>prediction</th>\n",
       "      <th>groundtruth</th>\n",
       "    </tr>\n",
       "  </thead>\n",
       "  <tbody>\n",
       "    <tr>\n",
       "      <th>685</th>\n",
       "      <td>16094.532857</td>\n",
       "      <td>26789.832608</td>\n",
       "    </tr>\n",
       "    <tr>\n",
       "      <th>458</th>\n",
       "      <td>25108.616079</td>\n",
       "      <td>15797.195760</td>\n",
       "    </tr>\n",
       "    <tr>\n",
       "      <th>714</th>\n",
       "      <td>17596.880061</td>\n",
       "      <td>31153.008960</td>\n",
       "    </tr>\n",
       "    <tr>\n",
       "      <th>715</th>\n",
       "      <td>17596.880061</td>\n",
       "      <td>31084.937607</td>\n",
       "    </tr>\n",
       "    <tr>\n",
       "      <th>218</th>\n",
       "      <td>14091.403252</td>\n",
       "      <td>8870.947316</td>\n",
       "    </tr>\n",
       "    <tr>\n",
       "      <th>...</th>\n",
       "      <td>...</td>\n",
       "      <td>...</td>\n",
       "    </tr>\n",
       "    <tr>\n",
       "      <th>115</th>\n",
       "      <td>29114.875289</td>\n",
       "      <td>37215.169383</td>\n",
       "    </tr>\n",
       "    <tr>\n",
       "      <th>660</th>\n",
       "      <td>16094.532857</td>\n",
       "      <td>26841.080835</td>\n",
       "    </tr>\n",
       "    <tr>\n",
       "      <th>738</th>\n",
       "      <td>17596.880061</td>\n",
       "      <td>27788.813239</td>\n",
       "    </tr>\n",
       "    <tr>\n",
       "      <th>359</th>\n",
       "      <td>36125.828906</td>\n",
       "      <td>31186.741463</td>\n",
       "    </tr>\n",
       "    <tr>\n",
       "      <th>365</th>\n",
       "      <td>25108.616079</td>\n",
       "      <td>18912.981598</td>\n",
       "    </tr>\n",
       "  </tbody>\n",
       "</table>\n",
       "<p>81 rows × 2 columns</p>\n",
       "</div>"
      ],
      "text/plain": [
       "       prediction   groundtruth\n",
       "685  16094.532857  26789.832608\n",
       "458  25108.616079  15797.195760\n",
       "714  17596.880061  31153.008960\n",
       "715  17596.880061  31084.937607\n",
       "218  14091.403252   8870.947316\n",
       "..            ...           ...\n",
       "115  29114.875289  37215.169383\n",
       "660  16094.532857  26841.080835\n",
       "738  17596.880061  27788.813239\n",
       "359  36125.828906  31186.741463\n",
       "365  25108.616079  18912.981598\n",
       "\n",
       "[81 rows x 2 columns]"
      ]
     },
     "execution_count": 18,
     "metadata": {},
     "output_type": "execute_result"
    }
   ],
   "source": [
    "pd.DataFrame({'prediction': predictions2,\n",
    "             'groundtruth': y_test})"
   ]
  },
  {
   "cell_type": "markdown",
   "metadata": {},
   "source": [
    "#### 11. Evaluate your model performance using R-squared Error."
   ]
  },
  {
   "cell_type": "code",
   "execution_count": 19,
   "metadata": {},
   "outputs": [],
   "source": [
    "from sklearn.metrics import mean_absolute_error, mean_squared_error, r2_score"
   ]
  },
  {
   "cell_type": "code",
   "execution_count": 20,
   "metadata": {},
   "outputs": [
    {
     "data": {
      "text/plain": [
       "0.28471678700774583"
      ]
     },
     "execution_count": 20,
     "metadata": {},
     "output_type": "execute_result"
    }
   ],
   "source": [
    "r2_score(y_test, predictions2)"
   ]
  },
  {
   "cell_type": "markdown",
   "metadata": {},
   "source": [
    "#### 12. Visualize the actual prices and predicted prices of the test set."
   ]
  },
  {
   "cell_type": "code",
   "execution_count": 21,
   "metadata": {},
   "outputs": [
    {
     "data": {
      "image/png": "[encoded data removed]",
      "text/plain": [
       "<Figure size 432x288 with 1 Axes>"
      ]
     },
     "metadata": {
      "needs_background": "light"
     },
     "output_type": "display_data"
    }
   ],
   "source": [
    "plt.scatter(X_test.Liter, y_test, label = 'Groundtruth')\n",
    "plt.scatter(X_test.Liter, predictions2, label = 'Prediction')\n",
    "\n",
    "plt.legend()\n",
    "plt.show()"
   ]
  },
  {
   "cell_type": "code",
   "execution_count": null,
   "metadata": {},
   "outputs": [],
   "source": []
  }
 ],
 "metadata": {
  "kernelspec": {
   "display_name": "Python 3",
   "language": "python",
   "name": "python3"
  },
  "language_info": {
   "codemirror_mode": {
    "name": "ipython",
    "version": 3
   },
   "file_extension": ".py",
   "mimetype": "text/x-python",
   "name": "python",
   "nbconvert_exporter": "python",
   "pygments_lexer": "ipython3",
   "version": "3.8.8"
  }
 },
 "nbformat": 4,
 "nbformat_minor": 4
}
