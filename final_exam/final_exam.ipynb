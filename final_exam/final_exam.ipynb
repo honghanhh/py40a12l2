{
 "cells": [
  {
   "cell_type": "markdown",
   "metadata": {
    "id": "11RzNwBRvU_I"
   },
   "source": [
    "## Phát hiện gian lận trong giao dịch và thanh toán\n",
    "\n",
    "Gian lận trong giao dịch và thanh toán là 1 vấn đề nhức nhối trong ngân hàng và các tổ chức cũng như các quỹ lưu thông tài chính. Từ mối quan ngại này, phát hiện gian lận hay fraud detection trở thành 1 đề tài nóng hổi với nhiều sự cái tiến để có thể phát hiện cũng như giảm thiểu các trường hợp gian lận.\n",
    "\n",
    "![](https://www.lifeinsuranceinternational.com/wp-content/uploads/sites/8/2021/09/fraud-prevention-3188092_1920.jpg)\n",
    "\n",
    "Để giúp các bạn bước đầu tiếp xúc với dữ liệu thực tế, trong bài tập cuối khoá này, chúng ta sẽ cùng nhau phân tích 6362620 bản ghi được trích xuất từ log lưu trữ các giao dịch trong 1 ngân hàng đã được lưu trong file `Fraud_logs.zip` với các trường thông tin như sau:\n",
    "\n",
    "|**Columns**|**Meaning**|\n",
    "|-|-|\n",
    "| `step` | Maps a unit of time in the real world. In this case 1 step is 1 hour of time. Total steps 744 (30 days simulation).\n",
    "| `type` | CASH-IN, CASH-OUT, DEBIT, PAYMENT and TRANSFER.|\n",
    "|`amount` | Amount of the transaction in local currency.|\n",
    "|`nameOrig` | Customer who started the transaction.|\n",
    "| `oldbalanceOrg` | Initial balance before the transaction.|\n",
    "| `newbalanceOrig` | New balance after the transaction.|\n",
    "| `nameDest` | Customer who is the recipient of the transaction.|\n",
    "| `oldbalanceDest` | Initial balance recipient before the transaction. Note that there is not information for customers that start with M (Merchants).|\n",
    "| `newbalanceDest` | New balance recipient after the transaction. Note that there is not information for customers that start with M (Merchants).|\n",
    "| `isFraud` |This is the transactions made by the fraudulent agents inside the simulation. In this specific dataset the fraudulent behavior of the agents aims to profit by taking control or customers accounts and try to empty the funds by transferring to another account and then cashing out of the system.|\n",
    "|`isFlaggedFraud` | The business model aims to control massive transfers from one account to another and flags illegal attempts. An illegal attempt in this dataset is an attempt to transfer more than 200.000 in a single transaction.|\n",
    "\n",
    "Các bạn có thể tải file `Fraud_logs.zip` tại [đây](https://onedrive.live.com/?authkey=%21AO%2DVswbtMi0M73M&id=C6CB1FED4E11A01B%2133218&cid=C6CB1FED4E11A01B).\n",
    "## Mục tiêu bài tập cuối khoá\n",
    "### 1. **Phân tích dữ liệu để tìm ra các mối tương quan, mối liên hệ giữa các đặc trưng và nhãn dự đoán**.\n",
    "- **Gợi ý**: Đánh giá tốc độ giao dịch_khác biệt về thời gian giữa giao dịch hiện tại và giao dịch trước đó, đánh giá sự khác biệt về số tiền, giá trị giao dịch và số lượng giao dịch trong một thời gian ngắn, giá trị giao dịch so với số dư bắt đầu (hoặc ngược lại, số dư còn lại/số dư ban đầu)...\n",
    "\n",
    "### 2. **Trực quan hoá các mối tương quan các bạn tìm ra**.\n",
    "- **Gợi ý**: Tận dụng thư viện Matplotlib và Seaborn để trực quan hoá các mối tương quan cũng như đánh giá phân bố của các đặc trưng và giữa các nhãn, ...\n",
    "\n",
    "### 3. **Chọn lọc và xây dựng bộ đặc trưng**.\n",
    "- **Gợi ý**: Khi chọn bộ đặc trưng lưu ý chuẩn hoá dữ liệu về cũng 1 scale và xử lí các vấn đề dữ liệu như missing value, outliers, ...\n",
    "\n",
    "### 4. **Xây dựng mô hình dự đoán với các yêu cầu sau**:\n",
    "- Chia dữ liệu theo tỉ lệ 70% train và 30% test với random seed = 42.\n",
    "    - **Gợi ý**: Với 70% tập train các bạn hoàn toàn có thể thử nghiệm với cross validation, chia train validation để tăng độ khái quát hoá của mô hình..\n",
    "- Mô hình: Các bạn có thể thử nghiệm với nhiều loại mô hình khác nhau bao gồm mô hình tuyến tính như Linear Regression, phi tuyến tính như SVM, Decision Trees, Random Forest, và Deep Learning\n",
    "- Mục tiêu đầu ra: **F1-score >= 0.8**"
   ]
  }
 ],
 "metadata": {
  "colab": {
   "name": "lecture_10_inclass.ipynb",
   "provenance": []
  },
  "kernelspec": {
   "display_name": "Python 3",
   "language": "python",
   "name": "python3"
  },
  "language_info": {
   "codemirror_mode": {
    "name": "ipython",
    "version": 3
   },
   "file_extension": ".py",
   "mimetype": "text/x-python",
   "name": "python",
   "nbconvert_exporter": "python",
   "pygments_lexer": "ipython3",
   "version": "3.8.11"
  }
 },
 "nbformat": 4,
 "nbformat_minor": 4
}
